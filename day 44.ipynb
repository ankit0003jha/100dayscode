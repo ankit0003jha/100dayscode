{
 "cells": [
  {
   "cell_type": "markdown",
   "metadata": {},
   "source": [
    "## Series AP"
   ]
  },
  {
   "cell_type": "code",
   "execution_count": 2,
   "metadata": {},
   "outputs": [
    {
     "data": {
      "text/plain": [
       "5"
      ]
     },
     "execution_count": 2,
     "metadata": {},
     "output_type": "execute_result"
    }
   ],
   "source": [
    "class Solution:\n",
    "    def nthTermOfAP(self,A1,A2,N):\n",
    "        d = A2 - A1\n",
    "        n = A1 + (N-1)*d\n",
    "        return n\n",
    "sol = Solution()\n",
    "sol.nthTermOfAP(2,3,4)"
   ]
  },
  {
   "cell_type": "markdown",
   "metadata": {},
   "source": [
    "## Series GP"
   ]
  },
  {
   "cell_type": "code",
   "execution_count": 5,
   "metadata": {},
   "outputs": [
    {
     "data": {
      "text/plain": [
       "16"
      ]
     },
     "execution_count": 5,
     "metadata": {},
     "output_type": "execute_result"
    }
   ],
   "source": [
    "import math\n",
    "class Solution:\n",
    "    def Nth_term(self, a, r, n):\n",
    "        return( a * int(math.pow(r, n - 1)))   ## (a + r**(n-1)) \n",
    "sol = Solution()\n",
    "sol.Nth_term(2,2,4)"
   ]
  },
  {
   "cell_type": "markdown",
   "metadata": {},
   "source": [
    "## Closest Number"
   ]
  },
  {
   "cell_type": "code",
   "execution_count": 9,
   "metadata": {},
   "outputs": [
    {
     "data": {
      "text/plain": [
       "12"
      ]
     },
     "execution_count": 9,
     "metadata": {},
     "output_type": "execute_result"
    }
   ],
   "source": [
    "## Lets see the algorithm used.\n",
    "\n",
    "def closet_number(n,m):\n",
    "    q=int(n//m)\n",
    "    n1=m*q\n",
    "    if (n*m)>0:\n",
    "        n2=m*(q+1)\n",
    "    else:\n",
    "        n2=m*(q-1)\n",
    "    if abs(n-n1)<abs(n-n2):\n",
    "        return n1\n",
    "    return n2\n",
    "closet_number(13,4)"
   ]
  },
  {
   "cell_type": "code",
   "execution_count": null,
   "metadata": {},
   "outputs": [],
   "source": []
  }
 ],
 "metadata": {
  "kernelspec": {
   "display_name": "Python 3",
   "language": "python",
   "name": "python3"
  },
  "language_info": {
   "codemirror_mode": {
    "name": "ipython",
    "version": 3
   },
   "file_extension": ".py",
   "mimetype": "text/x-python",
   "name": "python",
   "nbconvert_exporter": "python",
   "pygments_lexer": "ipython3",
   "version": "3.7.6"
  }
 },
 "nbformat": 4,
 "nbformat_minor": 4
}
