{
 "cells": [
  {
   "cell_type": "markdown",
   "id": "b243d3ce",
   "metadata": {},
   "source": [
    "## Two Sum"
   ]
  },
  {
   "cell_type": "code",
   "execution_count": 5,
   "id": "f45b6755",
   "metadata": {},
   "outputs": [
    {
     "data": {
      "text/plain": [
       "[0, 1]"
      ]
     },
     "execution_count": 5,
     "metadata": {},
     "output_type": "execute_result"
    }
   ],
   "source": [
    "class Solution:\n",
    "    def twoSum(self, nums, target):\n",
    "        l=len(nums)\n",
    "        sol=[]\n",
    "        for i in range(l):\n",
    "            for j in range(i+1,l):\n",
    "                if nums[i]+nums[j]==target:\n",
    "                    sol.append(i)\n",
    "                    sol.append(j)\n",
    "        return sol\n",
    "    \n",
    "sols=Solution()\n",
    "nums = [2,7,11,15]\n",
    "target = 9\n",
    "sols.twoSum(nums,target)"
   ]
  },
  {
   "cell_type": "code",
   "execution_count": 7,
   "id": "52e31262",
   "metadata": {},
   "outputs": [
    {
     "data": {
      "text/plain": [
       "(0, 1)"
      ]
     },
     "execution_count": 7,
     "metadata": {},
     "output_type": "execute_result"
    }
   ],
   "source": [
    "class Solution:\n",
    "    def twoSum(self, nums, target):\n",
    "        i = 0\n",
    "        while i<len(nums):\n",
    "            required = target-nums[i]\n",
    "            try:\n",
    "                second = nums.index(required, i+1)\n",
    "                break\n",
    "            except ValueError:\n",
    "                i+=1\n",
    "                \n",
    "        return (i, second)\n",
    "    \n",
    "sols=Solution()\n",
    "nums = [2,7,11,15]\n",
    "target = 9\n",
    "sols.twoSum(nums,target)"
   ]
  },
  {
   "cell_type": "code",
   "execution_count": null,
   "id": "d4c1c201",
   "metadata": {},
   "outputs": [],
   "source": []
  },
  {
   "cell_type": "code",
   "execution_count": null,
   "id": "7d9dbd04",
   "metadata": {},
   "outputs": [],
   "source": []
  }
 ],
 "metadata": {
  "kernelspec": {
   "display_name": "Python 3",
   "language": "python",
   "name": "python3"
  },
  "language_info": {
   "codemirror_mode": {
    "name": "ipython",
    "version": 3
   },
   "file_extension": ".py",
   "mimetype": "text/x-python",
   "name": "python",
   "nbconvert_exporter": "python",
   "pygments_lexer": "ipython3",
   "version": "3.8.8"
  }
 },
 "nbformat": 4,
 "nbformat_minor": 5
}
