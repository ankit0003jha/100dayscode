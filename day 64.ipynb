{
 "cells": [
  {
   "cell_type": "markdown",
   "id": "a6db298e",
   "metadata": {},
   "source": [
    "## Valid Parentheses"
   ]
  },
  {
   "cell_type": "markdown",
   "id": "14a2a82a",
   "metadata": {},
   "source": [
    "Given a string s containing just the characters '(', ')', '{', '}', '[' and ']', determine if the input string is valid.\n",
    "\n",
    "An input string is valid if:\n",
    "\n",
    "Open brackets must be closed by the same type of brackets.\n",
    "Open brackets must be closed in the correct order."
   ]
  },
  {
   "cell_type": "markdown",
   "id": "80e607d4",
   "metadata": {},
   "source": [
    "# Example 1:\n",
    "Input: s = \"()[]{}\"\n",
    "\n",
    "Output: true\n",
    "    \n",
    "# Example 2:\n",
    "Input: s = \"(]\"\n",
    "\n",
    "Output: false\n",
    "\n",
    "# Example 3:\n",
    "Input: s = \"([)]\"\n",
    "\n",
    "Output: false"
   ]
  },
  {
   "cell_type": "code",
   "execution_count": 4,
   "id": "2e38a628",
   "metadata": {},
   "outputs": [
    {
     "data": {
      "text/plain": [
       "True"
      ]
     },
     "execution_count": 4,
     "metadata": {},
     "output_type": "execute_result"
    }
   ],
   "source": [
    "class Solution:\n",
    "    def isValid(self, s):\n",
    "\n",
    "        if len(s) % 2:  # odd number of brackets\n",
    "            return False\n",
    "\n",
    "        closed = {'(': ')', '{': '}', '[': ']'}\n",
    "        stack = ['']  # adding one element so that stack is empty error don't occur\n",
    "\n",
    "        for bracket in s:\n",
    "\n",
    "            if bracket in closed.keys():  # closed.keys() -> opened\n",
    "                stack.append(closed[bracket])\n",
    "\n",
    "            elif bracket != stack.pop():\n",
    "                return False\n",
    "\n",
    "        return stack == ['']\n",
    "    \n",
    "sol = Solution()\n",
    "sol.isValid(\"([])\")"
   ]
  },
  {
   "cell_type": "code",
   "execution_count": null,
   "id": "819efc52",
   "metadata": {},
   "outputs": [],
   "source": [
    "stack = ['']"
   ]
  },
  {
   "cell_type": "code",
   "execution_count": null,
   "id": "f2681972",
   "metadata": {},
   "outputs": [],
   "source": []
  },
  {
   "cell_type": "code",
   "execution_count": null,
   "id": "7f8f2641",
   "metadata": {},
   "outputs": [],
   "source": []
  },
  {
   "cell_type": "code",
   "execution_count": null,
   "id": "556aaa5b",
   "metadata": {},
   "outputs": [],
   "source": []
  },
  {
   "cell_type": "code",
   "execution_count": null,
   "id": "50ff045a",
   "metadata": {},
   "outputs": [],
   "source": []
  }
 ],
 "metadata": {
  "kernelspec": {
   "display_name": "Python 3",
   "language": "python",
   "name": "python3"
  },
  "language_info": {
   "codemirror_mode": {
    "name": "ipython",
    "version": 3
   },
   "file_extension": ".py",
   "mimetype": "text/x-python",
   "name": "python",
   "nbconvert_exporter": "python",
   "pygments_lexer": "ipython3",
   "version": "3.8.8"
  }
 },
 "nbformat": 4,
 "nbformat_minor": 5
}
