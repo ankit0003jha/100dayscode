{
 "cells": [
  {
   "cell_type": "markdown",
   "id": "0db0713b",
   "metadata": {},
   "source": [
    "#  Search Insert Position"
   ]
  },
  {
   "cell_type": "markdown",
   "id": "a3f8381f",
   "metadata": {},
   "source": [
    "Given a sorted array of distinct integers and a target value, return the index if the target is found. If not, return the index where it would be if it were inserted in order.\n",
    "\n",
    "You must write an algorithm with O(log n) runtime complexity."
   ]
  },
  {
   "cell_type": "markdown",
   "id": "3dd22d48",
   "metadata": {},
   "source": [
    "# Example 1:\n",
    "\n",
    "Input: nums = [1,3,5,6], target = 5\n",
    "    \n",
    "Output: 2\n",
    "    \n",
    "# Example 2:\n",
    "\n",
    "Input: nums = [1,3,5,6], target = 2\n",
    "    \n",
    "Output: 1\n",
    "    \n",
    "# Example 3:\n",
    "\n",
    "Input: nums = [1,3,5,6], target = 7\n",
    "    \n",
    "Output: 4\n",
    "    \n",
    "# Example 4:\n",
    "\n",
    "Input: nums = [1,3,5,6], target = 0\n",
    "    \n",
    "Output: 0\n",
    "    \n",
    "#Example 5:\n",
    "\n",
    "Input: nums = [1], target = 0\n",
    "    \n",
    "Output: 0"
   ]
  },
  {
   "cell_type": "code",
   "execution_count": 1,
   "id": "06d0960a",
   "metadata": {},
   "outputs": [],
   "source": [
    "nums = [1,3,5,6]\n",
    "target = 6\n",
    "\n",
    "\n",
    "mid = len(nums)//2\n",
    "start = 0\n",
    "end = mid\n",
    "\n",
    "for i in range(start,end):\n",
    "    if nums[mid] == target:\n",
    "        print(mid)\n",
    "        break\n",
    "    elif nums[mid] > target:\n",
    "        end = mid - 1 \n",
    "    else:\n",
    "        start = mid + 1"
   ]
  },
  {
   "cell_type": "code",
   "execution_count": 3,
   "id": "4e1b1f59",
   "metadata": {},
   "outputs": [
    {
     "data": {
      "text/plain": [
       "1"
      ]
     },
     "execution_count": 3,
     "metadata": {},
     "output_type": "execute_result"
    }
   ],
   "source": [
    "def search(nums, target):\n",
    "    low = 0\n",
    "    high = len(nums)-1\n",
    "    mid=0\n",
    "    while low <= high:\n",
    "        mid = (low+high)//2\n",
    "        if target == nums[mid]:\n",
    "            return mid\n",
    "        elif target > nums[mid]:\n",
    "            low = mid + 1 \n",
    "        else:\n",
    "            high = mid - 1\n",
    "    return 1\n",
    "            \n",
    "search([1,3,5,6],2)"
   ]
  },
  {
   "cell_type": "code",
   "execution_count": null,
   "id": "901b74bf",
   "metadata": {},
   "outputs": [],
   "source": []
  },
  {
   "cell_type": "code",
   "execution_count": null,
   "id": "50019499",
   "metadata": {},
   "outputs": [],
   "source": []
  }
 ],
 "metadata": {
  "kernelspec": {
   "display_name": "Python 3",
   "language": "python",
   "name": "python3"
  },
  "language_info": {
   "codemirror_mode": {
    "name": "ipython",
    "version": 3
   },
   "file_extension": ".py",
   "mimetype": "text/x-python",
   "name": "python",
   "nbconvert_exporter": "python",
   "pygments_lexer": "ipython3",
   "version": "3.8.8"
  }
 },
 "nbformat": 4,
 "nbformat_minor": 5
}
