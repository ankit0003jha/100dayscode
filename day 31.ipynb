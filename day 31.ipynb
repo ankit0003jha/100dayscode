{
 "cells": [
  {
   "cell_type": "markdown",
   "metadata": {},
   "source": [
    "## Split a String in Balanced Strings"
   ]
  },
  {
   "cell_type": "code",
   "execution_count": null,
   "metadata": {},
   "outputs": [],
   "source": [
    "class Solution:\n",
    "    def balancedStringSplit(self, s: str) -> int:\n",
    "        L_count =  R_count = W_count = 0\n",
    "        for i in s:\n",
    "            if i == \"L\":\n",
    "                L_count += 1\n",
    "            else:\n",
    "                R_count += 1\n",
    "            if L_count == R_count:\n",
    "                W_count += 1\n",
    "        return W_count\n",
    "    \n",
    "sol = Solution()\n",
    "sol.balancedStringSplit(\"RLRRLLRLRL\")"
   ]
  },
  {
   "cell_type": "markdown",
   "metadata": {},
   "source": [
    "##  Sorting the Sentence"
   ]
  },
  {
   "cell_type": "code",
   "execution_count": 130,
   "metadata": {},
   "outputs": [
    {
     "data": {
      "text/plain": [
       "'This is a sentence'"
      ]
     },
     "execution_count": 130,
     "metadata": {},
     "output_type": "execute_result"
    }
   ],
   "source": [
    "def sortSentence(s: str) -> str:\n",
    "        k = s.split()\n",
    "        new = [None] * len(k)\n",
    "        for i in k:\n",
    "            new[int(i[-1]) - 1] = i[: -1]\n",
    "        return ' '.join(new)\n",
    "    \n",
    "\n",
    "sortSentence( \"is2 sentence4 This1 a3\")"
   ]
  },
  {
   "cell_type": "markdown",
   "metadata": {},
   "source": [
    "## Maximum Nesting Depth of the Parentheses"
   ]
  },
  {
   "cell_type": "code",
   "execution_count": 165,
   "metadata": {},
   "outputs": [
    {
     "data": {
      "text/plain": [
       "3"
      ]
     },
     "execution_count": 165,
     "metadata": {},
     "output_type": "execute_result"
    }
   ],
   "source": [
    "class Solution:\n",
    "    def maxDepth(self, s: str) -> int:\n",
    "        count = 0 \n",
    "        list1 = [0]\n",
    "        for i in s:\n",
    "            if i == \"(\":\n",
    "                count += 1\n",
    "                list1.append(count)\n",
    "            if i == \")\":\n",
    "                count -= 1\n",
    "                list1.append(count)\n",
    "        return max(list1)\n",
    "    \n",
    "    \n",
    "sol= Solution()\n",
    "sol.maxDepth(\"(1+(2*3)+((8)/4))+1\")"
   ]
  },
  {
   "cell_type": "code",
   "execution_count": 172,
   "metadata": {},
   "outputs": [],
   "source": [
    "a=set(\"thequickbrownfoxjumpsoverthelazydog\")\n"
   ]
  },
  {
   "cell_type": "code",
   "execution_count": 177,
   "metadata": {},
   "outputs": [
    {
     "data": {
      "text/plain": [
       "26"
      ]
     },
     "execution_count": 177,
     "metadata": {},
     "output_type": "execute_result"
    }
   ],
   "source": [
    "len(a)"
   ]
  },
  {
   "cell_type": "code",
   "execution_count": 176,
   "metadata": {},
   "outputs": [
    {
     "data": {
      "text/plain": [
       "26"
      ]
     },
     "execution_count": 176,
     "metadata": {},
     "output_type": "execute_result"
    }
   ],
   "source": [
    "count"
   ]
  },
  {
   "cell_type": "markdown",
   "metadata": {},
   "source": [
    "## checkIfPangram"
   ]
  },
  {
   "cell_type": "code",
   "execution_count": 179,
   "metadata": {},
   "outputs": [
    {
     "name": "stdout",
     "output_type": "stream",
     "text": [
      "\"leetcode\"\n",
      "{'\"', 'c', 'e', 'o', 'd', 'l', 't'}\n",
      "6\n"
     ]
    },
    {
     "data": {
      "text/plain": [
       "'false'"
      ]
     },
     "execution_count": 179,
     "metadata": {},
     "output_type": "execute_result"
    }
   ],
   "source": [
    "class Solution:\n",
    "    def checkIfPangram(self, sentence: str) -> bool:\n",
    "        alphabets =('abcdefghijklmnopqrstuvwxyz')\n",
    "        count = 0\n",
    "        k = set(sentence)\n",
    "        print(k)\n",
    "        for i in k:\n",
    "            if i in alphabets:\n",
    "                count += 1\n",
    "        print(count)\n",
    "        if count == 26:\n",
    "            return \"true\"\n",
    "        else:\n",
    "            return \"false\"\n",
    "        \n",
    "sol = Solution()\n",
    "sentence = input()\n",
    "sol.checkIfPangram(sentence)"
   ]
  },
  {
   "cell_type": "code",
   "execution_count": null,
   "metadata": {},
   "outputs": [],
   "source": []
  }
 ],
 "metadata": {
  "kernelspec": {
   "display_name": "Python 3",
   "language": "python",
   "name": "python3"
  },
  "language_info": {
   "codemirror_mode": {
    "name": "ipython",
    "version": 3
   },
   "file_extension": ".py",
   "mimetype": "text/x-python",
   "name": "python",
   "nbconvert_exporter": "python",
   "pygments_lexer": "ipython3",
   "version": "3.7.6"
  }
 },
 "nbformat": 4,
 "nbformat_minor": 4
}
