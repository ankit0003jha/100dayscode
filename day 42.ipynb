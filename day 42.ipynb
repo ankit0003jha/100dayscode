{
 "cells": [
  {
   "cell_type": "markdown",
   "metadata": {},
   "source": [
    "## Odd Even Problem"
   ]
  },
  {
   "cell_type": "code",
   "execution_count": 14,
   "metadata": {},
   "outputs": [
    {
     "name": "stdout",
     "output_type": "stream",
     "text": [
      "ODD\n"
     ]
    }
   ],
   "source": [
    "#s = \"wtospvrntcebcz\"\n",
    "s = \"aaabbc\"\n",
    "X = 0\n",
    "Y = 0\n",
    "S = set(s)\n",
    "for i in S:\n",
    "    ordd = ord(i)-96\n",
    "    if ordd % 2 == 0:\n",
    "        count = s.count(i)\n",
    "        if count % 2 == 0:\n",
    "            X += 1\n",
    "    else:\n",
    "        count = s.count(i)\n",
    "        if count % 2 != 0:\n",
    "            Y +=1\n",
    "            \n",
    "ans = X + Y\n",
    "if ans % 2 == 0:\n",
    "    print(\"EVEN\")\n",
    "else:\n",
    "    print(\"ODD\")\n",
    "            \n",
    "    "
   ]
  },
  {
   "cell_type": "code",
   "execution_count": 11,
   "metadata": {},
   "outputs": [],
   "source": [
    "class Node:\n",
    "    def __init__(self,data):\n",
    "        self.data = data\n",
    "        self.ref = None\n",
    "        \n",
    "class linked_list:\n",
    "    def __init__(self):\n",
    "        self.head = None\n",
    "        \n",
    "    def transverse(self):\n",
    "        if self.head is None:\n",
    "            print(\"linked-list is empty\")\n",
    "        else:\n",
    "            n=self.head\n",
    "            while n is not None:\n",
    "                print(n.data,\"--->\",end=\"\")\n",
    "                n=n.ref\n",
    "                \n",
    "    def add(self,data):\n",
    "        new_node = Node(data)\n",
    "        new_node.ref = self.head\n",
    "        self.head = new_node"
   ]
  },
  {
   "cell_type": "code",
   "execution_count": 13,
   "metadata": {},
   "outputs": [
    {
     "name": "stdout",
     "output_type": "stream",
     "text": [
      "30 --->20 --->10 --->"
     ]
    }
   ],
   "source": [
    "l1 = linked_list()\n",
    "l1.add(10)\n",
    "l1.add(20)\n",
    "l1.add(30)\n",
    "l1.transverse()"
   ]
  },
  {
   "cell_type": "code",
   "execution_count": null,
   "metadata": {},
   "outputs": [],
   "source": []
  }
 ],
 "metadata": {
  "kernelspec": {
   "display_name": "Python 3",
   "language": "python",
   "name": "python3"
  },
  "language_info": {
   "codemirror_mode": {
    "name": "ipython",
    "version": 3
   },
   "file_extension": ".py",
   "mimetype": "text/x-python",
   "name": "python",
   "nbconvert_exporter": "python",
   "pygments_lexer": "ipython3",
   "version": "3.7.6"
  }
 },
 "nbformat": 4,
 "nbformat_minor": 4
}
