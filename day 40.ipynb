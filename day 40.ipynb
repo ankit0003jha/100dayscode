{
 "cells": [
  {
   "cell_type": "markdown",
   "metadata": {},
   "source": [
    "## Longest substring"
   ]
  },
  {
   "cell_type": "code",
   "execution_count": 40,
   "metadata": {},
   "outputs": [
    {
     "name": "stdout",
     "output_type": "stream",
     "text": [
      "2\n"
     ]
    }
   ],
   "source": [
    "s=\"dvdf\"\n",
    "new=\"\"\n",
    "list1=[]\n",
    "for i in s:\n",
    "    if i not in new:\n",
    "        new+=i\n",
    "    else:\n",
    "        list1.append(len(new))\n",
    "        new=\"\"\n",
    "        new+=i\n",
    "    \n",
    "\n",
    "print(max(list1))\n"
   ]
  },
  {
   "cell_type": "markdown",
   "metadata": {},
   "source": [
    "## Print Matrix in snake Pattern"
   ]
  },
  {
   "cell_type": "code",
   "execution_count": 14,
   "metadata": {},
   "outputs": [
    {
     "name": "stdout",
     "output_type": "stream",
     "text": [
      "0 1 2 3 3 2 1 0 0 1 2 3 3 2 1 0 \n",
      "\n",
      "[[0, 1, 2, 3], [0, 1, 2, 3], [0, 1, 2, 3], [0, 1, 2, 3]]\n"
     ]
    }
   ],
   "source": [
    "N=4\n",
    "matrix=[]\n",
    "for i in range(N):\n",
    "    matrix.append([])\n",
    "    for j in range(N):\n",
    "        matrix[i].append(j)\n",
    "        \n",
    "\n",
    "    if i % 2 == 0:\n",
    "        for j in range(N):\n",
    "            print(str(matrix[i][j]),end=\" \")\n",
    "\n",
    "\n",
    "\n",
    "    else:\n",
    "        for j in range(N-1,-1,-1):\n",
    "            print(str(matrix[i][j]),end=\" \")\n",
    "        \n",
    "print(\"\\n\")        \n",
    "print(matrix)\n",
    "        \n"
   ]
  }
 ],
 "metadata": {
  "kernelspec": {
   "display_name": "Python 3",
   "language": "python",
   "name": "python3"
  },
  "language_info": {
   "codemirror_mode": {
    "name": "ipython",
    "version": 3
   },
   "file_extension": ".py",
   "mimetype": "text/x-python",
   "name": "python",
   "nbconvert_exporter": "python",
   "pygments_lexer": "ipython3",
   "version": "3.7.6"
  }
 },
 "nbformat": 4,
 "nbformat_minor": 4
}
