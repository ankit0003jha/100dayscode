{
 "cells": [
  {
   "cell_type": "markdown",
   "metadata": {},
   "source": [
    "# Minion Game"
   ]
  },
  {
   "cell_type": "code",
   "execution_count": null,
   "metadata": {},
   "outputs": [],
   "source": [
    "def minion_game(string):\n",
    "    Vowels = \"AEIOU\"\n",
    "    stuart_score = 0\n",
    "    Kevin_score = 0 \n",
    "    length = len(string)\n",
    "    for indx in range(length):\n",
    "        score = length - indx\n",
    "        if string[indx] in Vowels:\n",
    "            kevin_score =+ score\n",
    "        else:\n",
    "            stuart_score =+ score\n",
    "    \n",
    "    if kevin_score == staurt_score:\n",
    "        print(\"match draw\")\n",
    "    elif kevin_score > staurt_score:\n",
    "        print(\"Kevin\" , kevin_score)\n",
    "    else:\n",
    "        print(\"Stuart\" , stuart_score)\n",
    "        \n",
    "if __name__ == '__main__':\n",
    "    s = input()\n",
    "    minion_game(s)"
   ]
  },
  {
   "cell_type": "markdown",
   "metadata": {},
   "source": [
    "# Substring and set question"
   ]
  },
  {
   "cell_type": "code",
   "execution_count": 124,
   "metadata": {},
   "outputs": [],
   "source": [
    "a = 'AABCAAADA'\n",
    "b= len(a)/3\n",
    "k=0\n",
    "lst = []\n",
    "strings=str()\n",
    "for i in range(1,len(a)+1):\n",
    "        if i%b==0:\n",
    "            j=i\n",
    "            a1 = a[k:j]\n",
    "            lst.append(a1)\n",
    "            k=j"
   ]
  },
  {
   "cell_type": "code",
   "execution_count": 125,
   "metadata": {},
   "outputs": [
    {
     "data": {
      "text/plain": [
       "['AAB', 'CAA', 'ADA']"
      ]
     },
     "execution_count": 125,
     "metadata": {},
     "output_type": "execute_result"
    }
   ],
   "source": [
    "lst"
   ]
  },
  {
   "cell_type": "code",
   "execution_count": 135,
   "metadata": {},
   "outputs": [
    {
     "name": "stdout",
     "output_type": "stream",
     "text": [
      "{'B', 'A'}\n",
      "{'C', 'A'}\n",
      "{'D', 'A'}\n"
     ]
    }
   ],
   "source": [
    "l1=[]\n",
    "for i in lst:\n",
    "    print(set(i))\n",
    "    \n",
    "        "
   ]
  },
  {
   "cell_type": "code",
   "execution_count": 132,
   "metadata": {},
   "outputs": [
    {
     "data": {
      "text/plain": [
       "['A', 'B', 'C', 'D']"
      ]
     },
     "execution_count": 132,
     "metadata": {},
     "output_type": "execute_result"
    }
   ],
   "source": [
    "l1"
   ]
  },
  {
   "cell_type": "markdown",
   "metadata": {},
   "source": [
    "# fibonacci update"
   ]
  },
  {
   "cell_type": "code",
   "execution_count": 139,
   "metadata": {},
   "outputs": [
    {
     "name": "stdout",
     "output_type": "stream",
     "text": [
      "5\n"
     ]
    }
   ],
   "source": [
    "a=0\n",
    "b=1\n",
    "n=5\n",
    "for i in range(2,n):\n",
    "    c=a+b**2\n",
    "    a=b\n",
    "    b=c\n",
    "print(c)"
   ]
  },
  {
   "cell_type": "markdown",
   "metadata": {},
   "source": [
    "# How to use Re.split()"
   ]
  },
  {
   "cell_type": "code",
   "execution_count": 176,
   "metadata": {},
   "outputs": [],
   "source": [
    "import re\n",
    "a='100,000,000.000'\n",
    "b =re.split(\"[.,]\",a)\n"
   ]
  },
  {
   "cell_type": "code",
   "execution_count": 179,
   "metadata": {},
   "outputs": [
    {
     "name": "stdout",
     "output_type": "stream",
     "text": [
      "100\n",
      "000\n",
      "000\n",
      "000\n"
     ]
    }
   ],
   "source": [
    "for i in b:\n",
    "    print(i)"
   ]
  },
  {
   "cell_type": "markdown",
   "metadata": {},
   "source": [
    "# How to store key and value in dict()"
   ]
  },
  {
   "cell_type": "code",
   "execution_count": 7,
   "metadata": {},
   "outputs": [
    {
     "name": "stdout",
     "output_type": "stream",
     "text": [
      "ss\n",
      "3\n",
      "ss3\n",
      "3\n",
      "sss3\n",
      "3\n"
     ]
    }
   ],
   "source": [
    "dict1={}\n",
    "for i in range(3):\n",
    "    name = input()\n",
    "    score = float(input())\n",
    "    key=name\n",
    "    value=score\n",
    "    dict1[key]=value\n",
    "\n",
    "    \n",
    "    "
   ]
  },
  {
   "cell_type": "code",
   "execution_count": 8,
   "metadata": {},
   "outputs": [
    {
     "data": {
      "text/plain": [
       "{'ss': 3.0, 'ss3': 3.0, 'sss3': 3.0}"
      ]
     },
     "execution_count": 8,
     "metadata": {},
     "output_type": "execute_result"
    }
   ],
   "source": [
    "dict1\n"
   ]
  },
  {
   "cell_type": "code",
   "execution_count": 54,
   "metadata": {},
   "outputs": [
    {
     "ename": "TypeError",
     "evalue": "dict expected at most 1 arguments, got 3",
     "output_type": "error",
     "traceback": [
      "\u001b[1;31m---------------------------------------------------------------------------\u001b[0m",
      "\u001b[1;31mTypeError\u001b[0m                                 Traceback (most recent call last)",
      "\u001b[1;32m<ipython-input-54-7c0931d7626b>\u001b[0m in \u001b[0;36m<module>\u001b[1;34m\u001b[0m\n\u001b[1;32m----> 1\u001b[1;33m \u001b[1;32mclass\u001b[0m \u001b[0mmy_dictionary\u001b[0m\u001b[1;33m(\u001b[0m\u001b[0mdict\u001b[0m\u001b[1;33m)\u001b[0m\u001b[1;33m:\u001b[0m\u001b[1;33m\u001b[0m\u001b[1;33m\u001b[0m\u001b[0m\n\u001b[0m\u001b[0;32m      2\u001b[0m \u001b[1;33m\u001b[0m\u001b[0m\n\u001b[0;32m      3\u001b[0m     \u001b[1;31m# __init__ function\u001b[0m\u001b[1;33m\u001b[0m\u001b[1;33m\u001b[0m\u001b[1;33m\u001b[0m\u001b[0m\n\u001b[0;32m      4\u001b[0m     \u001b[1;32mdef\u001b[0m \u001b[0m__init__\u001b[0m\u001b[1;33m(\u001b[0m\u001b[0mself\u001b[0m\u001b[1;33m,\u001b[0m\u001b[0mkey\u001b[0m\u001b[1;33m,\u001b[0m\u001b[0mvalue\u001b[0m\u001b[1;33m)\u001b[0m\u001b[1;33m:\u001b[0m\u001b[1;33m\u001b[0m\u001b[1;33m\u001b[0m\u001b[0m\n\u001b[0;32m      5\u001b[0m         \u001b[0mself\u001b[0m \u001b[1;33m=\u001b[0m \u001b[0mdict\u001b[0m\u001b[1;33m(\u001b[0m\u001b[1;33m)\u001b[0m\u001b[1;33m\u001b[0m\u001b[1;33m\u001b[0m\u001b[0m\n",
      "\u001b[1;31mTypeError\u001b[0m: dict expected at most 1 arguments, got 3"
     ]
    }
   ],
   "source": [
    "class my_dictionary(dict): \n",
    "  \n",
    "    # __init__ function \n",
    "    def __init__(self,key,value): \n",
    "        self = dict() \n",
    "          \n",
    "    # Function to add key:value \n",
    "    def add(self, key, value): \n",
    "        self[key] = value \n",
    "  \n",
    "# Main Function \n",
    "dict_obj = my_dictionary() \n",
    "  \n",
    "    \n",
    "# Taking input key = 1, value = Geek\n",
    "dict_obj.add(dict_obj.key, dict_obj.value) \n",
    "dict_obj.key = 2\n",
    "dict_obj.value = \"geeks\"\n",
    "\n",
    "\n",
    "  \n",
    "print(dict_obj) "
   ]
  },
  {
   "cell_type": "code",
   "execution_count": 22,
   "metadata": {},
   "outputs": [
    {
     "name": "stdout",
     "output_type": "stream",
     "text": [
      "[[('ankit', 'raja'), (33, 44)], [('ankit', 'raja'), (33, 44)], [('ankit', 'raja'), (33, 44)]]\n"
     ]
    }
   ],
   "source": [
    "# Using above first method to create a\n",
    "# 2D array\n",
    "rows, cols = (3, 1)\n",
    "for i in range(3):\n",
    "    name = ('ankit','raja')\n",
    "    score = (33,44)\n",
    "arr = [[name, score]*cols]*rows\n",
    "print(arr)\n"
   ]
  },
  {
   "cell_type": "code",
   "execution_count": 45,
   "metadata": {},
   "outputs": [
    {
     "name": "stdout",
     "output_type": "stream",
     "text": [
      "ank\n",
      "4\n",
      "dd\n",
      "4\n",
      "dd\n",
      "4\n",
      "[[['ank', 'dd', 'dd'], [4.0, 4.0, 4.0]]]\n"
     ]
    }
   ],
   "source": [
    "# Using above second method to create a\n",
    "# 2D array\n",
    "rows, cols = (1, 3)\n",
    "col = []\n",
    "row = []\n",
    "arr=[[col, row]*1]*1\n",
    "for i in range(rows):\n",
    "    for j in range(cols):\n",
    "        name=input()\n",
    "        score=float(input())\n",
    "        col.append(name)\n",
    "        row.append(score)\n",
    "    \n",
    "print(arr)\n"
   ]
  },
  {
   "cell_type": "code",
   "execution_count": 26,
   "metadata": {},
   "outputs": [
    {
     "name": "stdout",
     "output_type": "stream",
     "text": [
      "3\n",
      "bcdef\n",
      "shvss\n",
      "bcdef\n",
      "2\n",
      "2 1 "
     ]
    }
   ],
   "source": [
    "lists = []\n",
    "add=[]\n",
    "count = 0\n",
    "a = int(input())\n",
    "for i in range(a):\n",
    "    b = input()\n",
    "    lists.append(b)\n",
    "l = set(lists) \n",
    "for i in l:\n",
    "    count += 1\n",
    "print(count)\n",
    "for i in lists:\n",
    "    if i not in add:\n",
    "        add.append(i)\n",
    "        v = lists.count(i)\n",
    "        print(v,end=\" \")\n",
    "lists.clear()\n",
    "add.clear()\n",
    "    "
   ]
  },
  {
   "cell_type": "code",
   "execution_count": 24,
   "metadata": {},
   "outputs": [],
   "source": [
    "lists=[2,3,4]\n",
    "lists.clear()"
   ]
  },
  {
   "cell_type": "code",
   "execution_count": 32,
   "metadata": {},
   "outputs": [
    {
     "data": {
      "text/plain": [
       "[7]"
      ]
     },
     "execution_count": 32,
     "metadata": {},
     "output_type": "execute_result"
    }
   ],
   "source": [
    "n=[2,3,4,7]\n",
    "n[-1:]"
   ]
  },
  {
   "cell_type": "code",
   "execution_count": 52,
   "metadata": {},
   "outputs": [
    {
     "name": "stdout",
     "output_type": "stream",
     "text": [
      "False\n"
     ]
    }
   ],
   "source": [
    "n=[1,2,3,8,7]\n",
    "if n[0:1]  > n[1:2] or n[-1:] > n[-2:-1]:\n",
    "    print(True)\n",
    "else:\n",
    "    print(False)"
   ]
  },
  {
   "cell_type": "code",
   "execution_count": 46,
   "metadata": {},
   "outputs": [
    {
     "data": {
      "text/plain": [
       "[2]"
      ]
     },
     "execution_count": 46,
     "metadata": {},
     "output_type": "execute_result"
    }
   ],
   "source": [
    "n[1:2]"
   ]
  },
  {
   "cell_type": "code",
   "execution_count": 2,
   "metadata": {},
   "outputs": [
    {
     "name": "stdout",
     "output_type": "stream",
     "text": [
      "2\n",
      "6\n",
      "4\n",
      "3\n",
      "2\n",
      "1\n",
      "3\n",
      "4\n",
      "Yes\n",
      "3\n",
      "1\n",
      "3\n",
      "2\n",
      "No\n"
     ]
    }
   ],
   "source": [
    "T = int(input())\n",
    "n=[]\n",
    "for i in range(T):\n",
    "    N = int(input())\n",
    "    for i in range(N):\n",
    "        a = input()\n",
    "        n.append(a)\n",
    "    if n[0:1]  > n[1:2] or n[-1:] > n[-2:-1]:\n",
    "        print(\"Yes\")\n",
    "        n.clear()\n",
    "    else:\n",
    "        print(\"No\")\n",
    "        n.clear()"
   ]
  },
  {
   "cell_type": "code",
   "execution_count": 1,
   "metadata": {},
   "outputs": [
    {
     "name": "stdout",
     "output_type": "stream",
     "text": [
      "2\n",
      "6\n",
      "4 3 2 1 3 4\n",
      "['4']\n",
      "Yes\n",
      "3\n",
      "1 3 2\n",
      "['1']\n",
      "No\n"
     ]
    }
   ],
   "source": [
    "T = int(input())\n",
    "for i in range(T):\n",
    "    n = int(input())\n",
    "    block = input().split()\n",
    "    print(block[0:1])\n",
    "    if block[0:1] > block[1:2] or block[-1:] > block[-2:-1]:\n",
    "        print(\"Yes\")\n",
    "    else:\n",
    "        print(\"No\")\n"
   ]
  },
  {
   "cell_type": "code",
   "execution_count": null,
   "metadata": {},
   "outputs": [],
   "source": [
    "\n",
    "import sys\n",
    "for _ in range(int(input())):    \n",
    "    n=int(input())\n",
    "    List=[sys.maxsize]  #Base element of List (for comparison)\n",
    "    List+=list(map(int,input().split()))        \n",
    "    i=1         \n",
    "    j=len(List)-1\n",
    "    prev=0  #index of previous stacked element\n",
    "    for _ in range(1,len(List)):\n",
    "        if List[i]>=List[j] and List[i]<=List[prev]:            \n",
    "            prev=i\n",
    "            i+=1\n",
    "        elif List[j]<=List[prev]:            \n",
    "            prev=j\n",
    "            j-=1\n",
    "        else:\n",
    "            print('No')\n",
    "            break\n",
    "    else:\n",
    "        print('Yes')"
   ]
  }
 ],
 "metadata": {
  "kernelspec": {
   "display_name": "Python 3",
   "language": "python",
   "name": "python3"
  },
  "language_info": {
   "codemirror_mode": {
    "name": "ipython",
    "version": 3
   },
   "file_extension": ".py",
   "mimetype": "text/x-python",
   "name": "python",
   "nbconvert_exporter": "python",
   "pygments_lexer": "ipython3",
   "version": "3.7.6"
  }
 },
 "nbformat": 4,
 "nbformat_minor": 4
}
