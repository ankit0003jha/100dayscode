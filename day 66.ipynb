{
 "cells": [
  {
   "cell_type": "markdown",
   "id": "32efbc4d",
   "metadata": {},
   "source": [
    "## Add Binary"
   ]
  },
  {
   "cell_type": "markdown",
   "id": "9333a7c2",
   "metadata": {},
   "source": [
    "Given two binary strings a and b, return their sum as a binary string."
   ]
  },
  {
   "cell_type": "markdown",
   "id": "a1244f29",
   "metadata": {},
   "source": [
    "# Example 1:\n",
    "\n",
    "Input: a = \"11\", b = \"1\"\n",
    "    \n",
    "Output: \"100\"\n",
    "    \n",
    "# Example 2:\n",
    "\n",
    "Input: a = \"1010\", b = \"1011\"\n",
    "    \n",
    "Output: \"10101\"\n",
    " "
   ]
  },
  {
   "cell_type": "code",
   "execution_count": 19,
   "id": "6bf003c0",
   "metadata": {},
   "outputs": [
    {
     "data": {
      "text/plain": [
       "'10101'"
      ]
     },
     "execution_count": 19,
     "metadata": {},
     "output_type": "execute_result"
    }
   ],
   "source": [
    "class Solution:\n",
    "    def addBinary(self, a: str, b: str) -> str:\n",
    "        sum = bin(int(a, 2) + int(b, 2))\n",
    "        return sum[2:]\n",
    "    \n",
    "sol = Solution()\n",
    "sol.addBinary(\"1010\",\"1011\")"
   ]
  },
  {
   "cell_type": "code",
   "execution_count": 15,
   "id": "f8cdb3a7",
   "metadata": {},
   "outputs": [
    {
     "data": {
      "text/plain": [
       "1"
      ]
     },
     "execution_count": 15,
     "metadata": {},
     "output_type": "execute_result"
    }
   ],
   "source": [
    "int(\"1\",2)"
   ]
  },
  {
   "cell_type": "code",
   "execution_count": 18,
   "id": "572f1fed",
   "metadata": {},
   "outputs": [
    {
     "data": {
      "text/plain": [
       "'10010'"
      ]
     },
     "execution_count": 18,
     "metadata": {},
     "output_type": "execute_result"
    }
   ],
   "source": [
    "bin(18)[2:]"
   ]
  },
  {
   "cell_type": "code",
   "execution_count": null,
   "id": "06925640",
   "metadata": {},
   "outputs": [],
   "source": []
  }
 ],
 "metadata": {
  "kernelspec": {
   "display_name": "Python 3",
   "language": "python",
   "name": "python3"
  },
  "language_info": {
   "codemirror_mode": {
    "name": "ipython",
    "version": 3
   },
   "file_extension": ".py",
   "mimetype": "text/x-python",
   "name": "python",
   "nbconvert_exporter": "python",
   "pygments_lexer": "ipython3",
   "version": "3.8.8"
  }
 },
 "nbformat": 4,
 "nbformat_minor": 5
}
