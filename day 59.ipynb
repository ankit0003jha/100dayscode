{
 "cells": [
  {
   "cell_type": "markdown",
   "id": "7ae016d7",
   "metadata": {},
   "source": [
    "## Palindromic Substrings"
   ]
  },
  {
   "cell_type": "code",
   "execution_count": 36,
   "id": "d12c9c12",
   "metadata": {},
   "outputs": [
    {
     "data": {
      "text/plain": [
       "8"
      ]
     },
     "execution_count": 36,
     "metadata": {},
     "output_type": "execute_result"
    }
   ],
   "source": [
    "class Solution:\n",
    "    def countSubstrings(self, s: str) -> int:\n",
    "        count = 0 \n",
    "        count += len(s)\n",
    "        \n",
    "        if s == s[::-1] and len(s)>2:\n",
    "            count+=1\n",
    "        for i in range(0,len(s)-1):\n",
    "            if s[i]+s[i+1] == s[i+1]+s[i]:\n",
    "                count+=1\n",
    "        return count\n",
    "sol = Solution()\n",
    "sol.countSubstrings(\"aaaa\")"
   ]
  },
  {
   "cell_type": "code",
   "execution_count": null,
   "id": "d4fc4755",
   "metadata": {},
   "outputs": [],
   "source": []
  },
  {
   "cell_type": "code",
   "execution_count": null,
   "id": "a1953d00",
   "metadata": {},
   "outputs": [],
   "source": []
  }
 ],
 "metadata": {
  "kernelspec": {
   "display_name": "Python 3",
   "language": "python",
   "name": "python3"
  },
  "language_info": {
   "codemirror_mode": {
    "name": "ipython",
    "version": 3
   },
   "file_extension": ".py",
   "mimetype": "text/x-python",
   "name": "python",
   "nbconvert_exporter": "python",
   "pygments_lexer": "ipython3",
   "version": "3.8.8"
  }
 },
 "nbformat": 4,
 "nbformat_minor": 5
}
