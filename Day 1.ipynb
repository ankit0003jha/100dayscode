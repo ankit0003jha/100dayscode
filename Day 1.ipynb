{
 "cells": [
  {
   "cell_type": "markdown",
   "metadata": {},
   "source": [
    "#            Day 1 - start with your favbourite programming language (I will work with python)"
   ]
  },
  {
   "cell_type": "markdown",
   "metadata": {},
   "source": [
    "# Python language introduction ( I am following GFG 100 days code challenge)"
   ]
  },
  {
   "cell_type": "markdown",
   "metadata": {},
   "source": [
    "Python is a widely used general-purpose, high level programming language. It was created by Guido van Rossum in 1991 and further developed by the Python Software Foundation. It was designed with an emphasis on code readability, and its syntax allows programmers to express their concepts in fewer lines of code.\n",
    "\n",
    "Python is a programming language that lets you work quickly and integrate systems more efficiently.\n",
    "\n",
    "There are two major Python versions: Python 2 and Python 3. Both are quite different.\n",
    "\n",
    "Beginning with Python programming:\n",
    "\n",
    "1) Finding an Interpreter:\n",
    "Before we start Python programming, we need to have an interpreter to interpret and run our programs. \n",
    "There are certain online interpreters like https://ide.geeksforgeeks.org/, http://ideone.com/ or http://codepad.org/ that \n",
    "can be used to run Python programs without installing an interpreter."
   ]
  },
  {
   "cell_type": "markdown",
   "metadata": {},
   "source": [
    "## Important difference between python 2.x and python 3.x with example"
   ]
  },
  {
   "cell_type": "markdown",
   "metadata": {},
   "source": [
    "## This are the main points which make both version different from others. Check it out in geeks for geeks for more information.\n",
    "1. Division operator\n",
    "2. print function\n",
    "3. Unicode\n",
    "4. xrange\n",
    "5. Error Handling"
   ]
  },
  {
   "cell_type": "markdown",
   "metadata": {},
   "source": [
    "## How to print without newline in Python? ( for new line we can use \"\\n\" )"
   ]
  },
  {
   "cell_type": "code",
   "execution_count": 2,
   "metadata": {},
   "outputs": [
    {
     "name": "stdout",
     "output_type": "stream",
     "text": [
      "geeks geeksforgeeks\n",
      "1 2 3 4 "
     ]
    }
   ],
   "source": [
    "# Python 3 code for printing\n",
    "# on the same line printing\n",
    "# geeks and geeksforgeeks\n",
    "# in the same line\n",
    "\n",
    "print(\"geeks\", end =\" \")\n",
    "print(\"geeksforgeeks\")\n",
    "\n",
    "# array\n",
    "a = [1, 2, 3, 4]\n",
    "\n",
    "# printing a element in same\n",
    "# line\n",
    "for i in range(4):\n",
    "\tprint(a[i], end =\" \")\n"
   ]
  },
  {
   "cell_type": "markdown",
   "metadata": {},
   "source": [
    "# How to use Variables and Data Structures"
   ]
  },
  {
   "cell_type": "code",
   "execution_count": 3,
   "metadata": {},
   "outputs": [
    {
     "name": "stdout",
     "output_type": "stream",
     "text": [
      "3\n",
      "4.5\n",
      "helloworld\n"
     ]
    }
   ],
   "source": [
    "# Python program to declare variables\n",
    "myNumber = 3\n",
    "print(myNumber)\n",
    "\n",
    "myNumber2 = 4.5\n",
    "print(myNumber2)\n",
    "\n",
    "myNumber =\"helloworld\"\n",
    "print(myNumber)\n"
   ]
  },
  {
   "cell_type": "code",
   "execution_count": 4,
   "metadata": {},
   "outputs": [
    {
     "name": "stdout",
     "output_type": "stream",
     "text": [
      "[21, 40.5, 'String']\n"
     ]
    }
   ],
   "source": [
    "# Python program to illustrate a list\n",
    "\n",
    "# creates a empty list\n",
    "nums = []\n",
    "\n",
    "# appending data in list\n",
    "nums.append(21)\n",
    "nums.append(40.5)\n",
    "nums.append(\"String\")\n",
    "\n",
    "print(nums)\n"
   ]
  },
  {
   "cell_type": "code",
   "execution_count": 5,
   "metadata": {},
   "outputs": [
    {
     "name": "stdout",
     "output_type": "stream",
     "text": [
      "Enter your name: Ankit\n",
      "hello Ankit\n"
     ]
    }
   ],
   "source": [
    "# Python program to illustrate\n",
    "# getting input from user\n",
    "name = input(\"Enter your name: \")\n",
    "\n",
    "# user entered the name 'harssh'\n",
    "print(\"hello\", name)\n"
   ]
  },
  {
   "cell_type": "code",
   "execution_count": 6,
   "metadata": {},
   "outputs": [
    {
     "name": "stdout",
     "output_type": "stream",
     "text": [
      "Enter num1: 22\n",
      "Enter num2: 67\n",
      "Product is:  1474\n"
     ]
    }
   ],
   "source": [
    "# Python3 program to get input from user\n",
    "\n",
    "# accepting integer from the user\n",
    "# the return type of input() function is string ,\n",
    "# so we need to convert the input to integer\n",
    "num1 = int(input(\"Enter num1: \"))\n",
    "num2 = int(input(\"Enter num2: \"))\n",
    "\n",
    "num3 = num1 * num2\n",
    "print(\"Product is: \", num3)\n"
   ]
  },
  {
   "cell_type": "markdown",
   "metadata": {},
   "source": [
    "## Selection (conditional statement use of if, elif and else)"
   ]
  },
  {
   "cell_type": "code",
   "execution_count": 7,
   "metadata": {},
   "outputs": [
    {
     "name": "stdout",
     "output_type": "stream",
     "text": [
      "Num1 is good\n"
     ]
    }
   ],
   "source": [
    "# Python program to illustrate\n",
    "# selection statement\n",
    "\n",
    "num1 = 34\n",
    "if(num1>12):\n",
    "\tprint(\"Num1 is good\")\n",
    "elif(num1>35):\n",
    "\tprint(\"Num2 is not gooooo....\")\n",
    "else:\n",
    "\tprint(\"Num2 is great\")\n"
   ]
  },
  {
   "cell_type": "markdown",
   "metadata": {},
   "source": [
    "# Fuctions"
   ]
  },
  {
   "cell_type": "code",
   "execution_count": 8,
   "metadata": {},
   "outputs": [
    {
     "name": "stdout",
     "output_type": "stream",
     "text": [
      "hello\n",
      "hello again\n",
      "hello\n",
      "hello again\n"
     ]
    }
   ],
   "source": [
    "# Python program to illustrate\n",
    "# functions\n",
    "def hello():\n",
    "\tprint(\"hello\")\n",
    "\tprint(\"hello again\")\n",
    "hello()\n",
    "\n",
    "# calling function\n",
    "hello()\t\t\t\n"
   ]
  },
  {
   "cell_type": "code",
   "execution_count": 9,
   "metadata": {},
   "outputs": [
    {
     "name": "stdout",
     "output_type": "stream",
     "text": [
      "Started\n",
      "Enter integer: 44\n",
      "44\n"
     ]
    }
   ],
   "source": [
    "# Python program to illustrate\n",
    "# function with main\n",
    "def getInteger():\n",
    "\tresult = int(input(\"Enter integer: \"))\n",
    "\treturn result\n",
    "\n",
    "def Main():\n",
    "\tprint(\"Started\")\n",
    "\n",
    "\t# calling the getInteger function and\n",
    "\t# storing its returned value in the output variable\n",
    "\toutput = getInteger()\t\n",
    "\tprint(output)\n",
    "\n",
    "# now we are required to tell Python\n",
    "# for 'Main' function existence\n",
    "if __name__==\"__main__\":\n",
    "\tMain()\n"
   ]
  },
  {
   "cell_type": "markdown",
   "metadata": {},
   "source": [
    "# Iteration (Looping)"
   ]
  },
  {
   "cell_type": "code",
   "execution_count": 10,
   "metadata": {},
   "outputs": [
    {
     "name": "stdout",
     "output_type": "stream",
     "text": [
      "0\n",
      "1\n",
      "2\n",
      "3\n",
      "4\n"
     ]
    }
   ],
   "source": [
    "# Python program to illustrate\n",
    "# a simple for loop\n",
    "\n",
    "for step in range(5):\t\n",
    "\tprint(step)\n"
   ]
  },
  {
   "cell_type": "markdown",
   "metadata": {},
   "source": [
    "## Modules"
   ]
  },
  {
   "cell_type": "code",
   "execution_count": 11,
   "metadata": {},
   "outputs": [
    {
     "name": "stdout",
     "output_type": "stream",
     "text": [
      "85.0\n"
     ]
    }
   ],
   "source": [
    "# Python program to illustrate\n",
    "# math module\n",
    "import math\n",
    "\n",
    "def Main():\n",
    "\tnum = -85\n",
    "\n",
    "\t# fabs is used to get the absolute\n",
    "\t# value of a decimal\n",
    "\tnum = math.fabs(num)\n",
    "\tprint(num)\n",
    "\t\n",
    "\t\n",
    "if __name__==\"__main__\":\n",
    "\tMain()\n"
   ]
  },
  {
   "cell_type": "markdown",
   "metadata": {},
   "source": [
    "## How to find type of data types"
   ]
  },
  {
   "cell_type": "markdown",
   "metadata": {},
   "source": [
    "## You can see how we can define type of data types. we will see more about this and there difference."
   ]
  },
  {
   "cell_type": "code",
   "execution_count": 17,
   "metadata": {},
   "outputs": [
    {
     "name": "stdout",
     "output_type": "stream",
     "text": [
      "<class 'int'>\n",
      "<class 'str'>\n",
      "<class 'float'>\n",
      "<class 'list'>\n",
      "<class 'tuple'>\n",
      "<class 'dict'>\n"
     ]
    }
   ],
   "source": [
    "## You can see how we can define type of data types. we will see more about this and there difference.\n",
    "num = 32\n",
    "name = \"Ankit\"\n",
    "num2 = 20.4\n",
    "a = [1,2,3,\"hero\"]\n",
    "b = (1,2,\"ankit\")\n",
    "c = {\"a\":1,\"b\":2}\n",
    "print(type(num))\n",
    "print(type(name))\n",
    "print(type(num2))\n",
    "print(type(a))\n",
    "print(type(b))\n",
    "print(type(c))"
   ]
  },
  {
   "cell_type": "markdown",
   "metadata": {},
   "source": [
    "## Python Language advantages and applications"
   ]
  },
  {
   "cell_type": "markdown",
   "metadata": {},
   "source": [
    "1. Presence of third-party modules \n",
    "2. Extensive support libraries(NumPy for numerical calculations, Pandas for data analytics etc) \n",
    "3. Open source and community development \n",
    "4. Versatile, Easy to read, learn and write\n",
    "5. User-friendly data structures \n",
    "6. High-level language \n",
    "7. Dynamically typed language(No need to mention data type based on the value assigned, it takes data type) \n",
    "8. Object-oriented language \n",
    "9. Portable and Interactive\n",
    "10. Ideal for prototypes – provide more functionality with less coding\n",
    "11. Highly Efficient(Python’s clean object-oriented design provides enhanced process control, and the language is equipped with excellent text processing and integration capabilities, as well as its own unit testing framework, which makes it more efficient.)\n",
    "    (IoT)Internet of Things Opportunities\n",
    "12. Interpreted Language\n",
    "13. Portable across Operating systems "
   ]
  },
  {
   "cell_type": "markdown",
   "metadata": {},
   "source": [
    "# 1. - Basic calculator program using Python"
   ]
  },
  {
   "cell_type": "code",
   "execution_count": 12,
   "metadata": {},
   "outputs": [
    {
     "name": "stdout",
     "output_type": "stream",
     "text": [
      "chosse number in place of operators.\n",
      "1 - Addition\n",
      "2 - Subtraction\n",
      "3 - Multiply\n",
      "4 - Divide\n",
      "\n",
      "operator4\n",
      "num1 - 666\n",
      "num2 - 32\n",
      "num1 / num2 = 20.8125\n"
     ]
    }
   ],
   "source": [
    "def Addition(number1,number2):\n",
    "    return number1+number2\n",
    "def Subtract(number1,number2):\n",
    "    return number1-number2\n",
    "def Multiply(number1,number2):\n",
    "    return number1*number2\n",
    "def Divide(number1,number2):\n",
    "    return number1/number2\n",
    "\n",
    "print(\"chosse number in place of operators.\\n\" \\\n",
    "\"1 - Addition\\n\" \\\n",
    "\"2 - Subtraction\\n\" \\\n",
    "\"3 - Multiply\\n\" \\\n",
    "\"4 - Divide\\n\")\n",
    "\n",
    "operator = int(input(\"operator\"))\n",
    "num1 = int(input(\"num1 - \"))\n",
    "num2 = int(input(\"num2 - \"))\n",
    "\n",
    "if operator == 1:\n",
    "    print(\"num1\",\"+\",\"num2\",\"=\",Addition(num1,num2))\n",
    "elif operator == 2:\n",
    "    print(\"num1\",\"-\",\"num2\",\"=\",Subtract(num1,num2))\n",
    "elif operator == 3:\n",
    "    print(\"num1\",\"x\",\"num2\",\"=\",Multiply(num1,num2))\n",
    "elif operator == 4:\n",
    "    print(\"num1\",\"/\",\"num2\",\"=\",Divide(num1,num2))\n",
    "else:\n",
    "    print(\"Invalid operator input\")"
   ]
  }
 ],
 "metadata": {
  "kernelspec": {
   "display_name": "Python 3",
   "language": "python",
   "name": "python3"
  },
  "language_info": {
   "codemirror_mode": {
    "name": "ipython",
    "version": 3
   },
   "file_extension": ".py",
   "mimetype": "text/x-python",
   "name": "python",
   "nbconvert_exporter": "python",
   "pygments_lexer": "ipython3",
   "version": "3.7.6"
  }
 },
 "nbformat": 4,
 "nbformat_minor": 4
}
