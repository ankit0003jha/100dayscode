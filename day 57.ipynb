{
 "cells": [
  {
   "cell_type": "markdown",
   "id": "deb0daeb",
   "metadata": {},
   "source": [
    "# Longest Palindromic Substring"
   ]
  },
  {
   "cell_type": "code",
   "execution_count": 61,
   "id": "21403f70",
   "metadata": {},
   "outputs": [
    {
     "data": {
      "text/plain": [
       "'aba'"
      ]
     },
     "execution_count": 61,
     "metadata": {},
     "output_type": "execute_result"
    }
   ],
   "source": [
    "class Solution:\n",
    "    def longestPalindrome(self, s: str) -> str:\n",
    "        res=s[0]\n",
    "        max_length = 1\n",
    "        for i in range(len(s)):\n",
    "            for j in range(len(s)-1,i+max_length-1,-1):\n",
    "                if s[i:j+1]==s[i:j+1][::-1]:\n",
    "                    max_length = j-i\n",
    "                    res=s[i:j+1]\n",
    "                    break\n",
    "        return res\n",
    "    \n",
    "sol = Solution()\n",
    "s=\"babad\"\n",
    "sol.longestPalindrome(s)\n",
    "        "
   ]
  },
  {
   "cell_type": "code",
   "execution_count": 57,
   "id": "2ad37c5c",
   "metadata": {},
   "outputs": [],
   "source": [
    "s = \"ccc\"\n",
    "queue = []\n",
    "res=s[0]\n",
    "max_length = 1\n",
    "\n",
    "for i in range(len(s)):\n",
    "    for j in range(len(s)-1,i+max_length-1,-1):\n",
    "        if s[i:j+1]==s[i:j+1][::-1]:\n",
    "            max_length = j-i\n",
    "            queue.append(s[i:j+1])\n",
    "            res=s[i:j+1]\n",
    "            break"
   ]
  },
  {
   "cell_type": "code",
   "execution_count": 58,
   "id": "e7553042",
   "metadata": {},
   "outputs": [
    {
     "data": {
      "text/plain": [
       "['ccc']"
      ]
     },
     "execution_count": 58,
     "metadata": {},
     "output_type": "execute_result"
    }
   ],
   "source": [
    "queue"
   ]
  },
  {
   "cell_type": "code",
   "execution_count": 59,
   "id": "2d75a7c7",
   "metadata": {},
   "outputs": [
    {
     "data": {
      "text/plain": [
       "2"
      ]
     },
     "execution_count": 59,
     "metadata": {},
     "output_type": "execute_result"
    }
   ],
   "source": [
    "max_length"
   ]
  },
  {
   "cell_type": "code",
   "execution_count": 60,
   "id": "dd0d2764",
   "metadata": {},
   "outputs": [
    {
     "data": {
      "text/plain": [
       "'ccc'"
      ]
     },
     "execution_count": 60,
     "metadata": {},
     "output_type": "execute_result"
    }
   ],
   "source": [
    "res"
   ]
  }
 ],
 "metadata": {
  "kernelspec": {
   "display_name": "Python 3",
   "language": "python",
   "name": "python3"
  },
  "language_info": {
   "codemirror_mode": {
    "name": "ipython",
    "version": 3
   },
   "file_extension": ".py",
   "mimetype": "text/x-python",
   "name": "python",
   "nbconvert_exporter": "python",
   "pygments_lexer": "ipython3",
   "version": "3.8.8"
  }
 },
 "nbformat": 4,
 "nbformat_minor": 5
}
