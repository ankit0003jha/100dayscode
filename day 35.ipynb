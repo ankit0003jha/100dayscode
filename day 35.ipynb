{
 "cells": [
  {
   "cell_type": "markdown",
   "metadata": {},
   "source": [
    "### Print alternate elements of an array "
   ]
  },
  {
   "cell_type": "code",
   "execution_count": 3,
   "metadata": {},
   "outputs": [
    {
     "name": "stdout",
     "output_type": "stream",
     "text": [
      "1 3 "
     ]
    }
   ],
   "source": [
    "def printAl(arr,n):\n",
    "    for i in range(0,len(arr),2):\n",
    "        print(arr[i],end=\" \")\n",
    "        \n",
    "printAl(arr = [1, 2, 3, 4],n=4)"
   ]
  },
  {
   "cell_type": "markdown",
   "metadata": {},
   "source": [
    "## seaching in array"
   ]
  },
  {
   "cell_type": "code",
   "execution_count": 35,
   "metadata": {},
   "outputs": [
    {
     "data": {
      "text/plain": [
       "True"
      ]
     },
     "execution_count": 35,
     "metadata": {},
     "output_type": "execute_result"
    }
   ],
   "source": [
    "def search_array(arr,key):\n",
    "    for i in range(0,len(arr)):\n",
    "        if arr[i]==key:\n",
    "            return True\n",
    "         \n",
    "    return False\n",
    "\n",
    " \n",
    "    \n",
    "arr = [4,6,7,2,9,22]\n",
    "search_array(arr,9)"
   ]
  },
  {
   "cell_type": "markdown",
   "metadata": {},
   "source": [
    "## append or insert in an array"
   ]
  },
  {
   "cell_type": "code",
   "execution_count": 37,
   "metadata": {},
   "outputs": [
    {
     "name": "stdout",
     "output_type": "stream",
     "text": [
      "[4, 6, 7, 2, 9, 77, 22, 77]\n"
     ]
    }
   ],
   "source": [
    "def add_array(arr,element, index):\n",
    "    arr.append(element)\n",
    "    arr.insert(index,element)\n",
    "    return arr\n",
    "\n",
    " \n",
    "    \n",
    "arr = [4,6,7,2,9,22]\n",
    "print(add_array(arr,77,5))"
   ]
  },
  {
   "cell_type": "markdown",
   "metadata": {},
   "source": [
    "## remove or pop in an array"
   ]
  },
  {
   "cell_type": "code",
   "execution_count": 40,
   "metadata": {},
   "outputs": [
    {
     "name": "stdout",
     "output_type": "stream",
     "text": [
      "[2, 4, 1]\n"
     ]
    }
   ],
   "source": [
    "def delete_array(arr,element):\n",
    "    arr.pop()\n",
    "    arr.remove(element)\n",
    "    return arr\n",
    "\n",
    " \n",
    "    \n",
    "arr = [2,4,1,0,6]\n",
    "print(delete_array(arr,0))"
   ]
  },
  {
   "cell_type": "markdown",
   "metadata": {},
   "source": [
    "## min, max in array"
   ]
  },
  {
   "cell_type": "code",
   "execution_count": 53,
   "metadata": {},
   "outputs": [
    {
     "name": "stdout",
     "output_type": "stream",
     "text": [
      "1\n"
     ]
    }
   ],
   "source": [
    "import array as arr\n",
    "A = arr.array(\"i\",[3,2,1,56,10000,167])\n",
    "minimum = A[0]\n",
    "for i in range(1,len(A)):\n",
    "    if A[i]<minimum:\n",
    "        minimum = A[i]\n",
    "print(minimum)"
   ]
  },
  {
   "cell_type": "code",
   "execution_count": 7,
   "metadata": {},
   "outputs": [
    {
     "name": "stdout",
     "output_type": "stream",
     "text": [
      "10000\n"
     ]
    }
   ],
   "source": [
    "import array as arr\n",
    "A = arr.array(\"i\",[3,2,1,56,10000,167])\n",
    "maximum = A[0]\n",
    "for i in range(1,len(A)):\n",
    "    if A[i] > maximum:\n",
    "        maximum = A[i]\n",
    "print(maximum)"
   ]
  },
  {
   "cell_type": "markdown",
   "metadata": {},
   "source": [
    "### Sum of Array Elements"
   ]
  },
  {
   "cell_type": "code",
   "execution_count": 4,
   "metadata": {},
   "outputs": [
    {
     "data": {
      "text/plain": [
       "10"
      ]
     },
     "execution_count": 4,
     "metadata": {},
     "output_type": "execute_result"
    }
   ],
   "source": [
    "def sumElement(arr,n):\n",
    "    total_sum = 0\n",
    "    for i in range(0,n):\n",
    "        total_sum += arr[i]\n",
    "    return total_sum\n",
    "\n",
    "sumElement([1,2,3,4],4)"
   ]
  },
  {
   "cell_type": "markdown",
   "metadata": {},
   "source": [
    "## Second Largest"
   ]
  },
  {
   "cell_type": "code",
   "execution_count": 14,
   "metadata": {},
   "outputs": [
    {
     "name": "stdout",
     "output_type": "stream",
     "text": [
      "[1, 2, 3, 56, 167, 10000]\n",
      "167\n"
     ]
    }
   ],
   "source": [
    "import array as arr\n",
    "A = arr.array(\"i\",[3,2,1,56,10000,167])\n",
    "sort_array = sorted(A)\n",
    "print(sort_array)\n",
    "print(sort_array[-2])"
   ]
  },
  {
   "cell_type": "code",
   "execution_count": null,
   "metadata": {},
   "outputs": [],
   "source": []
  }
 ],
 "metadata": {
  "kernelspec": {
   "display_name": "Python 3",
   "language": "python",
   "name": "python3"
  },
  "language_info": {
   "codemirror_mode": {
    "name": "ipython",
    "version": 3
   },
   "file_extension": ".py",
   "mimetype": "text/x-python",
   "name": "python",
   "nbconvert_exporter": "python",
   "pygments_lexer": "ipython3",
   "version": "3.7.6"
  }
 },
 "nbformat": 4,
 "nbformat_minor": 4
}
