{
 "cells": [
  {
   "cell_type": "markdown",
   "id": "971f46be",
   "metadata": {},
   "source": [
    "## Factorial "
   ]
  },
  {
   "cell_type": "markdown",
   "id": "4cde9781",
   "metadata": {},
   "source": [
    "Iterative approach"
   ]
  },
  {
   "cell_type": "code",
   "execution_count": 2,
   "id": "13c4bf9a",
   "metadata": {},
   "outputs": [
    {
     "data": {
      "text/plain": [
       "120"
      ]
     },
     "execution_count": 2,
     "metadata": {},
     "output_type": "execute_result"
    }
   ],
   "source": [
    "class Solution:\n",
    "    def factorial (self, N):\n",
    "        ans = 1\n",
    "        for i in range(1,N+1):\n",
    "            ans *= i\n",
    "        return ans\n",
    "sol = Solution()\n",
    "sol.factorial(5)"
   ]
  },
  {
   "cell_type": "markdown",
   "id": "6aeb4a44",
   "metadata": {},
   "source": [
    "Recursive approach"
   ]
  },
  {
   "cell_type": "code",
   "execution_count": 1,
   "id": "89f6755e",
   "metadata": {},
   "outputs": [
    {
     "data": {
      "text/plain": [
       "120"
      ]
     },
     "execution_count": 1,
     "metadata": {},
     "output_type": "execute_result"
    }
   ],
   "source": [
    "def factorial(a):\n",
    "    if a == 0:\n",
    "        return 1\n",
    "    return a * factorial(a-1)\n",
    "factorial(5)"
   ]
  },
  {
   "cell_type": "markdown",
   "id": "1cdf96a8",
   "metadata": {},
   "source": [
    "# nPr "
   ]
  },
  {
   "cell_type": "markdown",
   "id": "1a3a5006",
   "metadata": {},
   "source": [
    "Write a program to calculate nPr. nPr represents n permutation r and value of nPr is (n!) / (n-r)!."
   ]
  },
  {
   "cell_type": "code",
   "execution_count": 6,
   "id": "dfd1c7b7",
   "metadata": {},
   "outputs": [
    {
     "data": {
      "text/plain": [
       "6"
      ]
     },
     "execution_count": 6,
     "metadata": {},
     "output_type": "execute_result"
    }
   ],
   "source": [
    "def factorial(n):\n",
    "    if n == 0:\n",
    "        return 1\n",
    "    return n * factorial(n-1)\n",
    "\n",
    "def npr(N, R):\n",
    "    Nfact = factorial(N)\n",
    "    K = N-R\n",
    "    Kfact = factorial(K)\n",
    "    return Nfact // Kfact\n",
    "\n",
    "npr(3,3)"
   ]
  }
 ],
 "metadata": {
  "kernelspec": {
   "display_name": "Python 3",
   "language": "python",
   "name": "python3"
  },
  "language_info": {
   "codemirror_mode": {
    "name": "ipython",
    "version": 3
   },
   "file_extension": ".py",
   "mimetype": "text/x-python",
   "name": "python",
   "nbconvert_exporter": "python",
   "pygments_lexer": "ipython3",
   "version": "3.8.8"
  }
 },
 "nbformat": 4,
 "nbformat_minor": 5
}
