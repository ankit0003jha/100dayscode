{
 "cells": [
  {
   "cell_type": "markdown",
   "id": "784d50a5",
   "metadata": {},
   "source": [
    "# Pair cube count "
   ]
  },
  {
   "cell_type": "code",
   "execution_count": 4,
   "id": "1c3c91c7",
   "metadata": {},
   "outputs": [
    {
     "data": {
      "text/plain": [
       "1"
      ]
     },
     "execution_count": 4,
     "metadata": {},
     "output_type": "execute_result"
    }
   ],
   "source": [
    "class Solution:\n",
    "    def pairCubeCount(self, N):\n",
    "        count = 0\n",
    "        if N == 1:\n",
    "            return 1\n",
    "        for i in range(0,N):\n",
    "            for j in range(1,N):\n",
    "                if i**3 + j**3 == N:\n",
    "                    count += 1\n",
    "        return count\n",
    "sol = Solution()\n",
    "sol.pairCubeCount(16)"
   ]
  },
  {
   "cell_type": "markdown",
   "id": "887c63e9",
   "metadata": {},
   "source": [
    "# Prime Number"
   ]
  },
  {
   "cell_type": "code",
   "execution_count": 2,
   "id": "2545ce86",
   "metadata": {},
   "outputs": [
    {
     "data": {
      "text/plain": [
       "1"
      ]
     },
     "execution_count": 2,
     "metadata": {},
     "output_type": "execute_result"
    }
   ],
   "source": [
    "class Solution:\n",
    "    def isPrime (self, N):\n",
    "        if N==1:\n",
    "            return 0\n",
    "        for i in range(2,N):\n",
    "            if N%i==0:\n",
    "                return 0\n",
    "        return 1\n",
    "\n",
    "sol = Solution()\n",
    "sol.isPrime(5)"
   ]
  },
  {
   "cell_type": "code",
   "execution_count": 8,
   "id": "1940748c",
   "metadata": {},
   "outputs": [
    {
     "data": {
      "text/plain": [
       "0"
      ]
     },
     "execution_count": 8,
     "metadata": {},
     "output_type": "execute_result"
    }
   ],
   "source": [
    "import math\n",
    "class Solution:\n",
    "    def isPrime (self, N):\n",
    "        if N==1:\n",
    "            return 0\n",
    "        for i in range(2, int(math.sqrt(N))+1):\n",
    "            if N%i==0:\n",
    "                return 0\n",
    "        return 1\n",
    "\n",
    "sol = Solution()\n",
    "sol.isPrime(15)"
   ]
  },
  {
   "cell_type": "markdown",
   "id": "014679ec",
   "metadata": {},
   "source": [
    "# Sieve of Eratosthenes "
   ]
  },
  {
   "cell_type": "code",
   "execution_count": 23,
   "id": "582cb172",
   "metadata": {},
   "outputs": [],
   "source": [
    "n = 10\n",
    "list1=[]\n",
    "for i in range(2,10):\n",
    "    if 1%i==0:\n",
    "        print(i)\n",
    "    "
   ]
  },
  {
   "cell_type": "code",
   "execution_count": null,
   "id": "f3ecf658",
   "metadata": {},
   "outputs": [],
   "source": [
    "\n"
   ]
  },
  {
   "cell_type": "code",
   "execution_count": null,
   "id": "d63b0f44",
   "metadata": {},
   "outputs": [],
   "source": []
  }
 ],
 "metadata": {
  "kernelspec": {
   "display_name": "Python 3",
   "language": "python",
   "name": "python3"
  },
  "language_info": {
   "codemirror_mode": {
    "name": "ipython",
    "version": 3
   },
   "file_extension": ".py",
   "mimetype": "text/x-python",
   "name": "python",
   "nbconvert_exporter": "python",
   "pygments_lexer": "ipython3",
   "version": "3.8.8"
  }
 },
 "nbformat": 4,
 "nbformat_minor": 5
}
