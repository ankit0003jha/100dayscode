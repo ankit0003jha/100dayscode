{
 "cells": [
  {
   "cell_type": "markdown",
   "metadata": {},
   "source": [
    "# Python Operators"
   ]
  },
  {
   "cell_type": "markdown",
   "metadata": {},
   "source": [
    "# 1. Arithmetic operators"
   ]
  },
  {
   "cell_type": "markdown",
   "metadata": {},
   "source": [
    "Arithmetic operators are used to perform mathematical operations like addition, subtraction, multiplication and division."
   ]
  },
  {
   "cell_type": "markdown",
   "metadata": {},
   "source": [
    "Operator\t            Description\t                                                                      Syntax\n",
    "\n",
    "(+)\t           Addition: adds two operands\t                                                              x + y\n",
    "\n",
    "(-)\t           Subtraction: subtracts two operands\t                                                      x - y\n",
    "\n",
    "(*)\t           Multiplication: multiplies two operands\t                                                  x * y\n",
    "\n",
    "(/)\t           Division (float): divides the first operand by the second\t                              x / y\n",
    "\n",
    "(//)\t           Division (floor): divides the first operand by the second\t                              x // y\n",
    "\n",
    "(%)\t           Modulus: returns the remainder when first operand is divided by the second\t              x % y\n",
    "\n",
    "(**)\t           Power : Returns first raised to power second\t                                              x ** y"
   ]
  },
  {
   "cell_type": "code",
   "execution_count": 1,
   "metadata": {},
   "outputs": [
    {
     "name": "stdout",
     "output_type": "stream",
     "text": [
      "13\n",
      "5\n",
      "36\n",
      "2.25\n",
      "2\n",
      "1\n",
      "6561\n"
     ]
    }
   ],
   "source": [
    "# Examples of Arithmetic Operator\n",
    "a = 9\n",
    "b = 4\n",
    "\n",
    "# Addition of numbers\n",
    "add = a + b\n",
    "\n",
    "# Subtraction of numbers\n",
    "sub = a - b\n",
    "\n",
    "# Multiplication of number\n",
    "mul = a * b\n",
    "\n",
    "# Division(float) of number\n",
    "div1 = a / b\n",
    "\n",
    "# Division(floor) of number\n",
    "div2 = a // b\n",
    "\n",
    "# Modulo of both number\n",
    "mod = a % b\n",
    "\n",
    "# Power\n",
    "p = a ** b\n",
    "\n",
    "# print results\n",
    "print(add)\n",
    "print(sub)\n",
    "print(mul)\n",
    "print(div1)\n",
    "print(div2)\n",
    "print(mod)\n",
    "print(p)\n"
   ]
  },
  {
   "cell_type": "markdown",
   "metadata": {},
   "source": [
    "# 2. Relational Operators"
   ]
  },
  {
   "cell_type": "markdown",
   "metadata": {},
   "source": [
    "Relational operators compares the values. It either returns True or False according to the condition."
   ]
  },
  {
   "cell_type": "markdown",
   "metadata": {},
   "source": [
    "Operator\tDescription\t   Syntax\n",
    "\n",
    ">  ->\tGreater than: True if left operand is greater than the right\tx > y\n",
    "    \n",
    "<  -> Less than: True if left operand is less than the right\tx < y\n",
    "    \n",
    "== ->\tEqual to: True if both operands are equal\tx == y\n",
    "    \n",
    "!= -> Not equal to - True if operands are not equal\tx != y\n",
    "\n",
    ">= ->\tGreater than or equal to: True if left operand is greater than or equal to the right\tx >= y\n",
    "    \n",
    "<= ->\tLess than or equal to: True if left operand is less than or equal to the right\tx <= y"
   ]
  },
  {
   "cell_type": "code",
   "execution_count": 2,
   "metadata": {},
   "outputs": [
    {
     "name": "stdout",
     "output_type": "stream",
     "text": [
      "False\n",
      "True\n",
      "False\n",
      "True\n",
      "False\n",
      "True\n"
     ]
    }
   ],
   "source": [
    "# Examples of Relational Operators\n",
    "a = 13\n",
    "b = 33\n",
    "\n",
    "# a > b is False\n",
    "print(a > b)\n",
    "\n",
    "# a < b is True\n",
    "print(a < b)\n",
    "\n",
    "# a == b is False\n",
    "print(a == b)\n",
    "\n",
    "# a != b is True\n",
    "print(a != b)\n",
    "\n",
    "# a >= b is False\n",
    "print(a >= b)\n",
    "\n",
    "# a <= b is True\n",
    "print(a <= b)\n"
   ]
  },
  {
   "cell_type": "markdown",
   "metadata": {},
   "source": [
    "# 3. Logical operators"
   ]
  },
  {
   "cell_type": "markdown",
   "metadata": {},
   "source": [
    " Logical operators perform Logical AND, Logical OR and Logical NOT operations."
   ]
  },
  {
   "cell_type": "markdown",
   "metadata": {},
   "source": [
    "Operator\tDescription\tSyntax\n",
    "\n",
    "and\t-> Logical AND: True if both the operands are true\tx and y\n",
    "    \n",
    "or ->\tLogical OR: True if either of the operands is true\tx or y\n",
    "    \n",
    "not\t-> Logical NOT: True if operand is false\tnot x"
   ]
  },
  {
   "cell_type": "code",
   "execution_count": 3,
   "metadata": {},
   "outputs": [
    {
     "name": "stdout",
     "output_type": "stream",
     "text": [
      "False\n",
      "True\n",
      "False\n"
     ]
    }
   ],
   "source": [
    "# Examples of Logical Operator\n",
    "a = True\n",
    "b = False\n",
    "\n",
    "# Print a and b is False\n",
    "print(a and b)\n",
    "\n",
    "# Print a or b is True\n",
    "print(a or b)\n",
    "\n",
    "# Print not a is False\n",
    "print(not a)\n"
   ]
  },
  {
   "cell_type": "markdown",
   "metadata": {},
   "source": [
    "# 4. Bitwise operators"
   ]
  },
  {
   "cell_type": "markdown",
   "metadata": {},
   "source": [
    "Bitwise operators acts on bits and performs bit by bit operation."
   ]
  },
  {
   "cell_type": "markdown",
   "metadata": {},
   "source": [
    "Operator\tDescription\tSyntax\n",
    "\n",
    "&\tBitwise AND\tx & y\n",
    "\n",
    "|\tBitwise OR\tx | y\n",
    "\n",
    "~\tBitwise NOT\t~x\n",
    "\n",
    "^\tBitwise XOR\tx ^ y\n",
    "\n",
    ">>\tBitwise right shift\tx>>\n",
    "\n",
    "<<\tBitwise left shift\tx<<"
   ]
  },
  {
   "cell_type": "code",
   "execution_count": 16,
   "metadata": {},
   "outputs": [
    {
     "name": "stdout",
     "output_type": "stream",
     "text": [
      "0\n",
      "14\n",
      "-11\n",
      "14\n",
      "2\n",
      "40\n"
     ]
    }
   ],
   "source": [
    "# Examples of Bitwise operators\n",
    "a = 10\n",
    "b = 4\n",
    "\n",
    "# Print bitwise AND operation\n",
    "print(a & b)\n",
    "\n",
    "# Print bitwise OR operation\n",
    "print(a | b)\n",
    "\n",
    "# Print bitwise NOT operation\n",
    "print(~a)\n",
    "\n",
    "# print bitwise XOR operation\n",
    "print(a ^ b)\n",
    "\n",
    "# print bitwise right shift operation\n",
    "print(a >> 2)\n",
    "\n",
    "# print bitwise left shift operation\n",
    "print(a << 2)\n"
   ]
  },
  {
   "cell_type": "markdown",
   "metadata": {},
   "source": [
    "# 5. Assignment operators"
   ]
  },
  {
   "cell_type": "markdown",
   "metadata": {},
   "source": [
    "Assignment operators are used to assign values to the variables.\n"
   ]
  },
  {
   "cell_type": "markdown",
   "metadata": {},
   "source": [
    "Operator\tDescription\tSyntax\n",
    "\n",
    "=\tAssign value of right side of expression to left side operand\tx = y + z\n",
    "\n",
    "+=\tAdd AND: Add right side operand with left side operand and then assign to left operand\ta+=b     a=a+b\n",
    "    \n",
    "-=\tSubtract AND: Subtract right operand from left operand and then assign to left operand\ta-=b       a=a-b\n",
    "    \n",
    "*=\tMultiply AND: Multiply right operand with left operand and then assign to left operand\ta*=b       a=a*b\n",
    "    \n",
    "/=\tDivide AND: Divide left operand with right operand and then assign to left operand\ta/=b         a=a/b\n",
    "    \n",
    "%=\tModulus AND: Takes modulus using left and right operands and assign result to left operand\ta%=b   a=a%b\n",
    "    \n",
    "//=\tDivide(floor) AND: Divide left operand with right operand and then assign the value(floor) to left operand\ta//=b    a=a//b\n",
    "    \n",
    "**=\tExponent AND: Calculate exponent(raise power) value using operands and assign value to left operand\ta**=b     a=a**b\n",
    "    \n",
    "&=\tPerforms Bitwise AND on operands and assign value to left operand\ta&=b     a=a&b\n",
    "\n",
    "|=\tPerforms Bitwise OR on operands and assign value to left operand\ta|=b         a=a|b\n",
    "\n",
    "^=\tPerforms Bitwise xOR on operands and assign value to left operand\ta^=b       a=a^b\n",
    "\n",
    ">>=\tPerforms Bitwise right shift on operands and assign value to left operand\ta>>=b     a=a>>b\n",
    "\n",
    "<<=\tPerforms Bitwise left shift on operands and assign value to left operand\ta <<= b                    a= a << b"
   ]
  },
  {
   "cell_type": "markdown",
   "metadata": {},
   "source": [
    "# 6. Special operators"
   ]
  },
  {
   "cell_type": "markdown",
   "metadata": {},
   "source": [
    "There are some special type of operators like-"
   ]
  },
  {
   "cell_type": "markdown",
   "metadata": {},
   "source": [
    "is          True if the operands are identical \n",
    "\n",
    "is not      True if the operands are not identical "
   ]
  },
  {
   "cell_type": "code",
   "execution_count": 5,
   "metadata": {},
   "outputs": [
    {
     "name": "stdout",
     "output_type": "stream",
     "text": [
      "False\n",
      "True\n",
      "False\n"
     ]
    }
   ],
   "source": [
    "# Examples of Identity operators\n",
    "a1 = 3\n",
    "b1 = 3\n",
    "a2 = 'GeeksforGeeks'\n",
    "b2 = 'GeeksforGeeks'\n",
    "a3 = [1,2,3]\n",
    "b3 = [1,2,3]\n",
    "\n",
    "\n",
    "print(a1 is not b1)\n",
    "\n",
    "\n",
    "print(a2 is b2)\n",
    "\n",
    "# Output is False, since lists are mutable.\n",
    "print(a3 is b3)\n"
   ]
  },
  {
   "cell_type": "markdown",
   "metadata": {},
   "source": [
    "# 7. Precedence and Associativity of Operators"
   ]
  },
  {
   "cell_type": "markdown",
   "metadata": {},
   "source": [
    "Operator precedence and associativity as these determine the priorities of the operator."
   ]
  },
  {
   "cell_type": "markdown",
   "metadata": {},
   "source": [
    "Operator\tDescription\t  Associativity\n",
    "\n",
    "( )\tParentheses  \tleft-to-right\n",
    "\n",
    "**\tExponent \tright-to-left\n",
    "\n",
    "*  /  %\tMultiplication/division/modulus\tleft-to-right\n",
    "\n",
    "+  -\tAddition/subtraction\tleft-to-right\n",
    "\n",
    "<<  >>\tBitwise shift left, Bitwise shift right\tleft-to-right\n",
    "\n",
    "<  <= Relational less than/less than or equal to\n",
    "\n",
    ">  >=\t Relational greater than/greater  than or equal to\tleft-to-right\n",
    "\n",
    "==  !=\tRelational is equal to/is not equal to\tleft-to-right"
   ]
  },
  {
   "cell_type": "markdown",
   "metadata": {},
   "source": [
    "# 8. Ternary Operator in Python"
   ]
  },
  {
   "cell_type": "markdown",
   "metadata": {},
   "source": [
    "Syntax :\n",
    "\n",
    "[on_true] if [expression] else [on_false] "
   ]
  },
  {
   "cell_type": "code",
   "execution_count": 17,
   "metadata": {},
   "outputs": [
    {
     "name": "stdout",
     "output_type": "stream",
     "text": [
      "20\n"
     ]
    }
   ],
   "source": [
    "# Program to demonstrate conditional operator\n",
    "a, b = 10, 20\n",
    "\n",
    "# Copy value of a in min if a < b else copy b\n",
    "min = a if a > b else b\n",
    "\n",
    "print(min)\n"
   ]
  },
  {
   "cell_type": "markdown",
   "metadata": {},
   "source": [
    "# Any All in Python"
   ]
  },
  {
   "cell_type": "markdown",
   "metadata": {},
   "source": [
    "# Any"
   ]
  },
  {
   "cell_type": "markdown",
   "metadata": {},
   "source": [
    "Returns true if any of the items is True. It returns False if empty or all are false. Any can be thought of as a sequence of OR operations on the provided iterables.\n",
    "It short circuit the execution i.e. stop the execution as soon as the result is known."
   ]
  },
  {
   "cell_type": "code",
   "execution_count": 8,
   "metadata": {},
   "outputs": [
    {
     "name": "stdout",
     "output_type": "stream",
     "text": [
      "False\n",
      "True\n",
      "True\n"
     ]
    }
   ],
   "source": [
    "# Since all are false, false is returned\n",
    "print (any([False, False, False, False]))\n",
    "\n",
    "# Here the method will short-circuit at the\n",
    "# second item (True) and will return True.\n",
    "print (any([False, True, False, False]))\n",
    "\n",
    "# Here the method will short-circuit at the\n",
    "# first (True) and will return True.\n",
    "print (any([True, False, False, False]))\n"
   ]
  },
  {
   "cell_type": "markdown",
   "metadata": {},
   "source": [
    "# All"
   ]
  },
  {
   "cell_type": "markdown",
   "metadata": {},
   "source": [
    "Returns true if all of the items are True (or if the iterable is empty). All can be thought of as a sequence of AND operations on the provided iterables. It also short circuit the execution i.e. stop the execution as soon as the result is known."
   ]
  },
  {
   "cell_type": "code",
   "execution_count": 9,
   "metadata": {},
   "outputs": [
    {
     "name": "stdout",
     "output_type": "stream",
     "text": [
      "True\n",
      "False\n",
      "False\n"
     ]
    }
   ],
   "source": [
    "# Here all the iterables are True so all\n",
    "# will return True and the same will be printed\n",
    "print (all([True, True, True, True]))\n",
    "\n",
    "# Here the method will short-circuit at the\n",
    "# first item (False) and will return False.\n",
    "print (all([False, True, True, False]))\n",
    "\n",
    "# This statement will return False, as no\n",
    "# True is found in the iterables\n",
    "print (all([False, False, False]))\n"
   ]
  },
  {
   "cell_type": "markdown",
   "metadata": {},
   "source": [
    "# Inplace vs Standard Operators in Python"
   ]
  },
  {
   "cell_type": "markdown",
   "metadata": {},
   "source": [
    "Normal operators do the simple assigning job. On other hand, Inplace operators behave similar to normal operators except that they act in a different manner in case of mutable and Immutable targets.\n",
    "\n",
    "The _add_ method, does simple addition, takes two arguments, returns the sum and stores it in other variable without modifying any of the argument.\n",
    "On the other hand, _iadd_ method also takes two arguments, but it makes in-place change in 1st argument passed by storing the sum in it. As object mutation is needed in this process, immutable targets such as numbers, strings and tuples, shouldn’t have _iadd_ method.\n",
    "Normal operator’s “add()” method, implements “a+b” and stores the result in the mentioned variable.\n",
    "Inplace operator’s “iadd()” method, implements “a+=b” if it exists (i.e in case of immutable targets, it doesn’t exist) and changes the value of passed argument. But if not, “a+b” is implemented.\n",
    "In both the cases assignment is required to do to store the value."
   ]
  },
  {
   "cell_type": "code",
   "execution_count": 10,
   "metadata": {},
   "outputs": [
    {
     "name": "stdout",
     "output_type": "stream",
     "text": [
      "Value after adding using normal operator : 11\n",
      "Value after adding using Inplace operator : 11\n",
      "Value of first argument using normal operator : 5\n",
      "Value of first argument using Inplace operator : 5\n"
     ]
    }
   ],
   "source": [
    "# Python code to demonstrate difference between\n",
    "# Inplace and Normal operators in Immutable Targets\n",
    "\n",
    "# importing operator to handle operator operations\n",
    "import operator\n",
    "\n",
    "# Initializing values\n",
    "x = 5\n",
    "y = 6\n",
    "a = 5\n",
    "b = 6\n",
    "\n",
    "# using add() to add the arguments passed\n",
    "z = operator.add(a,b)\n",
    "\n",
    "# using iadd() to add the arguments passed\n",
    "p = operator.iadd(x,y)\n",
    "\n",
    "# printing the modified value\n",
    "print (\"Value after adding using normal operator : \",end=\"\")\n",
    "print (z)\n",
    "\n",
    "# printing the modified value\n",
    "print (\"Value after adding using Inplace operator : \",end=\"\")\n",
    "print (p)\n",
    "\n",
    "# printing value of first argument\n",
    "# value is unchanged\n",
    "print (\"Value of first argument using normal operator : \",end=\"\")\n",
    "print (a)\n",
    "\n",
    "# printing value of first argument\n",
    "# value is unchanged\n",
    "print (\"Value of first argument using Inplace operator : \",end=\"\")\n",
    "print (x)\n"
   ]
  },
  {
   "cell_type": "markdown",
   "metadata": {},
   "source": [
    "# Operator Functions in Python"
   ]
  },
  {
   "cell_type": "markdown",
   "metadata": {},
   "source": [
    "Python has predefined functions for many mathematical, logical, relational, bitwise etc operations under the module “operator”. Some of the basic functions are covered in this article.\n",
    "\n",
    "1. add(a, b) :- This functions returns addition of the given arguments.\n",
    "    \n",
    "Operation – a + b.\n",
    "\n",
    "2. sub(a, b) :- This functions returns difference of the given arguments.\n",
    "    \n",
    "Operation – a – b.\n",
    "\n",
    "3. mul(a, b) :- This functions returns product of the given arguments.\n",
    "    \n",
    "Operation – a * b."
   ]
  },
  {
   "cell_type": "code",
   "execution_count": 11,
   "metadata": {},
   "outputs": [
    {
     "name": "stdout",
     "output_type": "stream",
     "text": [
      "The addition of numbers is :7\n",
      "The difference of numbers is :1\n",
      "The product of numbers is :12\n"
     ]
    }
   ],
   "source": [
    "# Python code to demonstrate working of\n",
    "# add(), sub(), mul()\n",
    "\n",
    "# importing operator module\n",
    "import operator\n",
    "\n",
    "# Initializing variables\n",
    "a = 4\n",
    "\n",
    "b = 3\n",
    "\n",
    "# using add() to add two numbers\n",
    "print (\"The addition of numbers is :\",end=\"\");\n",
    "print (operator.add(a, b))\n",
    "\n",
    "# using sub() to subtract two numbers\n",
    "print (\"The difference of numbers is :\",end=\"\");\n",
    "print (operator.sub(a, b))\n",
    "\n",
    "# using mul() to multiply two numbers\n",
    "print (\"The product of numbers is :\",end=\"\");\n",
    "print (operator.mul(a, b))\n"
   ]
  },
  {
   "cell_type": "markdown",
   "metadata": {},
   "source": [
    "# Python | a += b is not always a = a + b"
   ]
  },
  {
   "cell_type": "code",
   "execution_count": 12,
   "metadata": {},
   "outputs": [
    {
     "name": "stdout",
     "output_type": "stream",
     "text": [
      "[5, 4, 3, 2, 1, 1, 2, 3, 4]\n",
      "[5, 4, 3, 2, 1, 1, 2, 3, 4]\n"
     ]
    }
   ],
   "source": [
    "list1 = [5, 4, 3, 2, 1]\n",
    "list2 = list1\n",
    "list1 += [1, 2, 3, 4]\n",
    "\n",
    "print(list1)\n",
    "print(list2)\n"
   ]
  }
 ],
 "metadata": {
  "kernelspec": {
   "display_name": "Python 3",
   "language": "python",
   "name": "python3"
  },
  "language_info": {
   "codemirror_mode": {
    "name": "ipython",
    "version": 3
   },
   "file_extension": ".py",
   "mimetype": "text/x-python",
   "name": "python",
   "nbconvert_exporter": "python",
   "pygments_lexer": "ipython3",
   "version": "3.7.6"
  }
 },
 "nbformat": 4,
 "nbformat_minor": 4
}
