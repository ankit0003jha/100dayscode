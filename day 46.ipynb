{
 "cells": [
  {
   "cell_type": "markdown",
   "metadata": {},
   "source": [
    "## Print the Kth Digit"
   ]
  },
  {
   "cell_type": "code",
   "execution_count": 3,
   "metadata": {},
   "outputs": [
    {
     "data": {
      "text/plain": [
       "4"
      ]
     },
     "execution_count": 3,
     "metadata": {},
     "output_type": "execute_result"
    }
   ],
   "source": [
    "class Solution:\n",
    "    def kthDigit(self, A, B, K):\n",
    "        kth = A**B\n",
    "        kt = str(kth)[-K]\n",
    "        return int(kt)\n",
    "sol = Solution()\n",
    "sol.kthDigit(7,3,2)    # ex - 52 = 25 and second digit from right is 2."
   ]
  },
  {
   "cell_type": "markdown",
   "metadata": {},
   "source": [
    "## Binary number to decimal number "
   ]
  },
  {
   "cell_type": "code",
   "execution_count": 31,
   "metadata": {},
   "outputs": [
    {
     "data": {
      "text/plain": [
       "136"
      ]
     },
     "execution_count": 31,
     "metadata": {},
     "output_type": "execute_result"
    }
   ],
   "source": [
    "class Solution:\n",
    "    def binary_to_decimal(self, st):\n",
    "        b=str(st)\n",
    "        c=0\n",
    "        sum=0\n",
    "        for i in range(len(b)-1,-1,-1):\n",
    "            d = int(b[i])*2**c\n",
    "            sum += d\n",
    "            c += 1\n",
    "        return sum\n",
    "sol=Solution()\n",
    "sol.binary_to_decimal(10001000)"
   ]
  }
 ],
 "metadata": {
  "kernelspec": {
   "display_name": "Python 3",
   "language": "python",
   "name": "python3"
  },
  "language_info": {
   "codemirror_mode": {
    "name": "ipython",
    "version": 3
   },
   "file_extension": ".py",
   "mimetype": "text/x-python",
   "name": "python",
   "nbconvert_exporter": "python",
   "pygments_lexer": "ipython3",
   "version": "3.7.6"
  }
 },
 "nbformat": 4,
 "nbformat_minor": 4
}
