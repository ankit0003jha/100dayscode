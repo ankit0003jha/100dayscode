{
 "cells": [
  {
   "cell_type": "markdown",
   "metadata": {},
   "source": [
    "# Basic Programs:"
   ]
  },
  {
   "cell_type": "markdown",
   "metadata": {},
   "source": [
    "# Python program to add two numbers"
   ]
  },
  {
   "cell_type": "code",
   "execution_count": 2,
   "metadata": {},
   "outputs": [
    {
     "name": "stdout",
     "output_type": "stream",
     "text": [
      "Enter the 1st number:1\n",
      "Enter the 2nd number:2\n",
      "3\n"
     ]
    }
   ],
   "source": [
    "num1 = int(input(\"Enter the 1st number:\"))\n",
    "num2 = int(input(\"Enter the 2nd number:\"))\n",
    "addition = num1+num2\n",
    "print(addition)"
   ]
  },
  {
   "cell_type": "code",
   "execution_count": 62,
   "metadata": {},
   "outputs": [
    {
     "name": "stdout",
     "output_type": "stream",
     "text": [
      "Enter two value: 1 4\n",
      "5\n"
     ]
    }
   ],
   "source": [
    "num1,num2 = input(\"Enter two value:\").split()\n",
    "add = int(num1)+int(num2)\n",
    "print(add)"
   ]
  },
  {
   "cell_type": "code",
   "execution_count": 9,
   "metadata": {},
   "outputs": [
    {
     "data": {
      "text/plain": [
       "7"
      ]
     },
     "execution_count": 9,
     "metadata": {},
     "output_type": "execute_result"
    }
   ],
   "source": [
    "def addition(num1,num2):\n",
    "    add = int(num1) + int(num2)\n",
    "    return add\n",
    "    \n",
    "addition(3,4)"
   ]
  },
  {
   "cell_type": "markdown",
   "metadata": {},
   "source": [
    "# Maximum of two numbers in Python"
   ]
  },
  {
   "cell_type": "code",
   "execution_count": 12,
   "metadata": {},
   "outputs": [
    {
     "name": "stdout",
     "output_type": "stream",
     "text": [
      "Enter the 1st number:-1\n",
      "Enter the 2nd number:-4\n",
      "-1\n"
     ]
    }
   ],
   "source": [
    "num1 = int(input(\"Enter the 1st number:\"))\n",
    "num2 = int(input(\"Enter the 2nd number:\"))\n",
    "if num1>num2:\n",
    "    print(num1)\n",
    "else:\n",
    "    print(num2)\n"
   ]
  },
  {
   "cell_type": "code",
   "execution_count": 15,
   "metadata": {},
   "outputs": [
    {
     "name": "stdout",
     "output_type": "stream",
     "text": [
      "Enter the 1st number:22\n",
      "Enter the 2nd number:33\n",
      "33\n"
     ]
    }
   ],
   "source": [
    "num1 = int(input(\"Enter the 1st number:\"))\n",
    "num2 = int(input(\"Enter the 2nd number:\"))\n",
    "print(max(num1,num2))"
   ]
  },
  {
   "cell_type": "markdown",
   "metadata": {},
   "source": [
    "# Python Program for factorial of a number"
   ]
  },
  {
   "cell_type": "code",
   "execution_count": 65,
   "metadata": {},
   "outputs": [
    {
     "name": "stdout",
     "output_type": "stream",
     "text": [
      "factorial is 720\n"
     ]
    }
   ],
   "source": [
    "def factorial(number):\n",
    "    a = number\n",
    "    b=number\n",
    "    while b > 1:\n",
    "        c=b-1\n",
    "        fact = a * c\n",
    "        a = fact\n",
    "        b=c\n",
    "    return fact\n",
    "print(\"factorial is\",factorial(6))"
   ]
  },
  {
   "cell_type": "code",
   "execution_count": 57,
   "metadata": {},
   "outputs": [
    {
     "name": "stdout",
     "output_type": "stream",
     "text": [
      "Enter number6\n",
      "Factorial is 720\n"
     ]
    }
   ],
   "source": [
    "number = int(input(\"Enter number\"))\n",
    "b=number\n",
    "while b > 1:\n",
    "    c=b-1\n",
    "    fact = number * c\n",
    "    number = fact\n",
    "    b=c\n",
    "print(\"Factorial is\",fact)\n",
    "\n"
   ]
  },
  {
   "cell_type": "code",
   "execution_count": 55,
   "metadata": {},
   "outputs": [
    {
     "name": "stdout",
     "output_type": "stream",
     "text": [
      "Factorial of 5 is 120\n"
     ]
    }
   ],
   "source": [
    "# Python 3 program to find\n",
    "# factorial of given number\n",
    "def factorial(n):\n",
    "\n",
    "    # single line to find factorial\n",
    "    return 1 if (n==1 or n==0) else n * factorial(n - 1);\n",
    "\n",
    "# Driver Code\n",
    "num = 5;\n",
    "print(\"Factorial of\",num,\"is\",factorial(num))\n",
    "\n",
    "# This code is contributed by Smitha Dinesh Semwal\n"
   ]
  },
  {
   "cell_type": "markdown",
   "metadata": {},
   "source": [
    "# Python Program for simple interest"
   ]
  },
  {
   "cell_type": "markdown",
   "metadata": {},
   "source": [
    "Simple interest formula is given by:\n",
    "Simple Interest = (P x T x R)/100\n",
    "Where,\n",
    "\n",
    "P is the principle amount,\n",
    "T is the time and,\n",
    "R is the rate,"
   ]
  },
  {
   "cell_type": "code",
   "execution_count": 15,
   "metadata": {},
   "outputs": [
    {
     "name": "stdout",
     "output_type": "stream",
     "text": [
      "enter pricipal,time period and interest10000 5 5\n",
      "The Simple Interest is 2500\n"
     ]
    }
   ],
   "source": [
    "P,T,R = input(\"enter pricipal,time period and interest\").split()\n",
    "print('The Simple Interest is',int(P)*int(T)*int(R)//100)"
   ]
  },
  {
   "cell_type": "code",
   "execution_count": 14,
   "metadata": {},
   "outputs": [
    {
     "name": "stdout",
     "output_type": "stream",
     "text": [
      "The principal is 8\n",
      "The time period is 6\n",
      "The rate of interest is 8\n",
      "The Simple Interest is 3.84\n"
     ]
    }
   ],
   "source": [
    "# Python3 program to find simple interest\n",
    "# for given principal amount, time and\n",
    "# rate of interest.\n",
    "  \n",
    "def simple_interest(p,t,r):\n",
    "    print('The principal is', p)\n",
    "    print('The time period is', t)\n",
    "    print('The rate of interest is',r)\n",
    "      \n",
    "    si = (p * t * r)/100\n",
    "      \n",
    "    print('The Simple Interest is', si)\n",
    "    \n",
    "      \n",
    "# Driver code\n",
    "simple_interest(8, 6, 8)"
   ]
  },
  {
   "cell_type": "markdown",
   "metadata": {},
   "source": [
    "# Python Program for compound interest"
   ]
  },
  {
   "cell_type": "markdown",
   "metadata": {},
   "source": [
    "Formula to calculate compound interest annually is given by: \n",
    "\n",
    "A = P(1 + R/100) t \n",
    "\n",
    "Compound Interest = A – P \n",
    "\n",
    "Where, \n",
    "A is amount, \n",
    "P is principle amount, \n",
    "R is the rate and, \n",
    "T is the time span,"
   ]
  },
  {
   "cell_type": "code",
   "execution_count": 26,
   "metadata": {},
   "outputs": [
    {
     "name": "stdout",
     "output_type": "stream",
     "text": [
      " The Compound Interest is 6288.946267774416\n"
     ]
    }
   ],
   "source": [
    "# we have to use pow() function.\n",
    "# it takes two arguments.(value and it is power by)\n",
    "\n",
    "\n",
    "def compound_interest(Principle,Rate,Timespan):\n",
    "    Amount = Principle*(pow((1+Rate/100),Timespan))\n",
    "    print(\" The Compound Interest is\",Amount-Principle)\n",
    "compound_interest(10000,10.25,5)"
   ]
  },
  {
   "cell_type": "markdown",
   "metadata": {},
   "source": [
    "# Python Program to check Armstrong Number"
   ]
  },
  {
   "cell_type": "markdown",
   "metadata": {},
   "source": [
    "Input : 153\n",
    "\n",
    "Output : Yes\n",
    "\n",
    "153 is an Armstrong number.\n",
    "1x1x1 + 5x5x5 + 3x33 = 153\n",
    "\n",
    "Input : 120\n",
    "\n",
    "Output : No\n",
    "\n",
    "120 is not a Armstrong number.\n",
    "1x1x1 + 2x2x2 + 0x0x0 = 9\n",
    "\n",
    "Input : 1253\n",
    "\n",
    "Output : No\n",
    "\n",
    "1253 is not a Armstrong Number\n",
    "1x1x1x1 + 2x2x2x2 + 5x5x5x5 + 3x3x3x3 = 723\n",
    "\n"
   ]
  },
  {
   "cell_type": "markdown",
   "metadata": {},
   "source": [
    "# How to find out power without using pow() function"
   ]
  },
  {
   "cell_type": "code",
   "execution_count": 46,
   "metadata": {},
   "outputs": [],
   "source": [
    "# Function to calculate x raised to \n",
    "# the power y\n",
    "def power(x, y):\n",
    "      \n",
    "    if y == 0:\n",
    "        return 1\n",
    "    if y % 2 == 0:\n",
    "        return power(x, y // 2) * power(x, y // 2)\n",
    "          \n",
    "    return x * power(x, y // 2) * power(x, y // 2)"
   ]
  },
  {
   "cell_type": "code",
   "execution_count": 45,
   "metadata": {},
   "outputs": [
    {
     "name": "stdout",
     "output_type": "stream",
     "text": [
      "1634\n",
      "1634\n",
      "yes\n"
     ]
    }
   ],
   "source": [
    "a=input(\"Enter number:\")\n",
    "length=len(a)\n",
    "sums=0\n",
    "for i in a:\n",
    "    b=pow(int(i),l) ##pow() function is used.\n",
    "    sums=sums+b\n",
    "print(sums)\n",
    "if sums==int(a):\n",
    "    print(\"yes\")\n",
    "else:\n",
    "    print(\"no\")"
   ]
  },
  {
   "cell_type": "markdown",
   "metadata": {},
   "source": [
    "# Python Program for Program to find area of a circle"
   ]
  },
  {
   "cell_type": "markdown",
   "metadata": {},
   "source": [
    "Area of a circle can simply be evaluated using following formula.\n",
    "\n",
    "Area = pi * r2\n",
    "\n",
    "where r is radius of circle "
   ]
  },
  {
   "cell_type": "code",
   "execution_count": 50,
   "metadata": {},
   "outputs": [
    {
     "name": "stdout",
     "output_type": "stream",
     "text": [
      "Area is 78.550000\n"
     ]
    }
   ],
   "source": [
    "def findarea(r):\n",
    "    PI=3.142 # we know this\n",
    "    return PI*(r*r);\n",
    "print(\"Area is %.6f\" % findarea(5));"
   ]
  },
  {
   "cell_type": "markdown",
   "metadata": {},
   "source": [
    "# Python program to print all Prime numbers in an Interval"
   ]
  },
  {
   "cell_type": "code",
   "execution_count": 52,
   "metadata": {},
   "outputs": [
    {
     "name": "stdout",
     "output_type": "stream",
     "text": [
      "11\n",
      "13\n",
      "17\n",
      "19\n",
      "23\n"
     ]
    }
   ],
   "source": [
    "# Python program to print all \n",
    "# prime number in an interval\n",
    "# number should be greater than 1\n",
    "start = 11\n",
    "end = 25\n",
    "  \n",
    "for i in range(start, end+1):\n",
    "    if i>1:\n",
    "        for j in range(2,i):\n",
    "            if(i % j==0):\n",
    "                break\n",
    "        else:\n",
    "            print(i)"
   ]
  },
  {
   "cell_type": "markdown",
   "metadata": {},
   "source": [
    "# Python program to check whether a number is Prime or not"
   ]
  },
  {
   "cell_type": "code",
   "execution_count": 54,
   "metadata": {},
   "outputs": [
    {
     "name": "stdout",
     "output_type": "stream",
     "text": [
      "11 is a prime number\n"
     ]
    }
   ],
   "source": [
    "# Python program to check if\n",
    "# given number is prime or not\n",
    "  \n",
    "num = 11\n",
    "  \n",
    "# If given number is greater than 1\n",
    "if num > 1:\n",
    "  \n",
    "    # Iterate from 2 to n / 2\n",
    "    for i in range(2, int(num/2)+1):\n",
    "  \n",
    "        # If num is divisible by any number between\n",
    "        # 2 and n / 2, it is not prime\n",
    "        if (num % i) == 0:\n",
    "            print(num, \"is not a prime number\")\n",
    "            break\n",
    "    else:\n",
    "        print(num, \"is a prime number\")\n",
    "else:\n",
    "    print(num, \"is not a prime number\")"
   ]
  }
 ],
 "metadata": {
  "kernelspec": {
   "display_name": "Python 3",
   "language": "python",
   "name": "python3"
  },
  "language_info": {
   "codemirror_mode": {
    "name": "ipython",
    "version": 3
   },
   "file_extension": ".py",
   "mimetype": "text/x-python",
   "name": "python",
   "nbconvert_exporter": "python",
   "pygments_lexer": "ipython3",
   "version": "3.7.6"
  }
 },
 "nbformat": 4,
 "nbformat_minor": 4
}
