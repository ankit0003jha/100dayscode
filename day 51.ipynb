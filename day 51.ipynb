{
 "cells": [
  {
   "cell_type": "markdown",
   "id": "066bd941",
   "metadata": {},
   "source": [
    "# Factors of number "
   ]
  },
  {
   "cell_type": "code",
   "execution_count": 14,
   "id": "4b2fc1c0",
   "metadata": {},
   "outputs": [
    {
     "name": "stdout",
     "output_type": "stream",
     "text": [
      "[1, 2, 4, 5, 10, 20, 25, 50, 100]\n"
     ]
    }
   ],
   "source": [
    "n = 100\n",
    "list1=[]\n",
    "sums = 0\n",
    "for i in range(1,n+1):\n",
    "    if n%i == 0:\n",
    "        list1.append(i)\n",
    "        sums += i\n",
    "print(list1)"
   ]
  },
  {
   "cell_type": "code",
   "execution_count": 11,
   "id": "37aa9c2a",
   "metadata": {},
   "outputs": [
    {
     "name": "stdout",
     "output_type": "stream",
     "text": [
      "1 100\n",
      "2 50\n",
      "4 25\n",
      "5 20\n",
      "10\n"
     ]
    }
   ],
   "source": [
    "import math\n",
    "def divisor(n):\n",
    "    i = 1\n",
    "    while i<=math.sqrt(n):\n",
    "        if (n%i==0):\n",
    "            if n/i == i:\n",
    "                print(i)\n",
    "                \n",
    "            else:                           \n",
    "                  print (i , n//i)\n",
    "        i=i+1\n",
    "divisor(100)"
   ]
  },
  {
   "cell_type": "markdown",
   "id": "bd364a1a",
   "metadata": {},
   "source": [
    "## Perfect Numbers"
   ]
  },
  {
   "cell_type": "code",
   "execution_count": 1,
   "id": "c0533bbc",
   "metadata": {},
   "outputs": [
    {
     "data": {
      "text/plain": [
       "0"
      ]
     },
     "execution_count": 1,
     "metadata": {},
     "output_type": "execute_result"
    }
   ],
   "source": [
    "class Solution:\n",
    "    def isPerfectNumber(self, N):\n",
    "        list1=[]\n",
    "        sums = 0\n",
    "        for i in range(1,N):\n",
    "            if N%i == 0:\n",
    "                list1.append(i)\n",
    "                sums += i\n",
    "        if sums == N:\n",
    "            return 1\n",
    "        else:\n",
    "            return 0\n",
    "        \n",
    "sol = Solution()\n",
    "sol.isPerfectNumber(100)"
   ]
  },
  {
   "cell_type": "code",
   "execution_count": 2,
   "id": "4297908f",
   "metadata": {},
   "outputs": [
    {
     "name": "stdout",
     "output_type": "stream",
     "text": [
      "[1, 6, 2, 3]\n",
      "6\n"
     ]
    }
   ],
   "source": [
    "import math\n",
    "class Solution:\n",
    "    def isPerfectNumber(self, N):\n",
    "        list1=[]\n",
    "        i=1\n",
    "        while i<=math.sqrt(N):\n",
    "            if N%i==0:\n",
    "                if N/i==i:\n",
    "                    list1.append(i)\n",
    "                else:\n",
    "                    list1.append(i)\n",
    "                    list1.append(N//i)\n",
    "            i += 1\n",
    "        print(list1)\n",
    "        print(sum(list1)-N)\n",
    "\n",
    "sol = Solution()\n",
    "sol.isPerfectNumber(6)"
   ]
  },
  {
   "cell_type": "code",
   "execution_count": null,
   "id": "64a32afe",
   "metadata": {},
   "outputs": [],
   "source": []
  }
 ],
 "metadata": {
  "kernelspec": {
   "display_name": "Python 3",
   "language": "python",
   "name": "python3"
  },
  "language_info": {
   "codemirror_mode": {
    "name": "ipython",
    "version": 3
   },
   "file_extension": ".py",
   "mimetype": "text/x-python",
   "name": "python",
   "nbconvert_exporter": "python",
   "pygments_lexer": "ipython3",
   "version": "3.8.8"
  }
 },
 "nbformat": 4,
 "nbformat_minor": 5
}
