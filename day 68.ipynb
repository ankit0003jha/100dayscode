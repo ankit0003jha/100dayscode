{
 "cells": [
  {
   "cell_type": "markdown",
   "id": "37199a4d",
   "metadata": {},
   "source": [
    "## Multiply Strings"
   ]
  },
  {
   "cell_type": "markdown",
   "id": "9182ded4",
   "metadata": {},
   "source": [
    "Given two non-negative integers num1 and num2 represented as strings, return the product of num1 and num2, also represented as a string."
   ]
  },
  {
   "cell_type": "markdown",
   "id": "ee304d2f",
   "metadata": {},
   "source": [
    "# Example 1:\n",
    "\n",
    "Input: num1 = \"2\", num2 = \"3\"\n",
    "    \n",
    "Output: \"6\"\n",
    "\n",
    "# Example 2:\n",
    "\n",
    "Input: num1 = \"123\", num2 = \"456\"\n",
    "    \n",
    "Output: \"56088\""
   ]
  },
  {
   "cell_type": "code",
   "execution_count": 2,
   "id": "3671dafe",
   "metadata": {},
   "outputs": [
    {
     "data": {
      "text/plain": [
       "'30'"
      ]
     },
     "execution_count": 2,
     "metadata": {},
     "output_type": "execute_result"
    }
   ],
   "source": [
    "class Solution:\n",
    "    def multiply(self, num1: str, num2: str) -> str:\n",
    "        return str(int(num1)*int(num2))\n",
    "    \n",
    "sol = Solution()\n",
    "sol.multiply(\"5\",\"6\")"
   ]
  },
  {
   "cell_type": "markdown",
   "id": "1bdd6fd1",
   "metadata": {},
   "source": [
    "# Reverse Words in a String"
   ]
  },
  {
   "cell_type": "markdown",
   "id": "b75c861f",
   "metadata": {},
   "source": [
    "Given an input string s, reverse the order of the words.\n",
    "\n",
    "A word is defined as a sequence of non-space characters. The words in s will be separated by at least one space.\n",
    "\n",
    "Return a string of the words in reverse order concatenated by a single space."
   ]
  },
  {
   "cell_type": "markdown",
   "id": "208cd396",
   "metadata": {},
   "source": [
    "# Example 1:\n",
    "\n",
    "Input: s = \"the sky is blue\"\n",
    "    \n",
    "Output: \"blue is sky the\"\n",
    "    \n",
    "# Example 2:\n",
    "\n",
    "Input: s = \"  hello world  \"\n",
    "    \n",
    "Output: \"world hello\"\n",
    "    \n",
    "Explanation: Your reversed string should not contain leading or trailing spaces."
   ]
  },
  {
   "cell_type": "code",
   "execution_count": 60,
   "id": "58fed01a",
   "metadata": {},
   "outputs": [
    {
     "data": {
      "text/plain": [
       "'blue is sky the'"
      ]
     },
     "execution_count": 60,
     "metadata": {},
     "output_type": "execute_result"
    }
   ],
   "source": [
    "class Solution:\n",
    "    def reverseWords(self, s: str) -> str:\n",
    "        return \" \".join(s.split()[::-1])\n",
    "    \n",
    "sol = Solution()\n",
    "sol.reverseWords(\"the sky is blue\")"
   ]
  },
  {
   "cell_type": "code",
   "execution_count": null,
   "id": "f0270a47",
   "metadata": {},
   "outputs": [],
   "source": []
  },
  {
   "cell_type": "code",
   "execution_count": null,
   "id": "45c1f54a",
   "metadata": {},
   "outputs": [],
   "source": []
  },
  {
   "cell_type": "markdown",
   "id": "2c89482b",
   "metadata": {},
   "source": [
    "## My own concept"
   ]
  },
  {
   "cell_type": "code",
   "execution_count": 97,
   "id": "af6dc7b9",
   "metadata": {},
   "outputs": [
    {
     "data": {
      "text/plain": [
       "[' ankit', ' is', ' name', 'my']"
      ]
     },
     "execution_count": 97,
     "metadata": {},
     "output_type": "execute_result"
    }
   ],
   "source": [
    "def reverseWord(s):\n",
    "    list1=[]\n",
    "    str1 = \"\"\n",
    "    j=0\n",
    "    for i in range(j,len(s)):\n",
    "        if s[i]==\" \":\n",
    "            for g in range(j,i):\n",
    "                str1+=s[g]\n",
    "            j=i\n",
    "            list1.append(str1)\n",
    "            str1=\"\"\n",
    "\n",
    "    for i in range(len(s)-1,-1,-1):\n",
    "        if s[i]==\" \":\n",
    "            for g in range(i,len(s)):\n",
    "                str1+=s[g]\n",
    "            list1.append(str1)\n",
    "            break\n",
    "\n",
    "    return list1[::-1]\n",
    "\n",
    "reverseWord(\"my name is ankit\")"
   ]
  },
  {
   "cell_type": "code",
   "execution_count": null,
   "id": "28dc9b0a",
   "metadata": {},
   "outputs": [],
   "source": []
  }
 ],
 "metadata": {
  "kernelspec": {
   "display_name": "Python 3",
   "language": "python",
   "name": "python3"
  },
  "language_info": {
   "codemirror_mode": {
    "name": "ipython",
    "version": 3
   },
   "file_extension": ".py",
   "mimetype": "text/x-python",
   "name": "python",
   "nbconvert_exporter": "python",
   "pygments_lexer": "ipython3",
   "version": "3.8.8"
  }
 },
 "nbformat": 4,
 "nbformat_minor": 5
}
