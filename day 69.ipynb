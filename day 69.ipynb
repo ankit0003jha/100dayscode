{
 "cells": [
  {
   "cell_type": "markdown",
   "id": "2f5d54a5",
   "metadata": {},
   "source": [
    "# Remove Duplicates from Sorted Array"
   ]
  },
  {
   "cell_type": "markdown",
   "id": "313877df",
   "metadata": {},
   "source": [
    "# Example 1:\n",
    "\n",
    "Input: nums = [1,1,2]\n",
    "    \n",
    "Output: 2, nums = [1,2,_]\n",
    "    \n",
    "Explanation: Your function should return k = 2, with the first two elements of nums being 1 and 2 respectively.\n",
    "It does not matter what you leave beyond the returned k (hence they are underscores).\n",
    "\n",
    "# Example 2:\n",
    "\n",
    "Input: nums = [0,0,1,1,1,2,2,3,3,4]\n",
    "    \n",
    "Output: 5, nums = [0,1,2,3,4,_,_,_,_,_]\n",
    "    \n",
    "Explanation: Your function should return k = 5, with the first five elements of nums being 0, 1, 2, 3, and 4 respectively.\n",
    "It does not matter what you leave beyond the returned k (hence they are underscores)."
   ]
  },
  {
   "cell_type": "code",
   "execution_count": 4,
   "id": "50dff56d",
   "metadata": {},
   "outputs": [
    {
     "name": "stdout",
     "output_type": "stream",
     "text": [
      "[0, 1, 2, 3, 4]\n",
      "5\n"
     ]
    }
   ],
   "source": [
    "nums = [0,0,1,1,1,2,2,3,3,4]\n",
    "list1=[]\n",
    "\n",
    "for i in nums:\n",
    "    if i not in list1:\n",
    "        list1.append(i)\n",
    "        \n",
    "\n",
    "print(list1) \n",
    "print(len(list1))"
   ]
  },
  {
   "cell_type": "code",
   "execution_count": 3,
   "id": "163feaa1",
   "metadata": {},
   "outputs": [
    {
     "data": {
      "text/plain": [
       "5"
      ]
     },
     "execution_count": 3,
     "metadata": {},
     "output_type": "execute_result"
    }
   ],
   "source": [
    "class Solution(object):\n",
    "    def removeDuplicates(self, nums):\n",
    "        idx = 1; prev = 0\n",
    "        for i in range(1, len(nums)):\n",
    "            if nums[i] != nums[prev]:\n",
    "                nums[idx] = nums[i]\n",
    "                prev=idx\n",
    "                idx += 1\n",
    "        return idx\n",
    "    \n",
    "sol = Solution()\n",
    "sol.removeDuplicates( [0,0,1,1,1,2,2,3,3,4])"
   ]
  },
  {
   "cell_type": "code",
   "execution_count": null,
   "id": "6cc8c763",
   "metadata": {},
   "outputs": [],
   "source": []
  }
 ],
 "metadata": {
  "kernelspec": {
   "display_name": "Python 3",
   "language": "python",
   "name": "python3"
  },
  "language_info": {
   "codemirror_mode": {
    "name": "ipython",
    "version": 3
   },
   "file_extension": ".py",
   "mimetype": "text/x-python",
   "name": "python",
   "nbconvert_exporter": "python",
   "pygments_lexer": "ipython3",
   "version": "3.8.8"
  }
 },
 "nbformat": 4,
 "nbformat_minor": 5
}
