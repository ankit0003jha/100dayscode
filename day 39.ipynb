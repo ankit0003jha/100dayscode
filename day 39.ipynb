{
 "cells": [
  {
   "cell_type": "markdown",
   "metadata": {},
   "source": [
    "## Linear Search"
   ]
  },
  {
   "cell_type": "code",
   "execution_count": 13,
   "metadata": {},
   "outputs": [
    {
     "data": {
      "text/plain": [
       "('At index', 4)"
      ]
     },
     "execution_count": 13,
     "metadata": {},
     "output_type": "execute_result"
    }
   ],
   "source": [
    "def linear_search(arr, x):\n",
    "    for i in range(0, len(arr)):\n",
    "        if arr[i] == x:\n",
    "            return \"At index\", i\n",
    "    return -1\n",
    "            \n",
    "arr = [5,7,2,4,9]\n",
    "linear_search(arr, 9)"
   ]
  },
  {
   "cell_type": "markdown",
   "metadata": {},
   "source": [
    "## Binary search"
   ]
  },
  {
   "cell_type": "code",
   "execution_count": 24,
   "metadata": {},
   "outputs": [
    {
     "data": {
      "text/plain": [
       "4"
      ]
     },
     "execution_count": 24,
     "metadata": {},
     "output_type": "execute_result"
    }
   ],
   "source": [
    "def Binary_search(arr , x):\n",
    "    start = 0\n",
    "    end = len(arr)-1\n",
    "    mid = 0\n",
    "    \n",
    "    while start <= end:\n",
    "        mid = (start+end)//2\n",
    "        if x == arr[mid]:\n",
    "            return mid\n",
    "        elif x > arr[mid]:\n",
    "            start = mid + 1\n",
    "        else:\n",
    "            end = mid - 1\n",
    "    return -1\n",
    "    \n",
    "            \n",
    "arr = [5,7,2,4,9]\n",
    "Binary_search(arr, 9)        "
   ]
  },
  {
   "cell_type": "markdown",
   "metadata": {},
   "source": [
    "## Bubble sort"
   ]
  },
  {
   "cell_type": "code",
   "execution_count": 27,
   "metadata": {},
   "outputs": [
    {
     "data": {
      "text/plain": [
       "[2, 4, 5, 7, 9]"
      ]
     },
     "execution_count": 27,
     "metadata": {},
     "output_type": "execute_result"
    }
   ],
   "source": [
    "class Sort:\n",
    "    def Bubble_sort(self,arr):\n",
    "        for i in range(0,len(arr)):\n",
    "            for j in range(i+1,len(arr)):\n",
    "                if arr[i]>arr[j]:\n",
    "                    arr[i],arr[j]=arr[j],arr[i]\n",
    "        return arr\n",
    "\n",
    "s = Sort()\n",
    "arr = [5,7,2,4,9]\n",
    "s.Bubble_sort(arr)  "
   ]
  }
 ],
 "metadata": {
  "kernelspec": {
   "display_name": "Python 3",
   "language": "python",
   "name": "python3"
  },
  "language_info": {
   "codemirror_mode": {
    "name": "ipython",
    "version": 3
   },
   "file_extension": ".py",
   "mimetype": "text/x-python",
   "name": "python",
   "nbconvert_exporter": "python",
   "pygments_lexer": "ipython3",
   "version": "3.7.6"
  }
 },
 "nbformat": 4,
 "nbformat_minor": 4
}
