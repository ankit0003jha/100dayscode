{
 "cells": [
  {
   "cell_type": "markdown",
   "metadata": {},
   "source": [
    "# Object Oriented Programming in Python (Data Hiding)"
   ]
  },
  {
   "cell_type": "code",
   "execution_count": null,
   "metadata": {},
   "outputs": [],
   "source": [
    "class MyClass:\n",
    "\n",
    "\t# Hidden member of MyClass\n",
    "\t__hiddenVariable = 0\n",
    "\t\n",
    "\t# A member method that changes\n",
    "\t# __hiddenVariable\n",
    "\tdef add(self, increment):\n",
    "\t\tself.__hiddenVariable += increment\n",
    "\t\tprint (self.__hiddenVariable)\n",
    "\n",
    "# Driver code\n",
    "myObject = MyClass()\t\n",
    "myObject.add(2)\n",
    "myObject.add(5)\n",
    "\n",
    "# This line causes error\n",
    "print (myObject.__hiddenVariable)\n"
   ]
  },
  {
   "cell_type": "markdown",
   "metadata": {},
   "source": [
    "# OOP in Python (Inheritance, examples of object, issubclass and super)"
   ]
  },
  {
   "cell_type": "code",
   "execution_count": null,
   "metadata": {},
   "outputs": [],
   "source": [
    "\n",
    "# A Python program to demonstrate inheritance\n",
    "\n",
    "# Base or Super class. Note object in bracket.\n",
    "# (Generally, object is made ancestor of all classes)\n",
    "# In Python 3.x \"class Person\" is\n",
    "# equivalent to \"class Person(object)\"\n",
    "class Person(object):\n",
    "\t\n",
    "\t# Constructor\n",
    "\tdef __init__(self, name):\n",
    "\t\tself.name = name\n",
    "\n",
    "\t# To get name\n",
    "\tdef getName(self):\n",
    "\t\treturn self.name\n",
    "\n",
    "\t# To check if this person is employee\n",
    "\tdef isEmployee(self):\n",
    "\t\treturn False\n",
    "\n",
    "\n",
    "# Inherited or Sub class (Note Person in bracket)\n",
    "class Employee(Person):\n",
    "\n",
    "\t# Here we return true\n",
    "\tdef isEmployee(self):\n",
    "\t\treturn True\n",
    "\n",
    "# Driver code\n",
    "emp = Person(\"Geek1\") # An Object of Person\n",
    "print(emp.getName(), emp.isEmployee())\n",
    "\n",
    "emp = Employee(\"Geek2\") # An Object of Employee\n",
    "print(emp.getName(), emp.isEmployee())\n"
   ]
  },
  {
   "cell_type": "code",
   "execution_count": null,
   "metadata": {},
   "outputs": [],
   "source": [
    "# Python example to check if a class is\n",
    "# subclass of another\n",
    "\n",
    "class Base(object):\n",
    "\tpass # Empty Class\n",
    "\n",
    "class Derived(Base):\n",
    "\tpass # Empty Class\n",
    "\n",
    "# Driver Code\n",
    "print(issubclass(Derived, Base))\n",
    "print(issubclass(Base, Derived))\n",
    "\n",
    "d = Derived()\n",
    "b = Base()\n",
    "\n",
    "# b is not an instance of Derived\n",
    "print(isinstance(b, Derived))\n",
    "\n",
    "# But d is an instance of Base\n",
    "print(isinstance(d, Base))\n"
   ]
  },
  {
   "cell_type": "markdown",
   "metadata": {},
   "source": [
    "# Polymorphism in Python"
   ]
  },
  {
   "cell_type": "code",
   "execution_count": null,
   "metadata": {},
   "outputs": [],
   "source": [
    "# Python program to demonstrate in-built poly-\n",
    "# morphic functions\n",
    "\n",
    "# len() being used for a string\n",
    "print(len(\"geeks\"))\n",
    "\n",
    "# len() being used for a list\n",
    "print(len([10, 20, 30]))\n"
   ]
  },
  {
   "cell_type": "code",
   "execution_count": null,
   "metadata": {},
   "outputs": [],
   "source": [
    "# A simple Python function to demonstrate\n",
    "# Polymorphism\n",
    "\n",
    "def add(x, y, z = 0):\n",
    "\treturn x + y+z\n",
    "\n",
    "# Driver code\n",
    "print(add(2, 3))\n",
    "print(add(2, 3, 4))\n"
   ]
  },
  {
   "cell_type": "markdown",
   "metadata": {},
   "source": [
    "# Polymorphism with class methods:"
   ]
  },
  {
   "cell_type": "code",
   "execution_count": null,
   "metadata": {},
   "outputs": [],
   "source": [
    "class India():\n",
    "\tdef capital(self):\n",
    "\t\tprint(\"New Delhi is the capital of India.\")\n",
    "\n",
    "\tdef language(self):\n",
    "\t\tprint(\"Hindi is the most widely spoken language of India.\")\n",
    "\n",
    "\tdef type(self):\n",
    "\t\tprint(\"India is a developing country.\")\n",
    "\n",
    "class USA():\n",
    "\tdef capital(self):\n",
    "\t\tprint(\"Washington, D.C. is the capital of USA.\")\n",
    "\n",
    "\tdef language(self):\n",
    "\t\tprint(\"English is the primary language of USA.\")\n",
    "\n",
    "\tdef type(self):\n",
    "\t\tprint(\"USA is a developed country.\")\n",
    "\n",
    "obj_ind = India()\n",
    "obj_usa = USA()\n",
    "for country in (obj_ind, obj_usa):\n",
    "\tcountry.capital()\n",
    "\tcountry.language()\n",
    "\tcountry.type()\n"
   ]
  },
  {
   "cell_type": "markdown",
   "metadata": {},
   "source": [
    "# Exception Handling"
   ]
  },
  {
   "cell_type": "markdown",
   "metadata": {},
   "source": [
    "Error in Python can be of two types i.e. Syntax errors and Exceptions. Errors are the problems in a program due to which the program will stop the execution. On the other hand, exceptions are raised when some internal events occur which changes the normal flow of the program. "
   ]
  },
  {
   "cell_type": "code",
   "execution_count": 1,
   "metadata": {},
   "outputs": [
    {
     "ename": "SyntaxError",
     "evalue": "invalid syntax (<ipython-input-1-4b039effb0be>, line 6)",
     "output_type": "error",
     "traceback": [
      "\u001b[1;36m  File \u001b[1;32m\"<ipython-input-1-4b039effb0be>\"\u001b[1;36m, line \u001b[1;32m6\u001b[0m\n\u001b[1;33m    if(amount>2999)\u001b[0m\n\u001b[1;37m                   ^\u001b[0m\n\u001b[1;31mSyntaxError\u001b[0m\u001b[1;31m:\u001b[0m invalid syntax\n"
     ]
    }
   ],
   "source": [
    "# initialize the amount variable\n",
    "amount = 10000\n",
    "\n",
    "# check that You are eligible to\n",
    "# purchase Dsa Self Paced or not\n",
    "if(amount>2999)\n",
    "\tprint(\"You are eligible to purchase Dsa Self Paced\")\n",
    "\t\n"
   ]
  },
  {
   "cell_type": "code",
   "execution_count": null,
   "metadata": {},
   "outputs": [],
   "source": [
    "# initialize the amount variable\n",
    "marks = 10000\n",
    "\n",
    "# perform division with 0\n",
    "a = marks / 0\n",
    "print(a)\n"
   ]
  },
  {
   "cell_type": "markdown",
   "metadata": {},
   "source": [
    "# Try and Except in Exception Handling"
   ]
  },
  {
   "cell_type": "code",
   "execution_count": null,
   "metadata": {},
   "outputs": [],
   "source": [
    "# Python program to handle simple runtime error\n",
    "#Python 3\n",
    "\n",
    "a = [1, 2, 3]\n",
    "try:\n",
    "\tprint (\"Second element = %d\" %(a[1]))\n",
    "\n",
    "\t# Throws error since there are only 3 elements in array\n",
    "\tprint (\"Fourth element = %d\" %(a[3]))\n",
    "\n",
    "except IndexError:\n",
    "\tprint (\"An error occurred\")\n"
   ]
  },
  {
   "cell_type": "code",
   "execution_count": null,
   "metadata": {},
   "outputs": [],
   "source": [
    "# Program to handle multiple errors with one except statement\n",
    "# Python 3\n",
    "try :\n",
    "\ta = 3\n",
    "\tif a < 4 :\n",
    "\n",
    "\t\t# throws ZeroDivisionError for a = 3\n",
    "\t\tb = a/(a-3)\n",
    "\t\n",
    "\t# throws NameError if a >= 4\n",
    "\tprint (\"Value of b = \", b)\n",
    "\n",
    "# note that braces () are necessary here for multiple exceptions\n",
    "except(ZeroDivisionError, NameError):\n",
    "\tprint (\"Error Occurred and Handled\")\n"
   ]
  },
  {
   "cell_type": "markdown",
   "metadata": {},
   "source": [
    "# some problems"
   ]
  },
  {
   "cell_type": "code",
   "execution_count": 19,
   "metadata": {},
   "outputs": [
    {
     "name": "stdout",
     "output_type": "stream",
     "text": [
      "Enter word to know its meaning\n",
      "str\n",
      "Meaning of  word str is ( It uses for string value in python  )\n"
     ]
    }
   ],
   "source": [
    "python = {\"int\":\"It uses for integer value in python\",\n",
    "         \"float\":\"It uses for decimal value in python\",\n",
    "         \"str\":\"It uses for string value in python \"}\n",
    "print(\"Enter word to know its meaning\")\n",
    "word = input()\n",
    "\n",
    "if word in python.keys():\n",
    "    print(\"Meaning of \",\"word\", word, \"is\" ,\"(\",python[word],\")\")\n",
    "else:\n",
    "    print(\"Please enter valid word\")"
   ]
  },
  {
   "cell_type": "code",
   "execution_count": 59,
   "metadata": {},
   "outputs": [
    {
     "name": "stdout",
     "output_type": "stream",
     "text": [
      "5\n",
      "# # # # # # \n",
      "# # # # # \n",
      "# # # # \n",
      "# # # \n",
      "# # \n"
     ]
    }
   ],
   "source": [
    "a=int(input())\n",
    "#k=a-1 k=2*a-2\n",
    "for i in range(a,0,-1):\n",
    "    #for j in range(0,k):\n",
    "     #   print(end=\" \")\n",
    "    #k=k-1\n",
    "    for j in range(0,i+1):\n",
    "        print(\"# \",end=\"\")\n",
    "    print(\"\\r\")"
   ]
  },
  {
   "cell_type": "markdown",
   "metadata": {},
   "source": [
    "# Public , _Protected , __private"
   ]
  },
  {
   "cell_type": "code",
   "execution_count": 29,
   "metadata": {},
   "outputs": [
    {
     "name": "stdout",
     "output_type": "stream",
     "text": [
      "200\n",
      "Delhi public school\n"
     ]
    }
   ],
   "source": [
    "class School:\n",
    "    schoolname = \"Delhi public school\"  ## default - public\n",
    "    _schoolname1 = \"Delhi public school\" ##protected\n",
    "    __schoolname2 = \"Delhi public school\"  ##private\n",
    "    \n",
    "    def __init__(self,count):\n",
    "        self.count = count\n",
    "    def show_students(self):\n",
    "        return self.count\n",
    "   \n",
    "    #@classmethod\n",
    "    #def class_variable(cls,new_school):\n",
    "     #   cls.school_name = new_school\n",
    "    \n",
    "s1=School(200)\n",
    "print(s1.show_students())\n",
    "print(s1._schoolname1)    #print(s1._School__schoolname2)"
   ]
  },
  {
   "cell_type": "code",
   "execution_count": 9,
   "metadata": {},
   "outputs": [
    {
     "name": "stdout",
     "output_type": "stream",
     "text": [
      "Select Client Name:\n",
      "Press 1 for ankit\n",
      "Press 2 for harsh\n",
      "1\n",
      "selected client : ankit\n",
      "1\n",
      "enter\n",
      "iam hero\n",
      "ADD MORE ? y/n:n\n"
     ]
    }
   ],
   "source": [
    "client={1:\"ankit\",2:\"harsh\"}\n",
    "print(\"Select Client Name:\")\n",
    "for key,value in client.items():\n",
    "    print(\"Press\",key,\"for\",value)\n",
    "client_name=int(input())\n",
    "print(\"selected client :\" , client[client_name])\n",
    "if client_name==1:\n",
    "    print(client_name)\n",
    "    f=open(client[client_name]+\".txt\",\"a\")\n",
    "    k='y'\n",
    "    while(k is not \"n\"):\n",
    "        print(\"enter\")\n",
    "        mytext=input()\n",
    "        f.write(mytext)\n",
    "        k = input(\"ADD MORE ? y/n:\")\n",
    "        continue\n",
    "    f.close()\n",
    "else:\n",
    "    print(\"ok\")\n",
    "    \n"
   ]
  },
  {
   "cell_type": "code",
   "execution_count": 4,
   "metadata": {},
   "outputs": [
    {
     "name": "stdout",
     "output_type": "stream",
     "text": [
      "Select Client Name:\n",
      "Press 1 for Harry \n",
      "Press 2 for Rohan \n",
      "Press 3 for Hammad \n",
      "1\n",
      "Selected Client :  Harry \n",
      "Press 1 for Lock\n",
      "Press 2 for Retrieve\n",
      "2\n",
      "Press 1 to retrieve Exercise \n",
      "Press 2 to retrieve Diet \n",
      "1\n",
      "Harry - Exercise Report : \n",
      "[ 2021-07-27 13:30:27.883735 ] : cardio\n"
     ]
    }
   ],
   "source": [
    "# Health Management System\n",
    "client_list = {1:\"Harry\", 2:\"Rohan\", 3:\"Hammad\"}\n",
    "lock_list = {1:\"Exercise\", 2:\"Diet\"}\n",
    "\n",
    "def getdate():\n",
    "    import datetime\n",
    "    return datetime.datetime.now()\n",
    "\n",
    "try:\n",
    "    print(\"Select Client Name:\")\n",
    "    for key, value in client_list.items():\n",
    "        print(\"Press\", key, \"for\", value,\"\\n\", end=\"\")\n",
    "    client_name = int(input())\n",
    "        \n",
    "    print(\"Selected Client : \", client_list[client_name], \"\\n\", end=\"\")\n",
    "\n",
    "    print(\"Press 1 for Lock\")\n",
    "    print(\"Press 2 for Retrieve\")\n",
    "    op = int(input())\n",
    "\n",
    "    if op is 1:\n",
    "        for key, value in lock_list.items():\n",
    "            print(\"Press\", key, \"to lock\", value,\"\\n\", end=\"\")\n",
    "        lock_name =  int(input())\n",
    "        print(\"Selected Job : \", lock_list[lock_name])\n",
    "        f = open(client_list[client_name] + \"_\" + lock_list[lock_name] + \".txt\", \"a\")\n",
    "        k = 'y'\n",
    "        while(k is not \"n\"):\n",
    "            print(\"Enter\", lock_list[lock_name], \"\\n\", end=\"\")\n",
    "            mytext = input()\n",
    "            f.write(\"[ \" + str(getdate()) + \" ] : \" + mytext + \"\\n\")\n",
    "            k = input(\"ADD MORE ? y/n:\")\n",
    "            continue\n",
    "        f.close()\n",
    "    elif op is 2:\n",
    "        for key, value in lock_list.items():\n",
    "            print(\"Press\", key, \"to retrieve\", value,\"\\n\", end=\"\")\n",
    "        lock_name =  int(input())\n",
    "        print(client_list[client_name], \"-\", lock_list[lock_name], \"Report :\",\"\\n\", end=\"\")\n",
    "        f = open(client_list[client_name] + \"_\" + lock_list[lock_name] + \".txt\", \"rt\")\n",
    "        contents = f.readlines()\n",
    "        for line in contents:\n",
    "            print(line, end=\"\")\n",
    "        f.close() \n",
    "    else:\n",
    "        print(\"Invalid Input !!!\")\n",
    "except Exception as e:\n",
    "    print(\"Wrong Input !!!\")"
   ]
  }
 ],
 "metadata": {
  "kernelspec": {
   "display_name": "Python 3",
   "language": "python",
   "name": "python3"
  },
  "language_info": {
   "codemirror_mode": {
    "name": "ipython",
    "version": 3
   },
   "file_extension": ".py",
   "mimetype": "text/x-python",
   "name": "python",
   "nbconvert_exporter": "python",
   "pygments_lexer": "ipython3",
   "version": "3.7.6"
  }
 },
 "nbformat": 4,
 "nbformat_minor": 4
}
