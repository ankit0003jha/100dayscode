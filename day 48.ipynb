{
 "cells": [
  {
   "cell_type": "markdown",
   "id": "320d6258",
   "metadata": {},
   "source": [
    "## GCD of two numbers"
   ]
  },
  {
   "cell_type": "markdown",
   "id": "2cbae109",
   "metadata": {},
   "source": [
    "An efficient solution is to use Euclidean algorithm "
   ]
  },
  {
   "cell_type": "code",
   "execution_count": 15,
   "id": "bcaeae68",
   "metadata": {},
   "outputs": [
    {
     "data": {
      "text/plain": [
       "2"
      ]
     },
     "execution_count": 15,
     "metadata": {},
     "output_type": "execute_result"
    }
   ],
   "source": [
    "class Solution:\n",
    "    def gcd(self, a, b):\n",
    "        if a==0:\n",
    "            return b\n",
    "        if b==0:\n",
    "            return a\n",
    "        if a==b:\n",
    "            return a\n",
    "        if a>b:\n",
    "            return sol.gcd(a-b, b)\n",
    "        return sol.gcd(a, b-a)\n",
    "    \n",
    "sol = Solution()\n",
    "sol.gcd(2, 6)"
   ]
  },
  {
   "cell_type": "code",
   "execution_count": 3,
   "id": "0ad9fb95",
   "metadata": {},
   "outputs": [
    {
     "data": {
      "text/plain": [
       "3"
      ]
     },
     "execution_count": 3,
     "metadata": {},
     "output_type": "execute_result"
    }
   ],
   "source": [
    "class Solution:\n",
    "    def gcd(self, A, B):\n",
    "        if B==0:\n",
    "            return A\n",
    "        return Solution.gcd(self, B, A%B)\n",
    "\n",
    "sol = Solution()\n",
    "sol.gcd(3, 6)"
   ]
  },
  {
   "cell_type": "markdown",
   "id": "76fad447",
   "metadata": {},
   "source": [
    "## LCM of two number"
   ]
  },
  {
   "cell_type": "markdown",
   "id": "a8ab8625",
   "metadata": {},
   "source": [
    "formula to find LCM(a, b) = a * b / GCD(a, b)"
   ]
  },
  {
   "cell_type": "code",
   "execution_count": 11,
   "id": "b3554386",
   "metadata": {},
   "outputs": [
    {
     "data": {
      "text/plain": [
       "10"
      ]
     },
     "execution_count": 11,
     "metadata": {},
     "output_type": "execute_result"
    }
   ],
   "source": [
    "def gcd(A, B):\n",
    "    if B==0:\n",
    "        return A\n",
    "    return gcd(B, (A%B))\n",
    "    \n",
    "def lcm(a, b):\n",
    "    return a * b // (gcd(a,b))\n",
    "    \n",
    "\n",
    "lcm(2,5)"
   ]
  },
  {
   "cell_type": "markdown",
   "id": "55fc0eea",
   "metadata": {},
   "source": [
    "## LCM and GCD"
   ]
  },
  {
   "cell_type": "code",
   "execution_count": 14,
   "id": "0a986a85",
   "metadata": {},
   "outputs": [
    {
     "data": {
      "text/plain": [
       "(56, 2)"
      ]
     },
     "execution_count": 14,
     "metadata": {},
     "output_type": "execute_result"
    }
   ],
   "source": [
    "class Solution:\n",
    "    def gcd(A, B):\n",
    "        if B==0:\n",
    "            return A\n",
    "        return Solution.gcd(B, (A%B))\n",
    "    def lcm(self, A , B):\n",
    "        gcd = Solution.gcd(A,B)\n",
    "        lcm =  A * B // gcd\n",
    "        \n",
    "        return lcm,gcd\n",
    "    \n",
    "sol = Solution()\n",
    "sol.lcm(14, 8)"
   ]
  }
 ],
 "metadata": {
  "kernelspec": {
   "display_name": "Python 3",
   "language": "python",
   "name": "python3"
  },
  "language_info": {
   "codemirror_mode": {
    "name": "ipython",
    "version": 3
   },
   "file_extension": ".py",
   "mimetype": "text/x-python",
   "name": "python",
   "nbconvert_exporter": "python",
   "pygments_lexer": "ipython3",
   "version": "3.8.8"
  }
 },
 "nbformat": 4,
 "nbformat_minor": 5
}
