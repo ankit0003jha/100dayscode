{
 "cells": [
  {
   "cell_type": "markdown",
   "id": "b6cda565",
   "metadata": {},
   "source": [
    "## Roman to Integer"
   ]
  },
  {
   "cell_type": "markdown",
   "id": "23486d6f",
   "metadata": {},
   "source": [
    "For example, 2 is written as II in Roman numeral, just two one's added together. 12 is written as XII, which is simply X + II. The number 27 is written as XXVII, which is XX + V + II.\n",
    "\n",
    "Roman numerals are usually written largest to smallest from left to right. However, the numeral for four is not IIII. Instead, the number four is written as IV. Because the one is before the five we subtract it making four. The same principle applies to the number nine, which is written as IX. There are six instances where subtraction is used:\n",
    "\n",
    "I can be placed before V (5) and X (10) to make 4 and 9. \n",
    "X can be placed before L (50) and C (100) to make 40 and 90. \n",
    "C can be placed before D (500) and M (1000) to make 400 and 900.\n",
    "Given a roman numeral, convert it to an integer.\n",
    "\n",
    " \n",
    "\n",
    "## Example 1:\n",
    "\n",
    "Input: s = \"III\"\n",
    "\n",
    "Output: 3\n",
    "\n",
    "## Example 2:\n",
    "\n",
    "Input: s = \"IV\"\n",
    "\n",
    "Output: 4\n",
    "\n",
    "## Example 3:\n",
    "\n",
    "Input: s = \"IX\"\n",
    "\n",
    "Output: 9\n",
    "\n",
    "## Example 4:\n",
    "\n",
    "Input: s = \"LVIII\"\n",
    "\n",
    "Output: 58\n",
    "\n",
    "Explanation: L = 50, V= 5, III = 3."
   ]
  },
  {
   "cell_type": "code",
   "execution_count": 46,
   "id": "eb6ccae8",
   "metadata": {},
   "outputs": [
    {
     "data": {
      "text/plain": [
       "1994"
      ]
     },
     "execution_count": 46,
     "metadata": {},
     "output_type": "execute_result"
    }
   ],
   "source": [
    "class Solution:\n",
    "    def romanToInt(self, s: str) -> int:\n",
    "        roman = {'I':1, 'V':5, 'X':10, 'L':50, 'C':100, 'D':500, 'M':1000}\n",
    "        n = len(s)\n",
    "        num = 0\n",
    "        for i in range(n):\n",
    "            if i+1<n and roman[s[i]]<roman[s[i+1]]:\n",
    "                num -= roman[s[i]]\n",
    "            else:\n",
    "                num += roman[s[i]]\n",
    "        return num\n",
    "    \n",
    "sol = Solution()\n",
    "sol.romanToInt(\"MCMXCIV\")"
   ]
  },
  {
   "cell_type": "code",
   "execution_count": 47,
   "id": "5bb5360d",
   "metadata": {},
   "outputs": [
    {
     "name": "stdout",
     "output_type": "stream",
     "text": [
      "4\n"
     ]
    }
   ],
   "source": [
    "dict1 = {\"I\":1, \"V\":5, \"X\":10, \"L\":50, \"C\":100, \"D\":500, \"M\":1000}\n",
    "\n",
    "a = \"IV\"\n",
    "sums=0\n",
    "\n",
    "\n",
    "\n",
    "for i in range(len(a)):\n",
    "    if a[i]==\"I\" and a[i+1]==\"V\":\n",
    "        sums = dict1[a[i+1]]-dict1[a[i]]\n",
    "        break\n",
    "    elif a[i]==\"I\" and a[i+1]==\"X\":\n",
    "        sums =  dict1[a[i+1]]-dict1[a[i]]\n",
    "    elif a[i]==\"X\" and a[i+1]==\"L\":\n",
    "        sums +=  dict1[a[i+1]]-dict1[a[i]]\n",
    "    elif a[i]==\"X\" and a[i+1]==\"C\":\n",
    "        sums =  dict1[a[i+1]]-dict1[a[i]]\n",
    "    elif a[i]==\"C\" and a[i+1]==\"D\":\n",
    "        sums +=  dict1[a[i+1]]-dict1[a[i]]\n",
    "    elif a[i]==\"C\" and a[i+1]==\"M\":\n",
    "        sums +=  dict1[a[i+1]]-dict1[a[i]]\n",
    "    else:\n",
    "        sums+=dict1[a[i]]\n",
    "\n",
    "print(sums)"
   ]
  },
  {
   "cell_type": "code",
   "execution_count": null,
   "id": "30e558a5",
   "metadata": {},
   "outputs": [],
   "source": []
  }
 ],
 "metadata": {
  "kernelspec": {
   "display_name": "Python 3",
   "language": "python",
   "name": "python3"
  },
  "language_info": {
   "codemirror_mode": {
    "name": "ipython",
    "version": 3
   },
   "file_extension": ".py",
   "mimetype": "text/x-python",
   "name": "python",
   "nbconvert_exporter": "python",
   "pygments_lexer": "ipython3",
   "version": "3.8.8"
  }
 },
 "nbformat": 4,
 "nbformat_minor": 5
}
