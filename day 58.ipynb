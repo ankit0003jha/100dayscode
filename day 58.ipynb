{
 "cells": [
  {
   "cell_type": "markdown",
   "id": "850fcee3",
   "metadata": {},
   "source": [
    "## Partition Labels"
   ]
  },
  {
   "cell_type": "code",
   "execution_count": 4,
   "id": "4784a368",
   "metadata": {},
   "outputs": [
    {
     "data": {
      "text/plain": [
       "[9, 7, 8]"
      ]
     },
     "execution_count": 4,
     "metadata": {},
     "output_type": "execute_result"
    }
   ],
   "source": [
    "class Solution:\n",
    "    def partitionLabels(self, s: str):\n",
    "        end_indx = [0]*26\n",
    "        for i in range(len(s)):\n",
    "            end_indx[ord(s[i])-ord(\"a\")] = i\n",
    "        result = []\n",
    "        start, end = 0, 0\n",
    "        for i in range(len(s)):\n",
    "            end = max(end, end_indx[ord(s[i])-ord(\"a\")])\n",
    "            if i == end:\n",
    "                result.append(i-start+1)\n",
    "                start = i+1 \n",
    "        return result\n",
    "\n",
    "sol = Solution()\n",
    "sol.partitionLabels(\"ababcbacadefegdehijhklij\")"
   ]
  },
  {
   "cell_type": "code",
   "execution_count": 6,
   "id": "4dd4c50e",
   "metadata": {},
   "outputs": [
    {
     "data": {
      "text/plain": [
       "98"
      ]
     },
     "execution_count": 6,
     "metadata": {},
     "output_type": "execute_result"
    }
   ],
   "source": [
    "ord(\"b\")"
   ]
  },
  {
   "cell_type": "code",
   "execution_count": null,
   "id": "67118c18",
   "metadata": {},
   "outputs": [],
   "source": []
  }
 ],
 "metadata": {
  "kernelspec": {
   "display_name": "Python 3",
   "language": "python",
   "name": "python3"
  },
  "language_info": {
   "codemirror_mode": {
    "name": "ipython",
    "version": 3
   },
   "file_extension": ".py",
   "mimetype": "text/x-python",
   "name": "python",
   "nbconvert_exporter": "python",
   "pygments_lexer": "ipython3",
   "version": "3.8.8"
  }
 },
 "nbformat": 4,
 "nbformat_minor": 5
}
