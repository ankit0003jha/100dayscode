{
 "cells": [
  {
   "cell_type": "markdown",
   "metadata": {},
   "source": [
    "# Capitalize!\n",
    "\n"
   ]
  },
  {
   "cell_type": "code",
   "execution_count": 42,
   "metadata": {},
   "outputs": [
    {
     "name": "stdout",
     "output_type": "stream",
     "text": [
      "Ankit Jha\n"
     ]
    }
   ],
   "source": [
    "Word = \"ankit jha\"\n",
    "print(Word.capitalize())  ## you csn also use title()"
   ]
  },
  {
   "cell_type": "code",
   "execution_count": 108,
   "metadata": {},
   "outputs": [],
   "source": [
    "def strings(s):\n",
    "    result = ' '.join(elem.capitalize() for elem in s.split())\n",
    "    return print(str(result))"
   ]
  },
  {
   "cell_type": "code",
   "execution_count": 109,
   "metadata": {},
   "outputs": [
    {
     "name": "stdout",
     "output_type": "stream",
     "text": [
      "Q W E R T Y U I O P A S D F G H J K L Z X C V B N M Q W E R T Y U I O P A S D F G H J K L Z X C V B N M\n"
     ]
    }
   ],
   "source": [
    "strings('q w e r t y u i o p a s d f g h j  k l z x c v b n m Q W E R T Y U I O P A S D F G H J  K L Z X C V B N M')"
   ]
  },
  {
   "cell_type": "code",
   "execution_count": 85,
   "metadata": {},
   "outputs": [],
   "source": [
    "ans = (result+' \\n')"
   ]
  },
  {
   "cell_type": "code",
   "execution_count": 86,
   "metadata": {},
   "outputs": [
    {
     "data": {
      "text/plain": [
       "'Hello World Lol \\n'"
      ]
     },
     "execution_count": 86,
     "metadata": {},
     "output_type": "execute_result"
    }
   ],
   "source": [
    "ans"
   ]
  },
  {
   "cell_type": "code",
   "execution_count": 98,
   "metadata": {},
   "outputs": [
    {
     "name": "stdout",
     "output_type": "stream",
     "text": [
      "ankit \n",
      " raja\n"
     ]
    }
   ],
   "source": [
    "a = print(\"ankit \\n raja\")"
   ]
  },
  {
   "cell_type": "code",
   "execution_count": 158,
   "metadata": {},
   "outputs": [],
   "source": [
    "a = 'ABCDEFGHIJKLIMNOQRSTUVWXYZiii'\n",
    "b= int(4)\n",
    "k=0\n",
    "lst = []\n",
    "strings=str()\n",
    "for i in range(1,len(a)):\n",
    "        if i%b==0:\n",
    "            j=i\n",
    "            a1 = a[k:j]\n",
    "            lst.append(a1)\n",
    "            k=j\n",
    "if i!=len(a):\n",
    "    a2 = a[k:]\n",
    "    lst.append(a2)"
   ]
  },
  {
   "cell_type": "code",
   "execution_count": 167,
   "metadata": {},
   "outputs": [
    {
     "data": {
      "text/plain": [
       "{'ABCD', 'EFGH', 'IJKL', 'IMNO', 'QRST', 'UVWX', 'YZii', 'i'}"
      ]
     },
     "execution_count": 167,
     "metadata": {},
     "output_type": "execute_result"
    }
   ],
   "source": [
    "set(lst)"
   ]
  },
  {
   "cell_type": "code",
   "execution_count": 171,
   "metadata": {},
   "outputs": [
    {
     "name": "stdout",
     "output_type": "stream",
     "text": [
      "ABCD\n",
      "EFGH\n",
      "IJKL\n",
      "IMNO\n",
      "QRST\n",
      "UVWX\n",
      "YZii\n",
      "i\n"
     ]
    }
   ],
   "source": [
    "for i in lst:\n",
    "    print(i)\n"
   ]
  },
  {
   "cell_type": "code",
   "execution_count": 170,
   "metadata": {},
   "outputs": [
    {
     "data": {
      "text/plain": [
       "'i\\n'"
      ]
     },
     "execution_count": 170,
     "metadata": {},
     "output_type": "execute_result"
    }
   ],
   "source": [
    "a"
   ]
  },
  {
   "cell_type": "code",
   "execution_count": 112,
   "metadata": {},
   "outputs": [
    {
     "data": {
      "text/plain": [
       "'ABCD'"
      ]
     },
     "execution_count": 112,
     "metadata": {},
     "output_type": "execute_result"
    }
   ],
   "source": [
    "a = 'ABCDEFGHIJKLIMNOQRSTUVWXYZ'\n",
    "a[0:4]"
   ]
  },
  {
   "cell_type": "code",
   "execution_count": 113,
   "metadata": {},
   "outputs": [
    {
     "data": {
      "text/plain": [
       "26"
      ]
     },
     "execution_count": 113,
     "metadata": {},
     "output_type": "execute_result"
    }
   ],
   "source": [
    "len(a)"
   ]
  },
  {
   "cell_type": "code",
   "execution_count": 117,
   "metadata": {},
   "outputs": [
    {
     "name": "stdout",
     "output_type": "stream",
     "text": [
      "4\n",
      "8\n",
      "12\n",
      "16\n",
      "20\n",
      "24\n"
     ]
    }
   ],
   "source": [
    "for i in range(1,26):\n",
    "    if i%4==0:\n",
    "        print(i)\n",
    "        "
   ]
  },
  {
   "cell_type": "markdown",
   "metadata": {},
   "source": [
    "# Text Wrap"
   ]
  },
  {
   "cell_type": "code",
   "execution_count": null,
   "metadata": {},
   "outputs": [],
   "source": [
    "def wrap(string, max_width):\n",
    "    k=0\n",
    "    lst= []\n",
    "    strings = str()\n",
    "    for i in range(1,len(string)):\n",
    "        if i % max_width == 0 :\n",
    "            j=i\n",
    "            a1 = string[k:j]\n",
    "            lst.append(a1)\n",
    "            k=j\n",
    "    if i!=len(string):\n",
    "        a2 = string[k:]\n",
    "        lst.append(a2)\n",
    "    for ele in lst:\n",
    "        strings = strings + ele + \"\\n\"\n",
    "    return strings\n",
    "if __name__ == '__main__':\n",
    "    string, max_width = input(), int(input())\n",
    "    result = wrap(string, max_width)\n",
    "    print(result)"
   ]
  },
  {
   "cell_type": "code",
   "execution_count": 204,
   "metadata": {},
   "outputs": [
    {
     "name": "stdout",
     "output_type": "stream",
     "text": [
      "1 1 1 1\n",
      "2 2 2 10\n",
      "3 3 3 11\n",
      "4 4 4 100\n",
      "5 5 5 101\n",
      "6 6 6 110\n",
      "7 7 7 111\n",
      "8 10 8 1000\n",
      "9 11 9 1001\n",
      "10 12 A 1010\n",
      "11 13 B 1011\n",
      "12 14 C 1100\n",
      "13 15 D 1101\n",
      "14 16 E 1110\n",
      "15 17 F 1111\n",
      "16 20 10 10000\n",
      "17 21 11 10001\n"
     ]
    }
   ],
   "source": [
    "number = 17\n",
    "for i in range(1,number+1):\n",
    "    \n",
    "    print(i,oct(i)[2:],hex(i).upper()[2:],bin(i)[2:])\n",
    "    "
   ]
  },
  {
   "cell_type": "markdown",
   "metadata": {},
   "source": [
    "# Print_formatted"
   ]
  },
  {
   "cell_type": "code",
   "execution_count": 209,
   "metadata": {},
   "outputs": [
    {
     "name": "stdout",
     "output_type": "stream",
     "text": [
      "17\n",
      "5\n",
      "    1     1     1     1\n",
      "    2     2     2    10\n",
      "    3     3     3    11\n",
      "    4     4     4   100\n",
      "    5     5     5   101\n",
      "    6     6     6   110\n",
      "    7     7     7   111\n",
      "    8    10     8  1000\n",
      "    9    11     9  1001\n",
      "   10    12     A  1010\n",
      "   11    13     B  1011\n",
      "   12    14     C  1100\n",
      "   13    15     D  1101\n",
      "   14    16     E  1110\n",
      "   15    17     F  1111\n",
      "   16    20    10 10000\n",
      "   17    21    11 10001\n"
     ]
    }
   ],
   "source": [
    "def print_formatted(number):\n",
    "    # your code goes here\n",
    "    result = []\n",
    "    for i in range(1,number+1):\n",
    "        decimal = str(i)\n",
    "        octal = str(oct(i)[2:])\n",
    "        hexa = str(hex(i).upper()[2:])\n",
    "        binary = str(bin(i)[2:])\n",
    "        result.append([decimal,octal,hexa,binary])\n",
    "    width = len(result[-1][3])  # largest binary number\n",
    "    print(width)\n",
    "    for i in result:\n",
    "        ans = print(*(rep.rjust(width) for rep in i))\n",
    "    return ans\n",
    "if __name__ == '__main__':\n",
    "    n = int(input())\n",
    "    print_formatted(n)"
   ]
  },
  {
   "cell_type": "code",
   "execution_count": 26,
   "metadata": {},
   "outputs": [
    {
     "name": "stdout",
     "output_type": "stream",
     "text": [
      "1 2 \n",
      "3 4\n",
      "1\n",
      " \n",
      "2\n",
      " \n"
     ]
    }
   ],
   "source": [
    "a1,a2=input().split()\n",
    "b1,b2=input().split()\n",
    "A = []\n",
    "B= []\n",
    "A.append(a1)\n",
    "A.append(a1)\n",
    "A.append(b1)\n",
    "A.append(b2)\n",
    "a = \"\".join(A)\n",
    "b = \"\".join(B)\n",
    "c=[]\n",
    "for i in a:\n",
    "    print(i)\n",
    "    for j in b:\n",
    "        d=i,j\n",
    "        c.append(d)"
   ]
  },
  {
   "cell_type": "code",
   "execution_count": 27,
   "metadata": {},
   "outputs": [
    {
     "data": {
      "text/plain": [
       "[('1', '3'),\n",
       " ('1', ' '),\n",
       " ('1', '4'),\n",
       " (' ', '3'),\n",
       " (' ', ' '),\n",
       " (' ', '4'),\n",
       " ('2', '3'),\n",
       " ('2', ' '),\n",
       " ('2', '4'),\n",
       " (' ', '3'),\n",
       " (' ', ' '),\n",
       " (' ', '4')]"
      ]
     },
     "execution_count": 27,
     "metadata": {},
     "output_type": "execute_result"
    }
   ],
   "source": [
    "c"
   ]
  },
  {
   "cell_type": "code",
   "execution_count": 19,
   "metadata": {},
   "outputs": [
    {
     "name": "stdout",
     "output_type": "stream",
     "text": [
      "1 2\n"
     ]
    }
   ],
   "source": [
    "a=list(input())"
   ]
  },
  {
   "cell_type": "code",
   "execution_count": 20,
   "metadata": {},
   "outputs": [
    {
     "data": {
      "text/plain": [
       "['1', ' ', '2']"
      ]
     },
     "execution_count": 20,
     "metadata": {},
     "output_type": "execute_result"
    }
   ],
   "source": [
    "a"
   ]
  },
  {
   "cell_type": "code",
   "execution_count": 21,
   "metadata": {},
   "outputs": [],
   "source": [
    "a = \"\".join(a)"
   ]
  },
  {
   "cell_type": "code",
   "execution_count": 22,
   "metadata": {},
   "outputs": [
    {
     "data": {
      "text/plain": [
       "'1 2'"
      ]
     },
     "execution_count": 22,
     "metadata": {},
     "output_type": "execute_result"
    }
   ],
   "source": [
    "a"
   ]
  },
  {
   "cell_type": "code",
   "execution_count": 23,
   "metadata": {},
   "outputs": [
    {
     "name": "stdout",
     "output_type": "stream",
     "text": [
      "1\n",
      " \n",
      "2\n"
     ]
    }
   ],
   "source": [
    "for i in a:\n",
    "    print(i)"
   ]
  }
 ],
 "metadata": {
  "kernelspec": {
   "display_name": "Python 3",
   "language": "python",
   "name": "python3"
  },
  "language_info": {
   "codemirror_mode": {
    "name": "ipython",
    "version": 3
   },
   "file_extension": ".py",
   "mimetype": "text/x-python",
   "name": "python",
   "nbconvert_exporter": "python",
   "pygments_lexer": "ipython3",
   "version": "3.7.6"
  }
 },
 "nbformat": 4,
 "nbformat_minor": 4
}
