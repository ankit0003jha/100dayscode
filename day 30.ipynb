{
 "cells": [
  {
   "cell_type": "markdown",
   "metadata": {},
   "source": [
    "## Day - 30 --> Started solving leetcode easy problem for string data structure."
   ]
  },
  {
   "cell_type": "markdown",
   "metadata": {},
   "source": [
    "## Defanging Ip address"
   ]
  },
  {
   "cell_type": "code",
   "execution_count": 7,
   "metadata": {},
   "outputs": [
    {
     "name": "stdout",
     "output_type": "stream",
     "text": [
      "1.1.1.1\n"
     ]
    },
    {
     "data": {
      "text/plain": [
       "'1[.]1[.]1[.]1'"
      ]
     },
     "execution_count": 7,
     "metadata": {},
     "output_type": "execute_result"
    }
   ],
   "source": [
    "class Solutions:\n",
    "    def defangIPaddr(self, address: str) -> str:\n",
    "        return '[.]'.join(address.split('.'))\n",
    "    \n",
    "    \n",
    "    \n",
    "ip = Solution()\n",
    "address=input()\n",
    "ip.defangIPaddr(address)"
   ]
  },
  {
   "cell_type": "code",
   "execution_count": 5,
   "metadata": {},
   "outputs": [
    {
     "name": "stdout",
     "output_type": "stream",
     "text": [
      "1.1.1.1\n"
     ]
    },
    {
     "data": {
      "text/plain": [
       "'1[.]1[.]1[.]1'"
      ]
     },
     "execution_count": 5,
     "metadata": {},
     "output_type": "execute_result"
    }
   ],
   "source": [
    "class Solution:\n",
    "    def defangIPaddr(self, address: str) -> str:\n",
    "        new_address=str(\"\")\n",
    "        for i in address:\n",
    "            if i == \".\":\n",
    "                new_address += \"[.]\"\n",
    "            else:\n",
    "                new_address += i\n",
    "        return new_address\n",
    "  \n",
    "\n",
    "\n",
    "ip = Solution()\n",
    "address=input()\n",
    "ip.defangIPaddr(address)"
   ]
  },
  {
   "cell_type": "code",
   "execution_count": 9,
   "metadata": {},
   "outputs": [
    {
     "name": "stdout",
     "output_type": "stream",
     "text": [
      "1.1.1.1\n"
     ]
    },
    {
     "data": {
      "text/plain": [
       "'1[.]1[.]1[.]1'"
      ]
     },
     "execution_count": 9,
     "metadata": {},
     "output_type": "execute_result"
    }
   ],
   "source": [
    "class Solution:\n",
    "    def defangIPaddr(self, address: str) -> str:\n",
    "        ans = []\n",
    "        for ch in address:\n",
    "            if ch.isdigit():\n",
    "                ans.append(ch)\n",
    "            else:\n",
    "                ans.append(\"[.]\")\n",
    "\n",
    "            return \"\".join(ans)\n",
    "    \n",
    "    \n",
    "ip = Solution()\n",
    "address=input()\n",
    "ip.defangIPaddr(address)"
   ]
  },
  {
   "cell_type": "code",
   "execution_count": 10,
   "metadata": {},
   "outputs": [
    {
     "name": "stdout",
     "output_type": "stream",
     "text": [
      "127.0.0.1\n"
     ]
    },
    {
     "data": {
      "text/plain": [
       "'127[.]0[.]0[.]1'"
      ]
     },
     "execution_count": 10,
     "metadata": {},
     "output_type": "execute_result"
    }
   ],
   "source": [
    "class Solution:\n",
    "    def defangIPaddr(self, address: str) -> str:\n",
    "        return address.replace('.', '[.]')\n",
    "    \n",
    "ip = Solution()\n",
    "address=input()\n",
    "ip.defangIPaddr(address)"
   ]
  },
  {
   "cell_type": "markdown",
   "metadata": {},
   "source": [
    "## Jewels and Stones"
   ]
  },
  {
   "cell_type": "code",
   "execution_count": 8,
   "metadata": {},
   "outputs": [
    {
     "name": "stdout",
     "output_type": "stream",
     "text": [
      "AAaaf\n",
      "Aass\n"
     ]
    },
    {
     "data": {
      "text/plain": [
       "2"
      ]
     },
     "execution_count": 8,
     "metadata": {},
     "output_type": "execute_result"
    }
   ],
   "source": [
    "class Solution:\n",
    "    def numJewelsInStones(self, jewels: str, stones: str) -> int:\n",
    "        count = 0\n",
    "        for stone in stones:\n",
    "            if stone in jewels:\n",
    "                count += 1\n",
    "        return count\n",
    "                \n",
    "\n",
    "sol = Solution()\n",
    "jewel = input()\n",
    "stone = input()\n",
    "sol.numJewelsInStones(jewel, stone)\n",
    "        "
   ]
  },
  {
   "cell_type": "code",
   "execution_count": 18,
   "metadata": {},
   "outputs": [
    {
     "name": "stdout",
     "output_type": "stream",
     "text": [
      "aaaaA\n",
      "Aaaadd\n"
     ]
    },
    {
     "data": {
      "text/plain": [
       "4"
      ]
     },
     "execution_count": 18,
     "metadata": {},
     "output_type": "execute_result"
    }
   ],
   "source": [
    "class Solution:\n",
    "    def numJewelsInStones(self, j: str, s: str) -> int:\n",
    "        return sum(i in j for i in s )\n",
    "                \n",
    "\n",
    "sol = Solution()\n",
    "jewel = input()\n",
    "stone = input()\n",
    "sol.numJewelsInStones(jewel, stone)"
   ]
  },
  {
   "cell_type": "markdown",
   "metadata": {},
   "source": [
    "## Shuffle String"
   ]
  },
  {
   "cell_type": "code",
   "execution_count": 10,
   "metadata": {},
   "outputs": [
    {
     "data": {
      "text/plain": [
       "'leetcode'"
      ]
     },
     "execution_count": 10,
     "metadata": {},
     "output_type": "execute_result"
    }
   ],
   "source": [
    "class Solution:\n",
    "    def restoreString(self, s: str, indices) -> str:\n",
    "        new = [\"\"]*len(s)\n",
    "        for i in range(len(s)):\n",
    "            new[indices[i]] = s[i]\n",
    "        return \"\".join(new)\n",
    "    \n",
    "sol = Solution()\n",
    "sol.restoreString(\"codeleet\", [4,5,6,7,0,2,1,3])"
   ]
  },
  {
   "cell_type": "markdown",
   "metadata": {},
   "source": [
    "## Goal Parser Interpretation"
   ]
  },
  {
   "cell_type": "code",
   "execution_count": 31,
   "metadata": {},
   "outputs": [
    {
     "data": {
      "text/plain": [
       "'Goal'"
      ]
     },
     "execution_count": 31,
     "metadata": {},
     "output_type": "execute_result"
    }
   ],
   "source": [
    "class Solution:\n",
    "    def interpret(self, command: str) -> str:\n",
    "        dict1 = {\"G\":\"G\", \"()\":\"o\", \"(al)\":\"al\"} \n",
    "        final_str = str()\n",
    "        store_str = str()\n",
    "        for i in command:\n",
    "            store_str += i\n",
    "            if store_str in dict1:\n",
    "                final_str += dict1[store_str]\n",
    "                store_str=str()\n",
    "        return final_str\n",
    "    \n",
    "sol = Solution()\n",
    "sol.interpret(\"G()(al)\")\n",
    "        \n"
   ]
  },
  {
   "cell_type": "code",
   "execution_count": 32,
   "metadata": {},
   "outputs": [
    {
     "data": {
      "text/plain": [
       "'Goal'"
      ]
     },
     "execution_count": 32,
     "metadata": {},
     "output_type": "execute_result"
    }
   ],
   "source": [
    "class Solution:\n",
    "    def interpret(self, command: str) -> str:\n",
    "        return command.replace('()','o').replace('(al)','al')\n",
    "    \n",
    "    \n",
    "sol = Solution()\n",
    "sol.interpret(\"G()(al)\")\n",
    "        "
   ]
  },
  {
   "cell_type": "markdown",
   "metadata": {},
   "source": [
    "## countMatches"
   ]
  },
  {
   "cell_type": "code",
   "execution_count": 4,
   "metadata": {},
   "outputs": [
    {
     "data": {
      "text/plain": [
       "1"
      ]
     },
     "execution_count": 4,
     "metadata": {},
     "output_type": "execute_result"
    }
   ],
   "source": [
    "class Solution:\n",
    "    def countMatches(self, items, ruleKey: str, ruleValue: str) -> int:\n",
    "        count = 0\n",
    "        if ruleKey == \"type\":\n",
    "            j = 0\n",
    "        elif ruleKey == \"color\":\n",
    "            j = 1\n",
    "        else:\n",
    "            j = 2 \n",
    "          \n",
    "        for i in range(len(items)):\n",
    "            if items[i][j] == ruleValue:\n",
    "                count += 1\n",
    "            \n",
    "        return count \n",
    "    \n",
    "    \n",
    "    \n",
    "sol = Solution()\n",
    "sol.countMatches(items = [[\"phone\",\"blue\",\"pixel\"],[\"computer\",\"silver\",\"lenovo\"],[\"phone\",\"gold\",\"iphone\"]], ruleKey = \"color\", ruleValue = \"silver\")"
   ]
  }
 ],
 "metadata": {
  "kernelspec": {
   "display_name": "Python 3",
   "language": "python",
   "name": "python3"
  },
  "language_info": {
   "codemirror_mode": {
    "name": "ipython",
    "version": 3
   },
   "file_extension": ".py",
   "mimetype": "text/x-python",
   "name": "python",
   "nbconvert_exporter": "python",
   "pygments_lexer": "ipython3",
   "version": "3.7.6"
  }
 },
 "nbformat": 4,
 "nbformat_minor": 4
}
