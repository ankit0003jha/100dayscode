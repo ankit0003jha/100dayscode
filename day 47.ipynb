{
 "cells": [
  {
   "cell_type": "markdown",
   "id": "0afd07a1",
   "metadata": {},
   "source": [
    "## Jumping Numbers "
   ]
  },
  {
   "cell_type": "markdown",
   "id": "b3751c92",
   "metadata": {},
   "source": [
    "Jumping Number: A number is called Jumping Number if all adjacent digits in it differ by only 1. All single digit numbers are considered as Jumping Numbers. For example 7, 8987 and 4343456 are Jumping numbers but 796 and 89098 are not."
   ]
  },
  {
   "cell_type": "code",
   "execution_count": 45,
   "id": "052b2f60",
   "metadata": {},
   "outputs": [
    {
     "name": "stdout",
     "output_type": "stream",
     "text": [
      "33\n",
      "32\n"
     ]
    }
   ],
   "source": [
    "def jumping(x):\n",
    "    list1=[]\n",
    "    if len(x)==1:\n",
    "        return x\n",
    "    else:\n",
    "        for i in range(0,len(x)-1):\n",
    "            a = int(x[i])-int(x[i+1])\n",
    "            list1.append(a)\n",
    "    for i in list1:\n",
    "        if abs(i)>1 or abs(i)<1:\n",
    "            return False\n",
    "    else:\n",
    "        return True\n",
    "\n",
    "    \n",
    "x = input()\n",
    "for i in range(int(x),-1,-1):\n",
    "    if jumping(str(i)):\n",
    "        print(i)\n",
    "        break\n",
    "    "
   ]
  },
  {
   "cell_type": "code",
   "execution_count": null,
   "id": "e57a2d81",
   "metadata": {},
   "outputs": [],
   "source": []
  },
  {
   "cell_type": "code",
   "execution_count": null,
   "id": "d206be53",
   "metadata": {},
   "outputs": [],
   "source": []
  },
  {
   "cell_type": "code",
   "execution_count": null,
   "id": "f536349e",
   "metadata": {},
   "outputs": [],
   "source": []
  },
  {
   "cell_type": "code",
   "execution_count": null,
   "id": "b08f6b9d",
   "metadata": {},
   "outputs": [],
   "source": []
  },
  {
   "cell_type": "code",
   "execution_count": null,
   "id": "c3abc861",
   "metadata": {},
   "outputs": [],
   "source": []
  },
  {
   "cell_type": "code",
   "execution_count": null,
   "id": "0c2bb528",
   "metadata": {},
   "outputs": [],
   "source": []
  }
 ],
 "metadata": {
  "kernelspec": {
   "display_name": "Python 3",
   "language": "python",
   "name": "python3"
  },
  "language_info": {
   "codemirror_mode": {
    "name": "ipython",
    "version": 3
   },
   "file_extension": ".py",
   "mimetype": "text/x-python",
   "name": "python",
   "nbconvert_exporter": "python",
   "pygments_lexer": "ipython3",
   "version": "3.8.8"
  }
 },
 "nbformat": 4,
 "nbformat_minor": 5
}
