{
 "cells": [
  {
   "cell_type": "markdown",
   "metadata": {},
   "source": [
    "## Good or Bad string "
   ]
  },
  {
   "cell_type": "code",
   "execution_count": 26,
   "metadata": {},
   "outputs": [
    {
     "name": "stdout",
     "output_type": "stream",
     "text": [
      "good string\n"
     ]
    }
   ],
   "source": [
    "s=\"??????a\"\n",
    "a = \"aeiou\"\n",
    "count1 = 0\n",
    "count2 = 0\n",
    "for i in s:\n",
    "    if i not in a or i==\"?\":\n",
    "        count2 += 1\n",
    "        count1=0\n",
    "        if count2 > 3:\n",
    "            print(count2)\n",
    "            break\n",
    "    if i in a or i == \"?\":\n",
    "        count1 += 1\n",
    "        count2 = 0\n",
    "        if count1 > 5:\n",
    "            break\n",
    "if count1 > 5 or count2 > 3:\n",
    "    print(\"bad string\")\n",
    "else:\n",
    "    print(\"good string\")"
   ]
  },
  {
   "cell_type": "markdown",
   "metadata": {},
   "source": [
    "## Reverse words in a given string"
   ]
  },
  {
   "cell_type": "code",
   "execution_count": 48,
   "metadata": {},
   "outputs": [
    {
     "name": "stdout",
     "output_type": "stream",
     "text": [
      "much.very.program.this.like.i\n"
     ]
    }
   ],
   "source": [
    "string = \"i.like.this.program.very.much\"\n",
    "split_string = string.split(\".\")\n",
    "Reverse_string = []*len(split_string)\n",
    "for i in range(len(split_string)-1,-1,-1):\n",
    "    Reverse_string.append(split_string[i])\n",
    "print(\".\".join(Reverse_string))"
   ]
  },
  {
   "cell_type": "markdown",
   "metadata": {},
   "source": [
    "## Implement strstr"
   ]
  },
  {
   "cell_type": "code",
   "execution_count": 64,
   "metadata": {},
   "outputs": [
    {
     "data": {
      "text/plain": [
       "6"
      ]
     },
     "execution_count": 64,
     "metadata": {},
     "output_type": "execute_result"
    }
   ],
   "source": [
    "def strstr(s,x):\n",
    "    for i in range(len(s)):\n",
    "        if s[i:i+len(x)]==x:\n",
    "            return i\n",
    "    \n",
    "    return -1\n",
    "\n",
    "\n",
    "s = \"abcabcabcd\"\n",
    "x = \"abcd\"\n",
    "strstr(s,x)"
   ]
  },
  {
   "cell_type": "markdown",
   "metadata": {},
   "source": [
    "## Check for subsequence"
   ]
  },
  {
   "cell_type": "markdown",
   "metadata": {},
   "source": [
    "# With the  help of Iterative function "
   ]
  },
  {
   "cell_type": "code",
   "execution_count": 43,
   "metadata": {},
   "outputs": [
    {
     "name": "stdout",
     "output_type": "stream",
     "text": [
      "no\n"
     ]
    }
   ],
   "source": [
    "A = \"AXY\" \n",
    "B = \"YADXCP\"\n",
    "i = 0\n",
    "j = 0\n",
    "n = len(A)\n",
    "m = len(B)\n",
    "while i<n and j<m:\n",
    "    if A[i]==B[j]:\n",
    "        i=i+1\n",
    "    j=j+1\n",
    "\n",
    "if i==n:\n",
    "    print(\"yes\")\n",
    "else:\n",
    "    print(\"no\")\n",
    "\n",
    "        "
   ]
  },
  {
   "cell_type": "markdown",
   "metadata": {},
   "source": [
    "# With the help of recursive function"
   ]
  },
  {
   "cell_type": "code",
   "execution_count": 42,
   "metadata": {},
   "outputs": [
    {
     "name": "stdout",
     "output_type": "stream",
     "text": [
      "no\n"
     ]
    }
   ],
   "source": [
    "def isSubsequence(str1 , str2 , n , m):\n",
    "    if n == 0:\n",
    "        return True\n",
    "    if m == 0:\n",
    "        return False\n",
    "    \n",
    "    if str1[n-1]==str2[m-1]:\n",
    "        return isSubsequence(str1,str2,n-1,m-1)\n",
    "    return isSubsequence(str1,str2,n,m-1)\n",
    "\n",
    "str1 = \"AXY\" \n",
    "str2 = \"YADXCP\"\n",
    "\n",
    "if isSubsequence(str1,str2,len(str1),len(str2)):\n",
    "    print(\"yes\")\n",
    "else:\n",
    "    print(\"no\")"
   ]
  }
 ],
 "metadata": {
  "kernelspec": {
   "display_name": "Python 3",
   "language": "python",
   "name": "python3"
  },
  "language_info": {
   "codemirror_mode": {
    "name": "ipython",
    "version": 3
   },
   "file_extension": ".py",
   "mimetype": "text/x-python",
   "name": "python",
   "nbconvert_exporter": "python",
   "pygments_lexer": "ipython3",
   "version": "3.7.6"
  }
 },
 "nbformat": 4,
 "nbformat_minor": 4
}
