{
 "cells": [
  {
   "cell_type": "markdown",
   "metadata": {},
   "source": [
    "## Implementation of stack using array"
   ]
  },
  {
   "cell_type": "code",
   "execution_count": 15,
   "metadata": {},
   "outputs": [
    {
     "name": "stdout",
     "output_type": "stream",
     "text": [
      "-1\n",
      "True\n",
      "20\n",
      "[10, 20]\n",
      "False\n"
     ]
    }
   ],
   "source": [
    "def create_stack():\n",
    "    stack=[]\n",
    "    return stack\n",
    "    \n",
    "def push(stack,data):\n",
    "    return stack.append(data)\n",
    "    \n",
    "def isEmpty(stack):\n",
    "    return len(stack)==0\n",
    "\n",
    "def pop(stack):\n",
    "    if isEmpty(stack):\n",
    "        return -1\n",
    "    return stack.pop()\n",
    "\n",
    "def peek(stack):\n",
    "    return stack[len(stack)-1]\n",
    "\n",
    "\n",
    "stack = create_stack()\n",
    "print(pop(stack))\n",
    "print(isEmpty(stack))\n",
    "push(stack, 10)\n",
    "push(stack, 20)\n",
    "push(stack, 30)\n",
    "pop(stack)\n",
    "print(peek(stack))\n",
    "print(stack)\n",
    "print(isEmpty(stack))"
   ]
  },
  {
   "cell_type": "markdown",
   "metadata": {},
   "source": [
    "## Implementation of stack using linked-list"
   ]
  },
  {
   "cell_type": "code",
   "execution_count": 26,
   "metadata": {},
   "outputs": [
    {
     "name": "stdout",
     "output_type": "stream",
     "text": [
      "10 pushed to stack\n",
      "20 pushed to stack\n",
      "30 pushed to stack\n",
      "30 popped form stack\n"
     ]
    }
   ],
   "source": [
    "class Stacknode:\n",
    "    def __init__(self,data):\n",
    "        self.data = data\n",
    "        self.ref = None\n",
    "        \n",
    "class Stack:\n",
    "    def __init__(self):\n",
    "        self.root = None\n",
    "        \n",
    "    def isEmpty(self):\n",
    "        return True if self.root is None else False\n",
    "    \n",
    "    def push(self, data):\n",
    "        new_node = Stacknode(data)\n",
    "        new_node.ref = self.root\n",
    "        self.root = new_node\n",
    "        print(data,\"pushed to stack\")\n",
    "        \n",
    "    def pop(self):\n",
    "        if (self.isEmpty()):\n",
    "            return -1\n",
    "        temp = self.root\n",
    "        self.root = self.root.ref\n",
    "        popped =  temp.data\n",
    "        print(popped,\"popped form stack\")\n",
    "\n",
    "        \n",
    "stack = Stack()\n",
    "stack.push(10)\n",
    "stack.push(20)\n",
    "stack.push(30)\n",
    "stack.pop()"
   ]
  }
 ],
 "metadata": {
  "kernelspec": {
   "display_name": "Python 3",
   "language": "python",
   "name": "python3"
  },
  "language_info": {
   "codemirror_mode": {
    "name": "ipython",
    "version": 3
   },
   "file_extension": ".py",
   "mimetype": "text/x-python",
   "name": "python",
   "nbconvert_exporter": "python",
   "pygments_lexer": "ipython3",
   "version": "3.7.6"
  }
 },
 "nbformat": 4,
 "nbformat_minor": 4
}
