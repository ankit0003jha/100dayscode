{
 "cells": [
  {
   "cell_type": "markdown",
   "metadata": {},
   "source": [
    "### Check if two strings are k-anagrams or not "
   ]
  },
  {
   "cell_type": "code",
   "execution_count": 13,
   "metadata": {},
   "outputs": [
    {
     "name": "stdout",
     "output_type": "stream",
     "text": [
      "9\n",
      "9\n",
      "4\n",
      "5\n",
      "True\n"
     ]
    }
   ],
   "source": [
    "str1 = \"biggvhrbr\"\n",
    "str2=\"pznizcrvk\"\n",
    "k =5\n",
    "count1 = 0\n",
    "count2 = 0\n",
    "print(len(str1))\n",
    "print(len(str2))\n",
    "if len(str1)==len(str2):\n",
    "    for i in str1:\n",
    "        if i in str2:\n",
    "            count1 += 1\n",
    "        else:\n",
    "            count2 += 1\n",
    "else:\n",
    "    print(\"False\")\n",
    "print(count1)\n",
    "print(count2)\n",
    "if count2 == k or count2 < k:\n",
    "    print(\"True\")\n",
    "else:\n",
    "    print(\"False\")"
   ]
  },
  {
   "cell_type": "markdown",
   "metadata": {},
   "source": [
    "## Uncommon characters "
   ]
  },
  {
   "cell_type": "code",
   "execution_count": 20,
   "metadata": {},
   "outputs": [
    {
     "data": {
      "text/plain": [
       "'fioqruz'"
      ]
     },
     "execution_count": 20,
     "metadata": {},
     "output_type": "execute_result"
    }
   ],
   "source": [
    "def UncommonChars(A, B):\n",
    "    str1=\"\"\n",
    "\n",
    "    for i in A:\n",
    "        if i not in B:\n",
    "            if i not in str1:\n",
    "                str1 += i\n",
    "    for j in B:\n",
    "        if j not in A:\n",
    "            if j not in str1:\n",
    "                str1 += j\n",
    "    b=sorted(str1)\n",
    "    if len(str1)==0:\n",
    "        return -1\n",
    "    else:\n",
    "        return \"\".join(b)\n",
    "UncommonChars(\"geeksforgeeks\",\"geeksquiz\")"
   ]
  },
  {
   "cell_type": "markdown",
   "metadata": {},
   "source": [
    "\n",
    "## Anagram of String "
   ]
  },
  {
   "cell_type": "code",
   "execution_count": 39,
   "metadata": {},
   "outputs": [],
   "source": [
    "S1 = \"basgadhbfgvhads\"\n",
    "S2 = \"sjdhgvbjdsbhvbvd\"\n",
    "S3 = list(S2)\n",
    "count=0\n",
    "for i in S1:\n",
    "    if i in S3:\n",
    "        S3.remove(i)\n",
    "        count+=1\n",
    "        \n",
    "if len(S3)==0:\n",
    "    print(len(S1)-len(S2))"
   ]
  },
  {
   "cell_type": "code",
   "execution_count": 40,
   "metadata": {},
   "outputs": [
    {
     "data": {
      "text/plain": [
       "10"
      ]
     },
     "execution_count": 40,
     "metadata": {},
     "output_type": "execute_result"
    }
   ],
   "source": [
    "count"
   ]
  },
  {
   "cell_type": "markdown",
   "metadata": {},
   "source": [
    "## Non Repeating Character "
   ]
  },
  {
   "cell_type": "code",
   "execution_count": 48,
   "metadata": {},
   "outputs": [
    {
     "name": "stdout",
     "output_type": "stream",
     "text": [
      "h\n"
     ]
    }
   ],
   "source": [
    "S = \"hello\"\n",
    "l = list(S)\n",
    "for i in S:\n",
    "    l.remove(i)\n",
    "    if i in l:\n",
    "        continue\n",
    "    else:\n",
    "        print(i)\n",
    "        break"
   ]
  },
  {
   "cell_type": "code",
   "execution_count": null,
   "metadata": {},
   "outputs": [],
   "source": []
  }
 ],
 "metadata": {
  "kernelspec": {
   "display_name": "Python 3",
   "language": "python",
   "name": "python3"
  },
  "language_info": {
   "codemirror_mode": {
    "name": "ipython",
    "version": 3
   },
   "file_extension": ".py",
   "mimetype": "text/x-python",
   "name": "python",
   "nbconvert_exporter": "python",
   "pygments_lexer": "ipython3",
   "version": "3.7.6"
  }
 },
 "nbformat": 4,
 "nbformat_minor": 4
}
