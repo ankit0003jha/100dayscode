{
 "cells": [
  {
   "cell_type": "markdown",
   "metadata": {},
   "source": [
    "## Reverse a string"
   ]
  },
  {
   "cell_type": "code",
   "execution_count": null,
   "metadata": {},
   "outputs": [],
   "source": [
    "s = \"ankit jha\"\n",
    "r_s = \"\"\n",
    "for i in range(1,len(s)+1):\n",
    "    r_s += s[-i]\n",
    "print(r_s)"
   ]
  },
  {
   "cell_type": "code",
   "execution_count": 61,
   "metadata": {},
   "outputs": [],
   "source": [
    "count = [0]*256\n",
    "a = \"ankit\"\n",
    "for i in a:\n",
    "    count[ord(i)] += 1\n",
    "    "
   ]
  },
  {
   "cell_type": "markdown",
   "metadata": {},
   "source": [
    "## Title case conversion"
   ]
  },
  {
   "cell_type": "code",
   "execution_count": 83,
   "metadata": {},
   "outputs": [
    {
     "data": {
      "text/plain": [
       "'I Love Programming '"
      ]
     },
     "execution_count": 83,
     "metadata": {},
     "output_type": "execute_result"
    }
   ],
   "source": [
    " def transform( s):\n",
    "        a = s.split()\n",
    "        new = str()\n",
    "        for i in a:\n",
    "            i = i[0].title()+i[1:len(i)]+\" \"   #upper() #title()\n",
    "            new += i\n",
    "        return new\n",
    "transform(\"i love programming\")"
   ]
  },
  {
   "cell_type": "markdown",
   "metadata": {},
   "source": [
    "## Sort the string in descending order"
   ]
  },
  {
   "cell_type": "code",
   "execution_count": 189,
   "metadata": {},
   "outputs": [
    {
     "data": {
      "text/plain": [
       "'tnkia'"
      ]
     },
     "execution_count": 189,
     "metadata": {},
     "output_type": "execute_result"
    }
   ],
   "source": [
    "def ReverseSort(str): \n",
    "    new_str = \"\"\n",
    "    str = sorted(str)\n",
    "    for i in str:\n",
    "        new_str += i\n",
    "    return new_str[::-1]\n",
    "ReverseSort(\"ankit\")"
   ]
  },
  {
   "cell_type": "markdown",
   "metadata": {},
   "source": [
    "## Pick a random number"
   ]
  },
  {
   "cell_type": "code",
   "execution_count": 4,
   "metadata": {},
   "outputs": [
    {
     "name": "stdout",
     "output_type": "stream",
     "text": [
      "Welcome to the Number Guessing Game.\n",
      "I'am thinking of a number between 1 to 100.\n",
      "Chosse a difficulty level. Type 'easy' or 'hard'-->easy\n",
      "46\n",
      "make a guess-->46\n",
      "You Win\n"
     ]
    }
   ],
   "source": [
    "import random\n",
    "\n",
    "print(\"Welcome to the Number Guessing Game.\")\n",
    "print(\"I'am thinking of a number between 1 to 100.\")\n",
    "level = input(\"Chosse a difficulty level. Type 'easy' or 'hard'-->\")\n",
    "\n",
    "random_number = random.randint(1,100)\n",
    "\n",
    "def Number_guessing(attempt):\n",
    "  random = random_number\n",
    "  print(random)\n",
    "  attempts = attempt\n",
    "  while attempts != 0:\n",
    "      guess = int(input(\"make a guess-->\"))\n",
    "      if guess > random:\n",
    "        print(\"Too high\")\n",
    "        print(\"Guess again\")\n",
    "        print(\"you have\",attempts-1,\"attempts remaining to guess the answer \")\n",
    "        attempts = attempts - 1\n",
    "      elif guess < random:\n",
    "        print(\"Too low\")\n",
    "        print(\"guess again\")\n",
    "        print(f\"you have {attempts-1} attempts remaining to guess the answer \")\n",
    "        attempts = attempts - 1\n",
    "      else:\n",
    "        print(\"You Win\")\n",
    "        attempts = 0\n",
    "\n",
    "\n",
    "\n",
    "if level == \"easy\":\n",
    "  Number_guessing(5)\n",
    "else:\n",
    "  Number_guessing(10)\n"
   ]
  },
  {
   "cell_type": "markdown",
   "metadata": {},
   "source": [
    "## Merge two string"
   ]
  },
  {
   "cell_type": "code",
   "execution_count": 72,
   "metadata": {},
   "outputs": [
    {
     "name": "stdout",
     "output_type": "stream",
     "text": [
      "adbecf\n"
     ]
    }
   ],
   "source": [
    "a = \"abc\"\n",
    "b = \"def\"\n",
    "l = [] * (len(a)+len(b))\n",
    "for i in a:\n",
    "    l.append(i)\n",
    "    l.append('')\n",
    "temp = -1\n",
    "for i in b:\n",
    "    l[temp+2] += i\n",
    "    temp += 2\n",
    "print(\"\".join(l))"
   ]
  },
  {
   "cell_type": "code",
   "execution_count": 75,
   "metadata": {},
   "outputs": [
    {
     "name": "stdout",
     "output_type": "stream",
     "text": [
      "adbe\n"
     ]
    }
   ],
   "source": [
    "a=\"ab\"\n",
    "b=\"de\"\n",
    "i=0\n",
    "ans = \"\"\n",
    "while i<len(a) or i<len(b):\n",
    "    if i < len(a):\n",
    "        ans += a[i]\n",
    "    if i < len(b):\n",
    "        ans += b[i]\n",
    "    i += 1\n",
    "print(ans)"
   ]
  },
  {
   "cell_type": "markdown",
   "metadata": {},
   "source": [
    "## Save Ironman"
   ]
  },
  {
   "cell_type": "code",
   "execution_count": 93,
   "metadata": {},
   "outputs": [],
   "source": [
    "s=\"I am :IronnorI Ma, i\"\n",
    "alpha = \"\".join(filter(str.isalnum , s))"
   ]
  },
  {
   "cell_type": "code",
   "execution_count": 94,
   "metadata": {},
   "outputs": [
    {
     "name": "stdout",
     "output_type": "stream",
     "text": [
      "IamIronnorIMai\n"
     ]
    }
   ],
   "source": [
    "print(alpha)"
   ]
  },
  {
   "cell_type": "code",
   "execution_count": 95,
   "metadata": {},
   "outputs": [],
   "source": [
    "a=alpha.lower()"
   ]
  },
  {
   "cell_type": "code",
   "execution_count": 90,
   "metadata": {},
   "outputs": [
    {
     "data": {
      "text/plain": [
       "'iamironnorimai'"
      ]
     },
     "execution_count": 90,
     "metadata": {},
     "output_type": "execute_result"
    }
   ],
   "source": [
    "a[::-1]"
   ]
  },
  {
   "cell_type": "code",
   "execution_count": 96,
   "metadata": {},
   "outputs": [
    {
     "name": "stdout",
     "output_type": "stream",
     "text": [
      "YES\n"
     ]
    }
   ],
   "source": [
    "if a == a[::-1]:\n",
    "    print(\"YES\")\n",
    "else:\n",
    "    print(\"NO\")\n"
   ]
  },
  {
   "cell_type": "markdown",
   "metadata": {},
   "source": [
    "## Extract maximum"
   ]
  },
  {
   "cell_type": "code",
   "execution_count": 185,
   "metadata": {},
   "outputs": [
    {
     "name": "stdout",
     "output_type": "stream",
     "text": [
      "8890\n"
     ]
    }
   ],
   "source": [
    "num=0\n",
    "res=0\n",
    "ss=\"10kg8890\"\n",
    "for i in range(0,len(ss)):\n",
    "    if ss[i] <= '9' and ss[i] >='0':\n",
    "        num = num * 10 + int(int(ss[i]) - 0)\n",
    "    else:\n",
    "        res = max(res, num)\n",
    "        num = 0\n",
    "\n",
    "print(max(res,num))"
   ]
  }
 ],
 "metadata": {
  "kernelspec": {
   "display_name": "Python 3",
   "language": "python",
   "name": "python3"
  },
  "language_info": {
   "codemirror_mode": {
    "name": "ipython",
    "version": 3
   },
   "file_extension": ".py",
   "mimetype": "text/x-python",
   "name": "python",
   "nbconvert_exporter": "python",
   "pygments_lexer": "ipython3",
   "version": "3.7.6"
  }
 },
 "nbformat": 4,
 "nbformat_minor": 4
}
