{
 "cells": [
  {
   "cell_type": "markdown",
   "id": "582da634",
   "metadata": {},
   "source": [
    "## Count the Number of Consistent Strings"
   ]
  },
  {
   "cell_type": "markdown",
   "id": "919e6d5c",
   "metadata": {},
   "source": [
    "You are given a string allowed consisting of distinct characters and an array of strings words. A string is consistent if all characters in the string appear in the string allowed.\n",
    "\n",
    "Return the number of consistent strings in the array words.\n",
    "\n",
    " \n",
    "\n",
    "## Example 1:\n",
    "\n",
    "Input: allowed = \"ab\", words = [\"ad\",\"bd\",\"aaab\",\"baa\",\"badab\"]\n",
    "Output: 2\n",
    "Explanation: Strings \"aaab\" and \"baa\" are consistent since they only contain characters 'a' and 'b'.\n",
    "\n",
    "    \n",
    "## Example 2:\n",
    "\n",
    "Input: allowed = \"abc\", words = [\"a\",\"b\",\"c\",\"ab\",\"ac\",\"bc\",\"abc\"]\n",
    "Output: 7\n",
    "Explanation: All strings are consistent."
   ]
  },
  {
   "cell_type": "code",
   "execution_count": 22,
   "id": "aca560ee",
   "metadata": {},
   "outputs": [
    {
     "data": {
      "text/plain": [
       "2"
      ]
     },
     "execution_count": 22,
     "metadata": {},
     "output_type": "execute_result"
    }
   ],
   "source": [
    "class Solution:\n",
    "    def countConsistentStrings(self, allowed , words):\n",
    "        new=[]\n",
    "        for i in words:\n",
    "            for j in i:\n",
    "                if j not in allowed:\n",
    "                    break\n",
    "            else:\n",
    "                new.append(i)\n",
    "        return len(new)\n",
    "  \n",
    "\n",
    "sol = Solution()\n",
    "allowed = \"ab\"\n",
    "words = [\"ad\",\"bd\",\"aaab\",\"baa\",\"badab\"]\n",
    "sol.countConsistentStrings(allowed,words)"
   ]
  },
  {
   "cell_type": "code",
   "execution_count": 23,
   "id": "5ad6e8f4",
   "metadata": {},
   "outputs": [
    {
     "data": {
      "text/plain": [
       "7"
      ]
     },
     "execution_count": 23,
     "metadata": {},
     "output_type": "execute_result"
    }
   ],
   "source": [
    "class Solution:\n",
    "    def countConsistentStrings(self, allowed , words):\n",
    "        new=[]\n",
    "        for i in words:\n",
    "            for j in i:\n",
    "                if j not in allowed:\n",
    "                    break\n",
    "            else:\n",
    "                new.append(i)\n",
    "        return len(new)\n",
    "  \n",
    "\n",
    "sol = Solution()\n",
    "allowed = \"abc\"\n",
    "words = [\"a\",\"b\",\"c\",\"ab\",\"ac\",\"bc\",\"abc\"] \n",
    "sol.countConsistentStrings(allowed,words)"
   ]
  },
  {
   "cell_type": "code",
   "execution_count": null,
   "id": "c18d4889",
   "metadata": {},
   "outputs": [],
   "source": []
  }
 ],
 "metadata": {
  "kernelspec": {
   "display_name": "Python 3",
   "language": "python",
   "name": "python3"
  },
  "language_info": {
   "codemirror_mode": {
    "name": "ipython",
    "version": 3
   },
   "file_extension": ".py",
   "mimetype": "text/x-python",
   "name": "python",
   "nbconvert_exporter": "python",
   "pygments_lexer": "ipython3",
   "version": "3.8.8"
  }
 },
 "nbformat": 4,
 "nbformat_minor": 5
}
