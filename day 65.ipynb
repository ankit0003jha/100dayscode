{
 "cells": [
  {
   "cell_type": "markdown",
   "id": "100e75a1",
   "metadata": {},
   "source": [
    "## Length of Last Word"
   ]
  },
  {
   "cell_type": "markdown",
   "id": "466edcab",
   "metadata": {},
   "source": [
    "Given a string s consisting of some words separated by some number of spaces, return the length of the last word in the string.\n",
    "\n",
    "A word is a maximal substring consisting of non-space characters only."
   ]
  },
  {
   "cell_type": "markdown",
   "id": "30027db3",
   "metadata": {},
   "source": [
    "# Example 1:\n",
    "\n",
    "Input: s = \"Hello World\" \n",
    "    \n",
    "Output: 5\n",
    "\n",
    "Explanation: The last word is \"World\" with length 5.\n",
    "    \n",
    "# Example 2:\n",
    "\n",
    "Input: s = \"   fly me   to   the moon  \"\n",
    "    \n",
    "Output: 4\n",
    "\n",
    "Explanation: The last word is \"moon\" with length 4.\n",
    "    \n",
    "# Example 3:\n",
    "\n",
    "Input: s = \"luffy is still joyboy\"\n",
    "    \n",
    "Output: 6\n",
    "\n",
    "Explanation: The last word is \"joyboy\" with length 6."
   ]
  },
  {
   "cell_type": "code",
   "execution_count": 25,
   "id": "c9eca761",
   "metadata": {},
   "outputs": [
    {
     "data": {
      "text/plain": [
       "4"
      ]
     },
     "execution_count": 25,
     "metadata": {},
     "output_type": "execute_result"
    }
   ],
   "source": [
    "class Solution:\n",
    "    def lengthOfLastWord(self, s):\n",
    "        lists = s[::-1].split()\n",
    "        return len(lists[0])\n",
    "    \n",
    "sol = Solution()\n",
    "s =  \" fly me to the moon \"\n",
    "sol.lengthOfLastWord(s)"
   ]
  },
  {
   "cell_type": "code",
   "execution_count": 27,
   "id": "b25909d4",
   "metadata": {},
   "outputs": [
    {
     "data": {
      "text/plain": [
       "['noom', 'eht', 'ot', 'em', 'ylf']"
      ]
     },
     "execution_count": 27,
     "metadata": {},
     "output_type": "execute_result"
    }
   ],
   "source": [
    "s =  \" fly me to the moon \"\n",
    "s[::-1].split()"
   ]
  },
  {
   "cell_type": "code",
   "execution_count": null,
   "id": "5578f806",
   "metadata": {},
   "outputs": [],
   "source": []
  }
 ],
 "metadata": {
  "kernelspec": {
   "display_name": "Python 3",
   "language": "python",
   "name": "python3"
  },
  "language_info": {
   "codemirror_mode": {
    "name": "ipython",
    "version": 3
   },
   "file_extension": ".py",
   "mimetype": "text/x-python",
   "name": "python",
   "nbconvert_exporter": "python",
   "pygments_lexer": "ipython3",
   "version": "3.8.8"
  }
 },
 "nbformat": 4,
 "nbformat_minor": 5
}
