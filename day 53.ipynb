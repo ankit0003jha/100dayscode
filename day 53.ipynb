{
 "cells": [
  {
   "cell_type": "markdown",
   "id": "63675ff5",
   "metadata": {},
   "source": [
    "## Count Squares"
   ]
  },
  {
   "cell_type": "code",
   "execution_count": 27,
   "id": "c09a6475",
   "metadata": {},
   "outputs": [
    {
     "data": {
      "text/plain": [
       "4"
      ]
     },
     "execution_count": 27,
     "metadata": {},
     "output_type": "execute_result"
    }
   ],
   "source": [
    "import math\n",
    "class Solution:\n",
    "    def countSquares(self, N):\n",
    "        count = 0\n",
    "        for i in range(1, int(math.sqrt(N))):\n",
    "            if i*i < N:\n",
    "                count+=1\n",
    "        return count   \n",
    "sol = Solution()\n",
    "sol.countSquares(25)"
   ]
  },
  {
   "cell_type": "code",
   "execution_count": 23,
   "id": "546a9f83",
   "metadata": {},
   "outputs": [
    {
     "data": {
      "text/plain": [
       "5"
      ]
     },
     "execution_count": 23,
     "metadata": {},
     "output_type": "execute_result"
    }
   ],
   "source": [
    "class Solution:\n",
    "    def countSquares(self, N):\n",
    "        count = 0\n",
    "        for i in range(1, N):\n",
    "            if i*i < N:\n",
    "                count+=1\n",
    "        return count   \n",
    "sol = Solution()\n",
    "sol.countSquares(36)"
   ]
  },
  {
   "cell_type": "code",
   "execution_count": 24,
   "id": "fd8abebe",
   "metadata": {},
   "outputs": [
    {
     "name": "stdout",
     "output_type": "stream",
     "text": [
      "1 1\n",
      "2 4\n",
      "3 9\n",
      "4 16\n"
     ]
    },
    {
     "data": {
      "text/plain": [
       "4"
      ]
     },
     "execution_count": 24,
     "metadata": {},
     "output_type": "execute_result"
    }
   ],
   "source": [
    "def countSquares(N):\n",
    "    count = 0\n",
    "    for i in range(1, N):\n",
    "        b = i*i\n",
    "        if b < N:\n",
    "            count+=1\n",
    "            print(i, b)\n",
    "    return count   \n",
    "countSquares(25)"
   ]
  },
  {
   "cell_type": "code",
   "execution_count": null,
   "id": "51e7f7b9",
   "metadata": {},
   "outputs": [],
   "source": []
  }
 ],
 "metadata": {
  "kernelspec": {
   "display_name": "Python 3",
   "language": "python",
   "name": "python3"
  },
  "language_info": {
   "codemirror_mode": {
    "name": "ipython",
    "version": 3
   },
   "file_extension": ".py",
   "mimetype": "text/x-python",
   "name": "python",
   "nbconvert_exporter": "python",
   "pygments_lexer": "ipython3",
   "version": "3.8.8"
  }
 },
 "nbformat": 4,
 "nbformat_minor": 5
}
