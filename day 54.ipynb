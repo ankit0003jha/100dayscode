{
 "cells": [
  {
   "cell_type": "markdown",
   "id": "c3e6560b",
   "metadata": {},
   "source": [
    "## What is BFS and DFS?"
   ]
  },
  {
   "cell_type": "markdown",
   "id": "9f9ac6fb",
   "metadata": {},
   "source": [
    "# Breadth First Search"
   ]
  },
  {
   "cell_type": "markdown",
   "id": "85374a13",
   "metadata": {},
   "source": [
    "\n",
    "BFS stands for Breadth First Search is a vertex based technique for finding a shortest path in graph. It uses a Queue data structure which follows first in first out. In BFS, one vertex is selected at a time when it is visited and marked then its adjacent are visited and stored in the queue. It is slower than DFS. "
   ]
  },
  {
   "cell_type": "markdown",
   "id": "74168bec",
   "metadata": {},
   "source": [
    "        A\n",
    "       / \\\n",
    "      B   C\n",
    "     /   / \\\n",
    "    D   E   F"
   ]
  },
  {
   "cell_type": "markdown",
   "id": "8063e3ed",
   "metadata": {},
   "source": [
    "output - A, B, C, D, E, F"
   ]
  },
  {
   "cell_type": "markdown",
   "id": "061ffaa6",
   "metadata": {},
   "source": [
    "# Depth First Search"
   ]
  },
  {
   "cell_type": "markdown",
   "id": "d249f395",
   "metadata": {},
   "source": [
    "DFS stands for Depth First Search is a edge based technique. It uses the Stack data structure, performs two stages, first visited vertices are pushed into stack and second if there is no vertices then visited vertices are popped. "
   ]
  },
  {
   "cell_type": "markdown",
   "id": "4c16cf68",
   "metadata": {},
   "source": [
    "        A\n",
    "       / \\\n",
    "      B   C\n",
    "     /   / \\\n",
    "    D   E   F"
   ]
  },
  {
   "cell_type": "markdown",
   "id": "f0a95ad0",
   "metadata": {},
   "source": [
    "output - A, B, D, C, E, F"
   ]
  },
  {
   "cell_type": "markdown",
   "id": "ab141116",
   "metadata": {},
   "source": [
    "You can visit this link for more accurate understanding - https://www.guru99.com/difference-between-bfs-and-dfs.html"
   ]
  }
 ],
 "metadata": {
  "kernelspec": {
   "display_name": "Python 3",
   "language": "python",
   "name": "python3"
  },
  "language_info": {
   "codemirror_mode": {
    "name": "ipython",
    "version": 3
   },
   "file_extension": ".py",
   "mimetype": "text/x-python",
   "name": "python",
   "nbconvert_exporter": "python",
   "pygments_lexer": "ipython3",
   "version": "3.8.8"
  }
 },
 "nbformat": 4,
 "nbformat_minor": 5
}
