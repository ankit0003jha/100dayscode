{
 "cells": [
  {
   "cell_type": "markdown",
   "id": "883e382c",
   "metadata": {},
   "source": [
    "## Remove List"
   ]
  },
  {
   "cell_type": "code",
   "execution_count": 8,
   "id": "dcdd27bc",
   "metadata": {},
   "outputs": [
    {
     "name": "stdout",
     "output_type": "stream",
     "text": [
      "[1, 2, 3, 4, 5, 6, 7, 8, 9]\n"
     ]
    }
   ],
   "source": [
    "list1=[]\n",
    "def remove_list(a):\n",
    "    for i in a:\n",
    "        if type(i) == int:\n",
    "            list1.append(i)\n",
    "        else:\n",
    "            remove_list(i)\n",
    "   \n",
    "        \n",
    "remove_list([1,[2,3,[4,5]],[6,7,8,9]])\n",
    "print(list1)"
   ]
  },
  {
   "cell_type": "code",
   "execution_count": null,
   "id": "83434ce1",
   "metadata": {},
   "outputs": [],
   "source": []
  },
  {
   "cell_type": "code",
   "execution_count": null,
   "id": "d1de0de5",
   "metadata": {},
   "outputs": [],
   "source": []
  }
 ],
 "metadata": {
  "kernelspec": {
   "display_name": "Python 3",
   "language": "python",
   "name": "python3"
  },
  "language_info": {
   "codemirror_mode": {
    "name": "ipython",
    "version": 3
   },
   "file_extension": ".py",
   "mimetype": "text/x-python",
   "name": "python",
   "nbconvert_exporter": "python",
   "pygments_lexer": "ipython3",
   "version": "3.8.8"
  }
 },
 "nbformat": 4,
 "nbformat_minor": 5
}
