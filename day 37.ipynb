{
 "cells": [
  {
   "cell_type": "markdown",
   "metadata": {},
   "source": [
    "### Count the number of possible triangles "
   ]
  },
  {
   "cell_type": "markdown",
   "metadata": {},
   "source": [
    "## BY THE HELP OF BRUTE FORCE ALGORITHM"
   ]
  },
  {
   "cell_type": "code",
   "execution_count": 7,
   "metadata": {},
   "outputs": [
    {
     "data": {
      "text/plain": [
       "19"
      ]
     },
     "execution_count": 7,
     "metadata": {},
     "output_type": "execute_result"
    }
   ],
   "source": [
    "def Possible_triangle(arr, n):\n",
    "    count = 0\n",
    "    \n",
    "    for i in range(0, n):\n",
    "        for j in range(i+1, n):\n",
    "            for k in range(j+1, n):\n",
    "                if arr[i] + arr[j] > arr[k] and arr[k] + arr[j] > arr[j] and arr[i] + arr[k] > arr[i]:\n",
    "                    count += 1\n",
    "    return count \n",
    "\n",
    "\n",
    "arr = [26 ,9 ,27 ,22 ,16 ,27]\n",
    "n = 6\n",
    "Possible_triangle(arr, n)"
   ]
  },
  {
   "cell_type": "markdown",
   "metadata": {},
   "source": [
    "## BY THE HELP OF TWO POINTER ALGORITHM"
   ]
  },
  {
   "cell_type": "code",
   "execution_count": 6,
   "metadata": {},
   "outputs": [
    {
     "data": {
      "text/plain": [
       "10"
      ]
     },
     "execution_count": 6,
     "metadata": {},
     "output_type": "execute_result"
    }
   ],
   "source": [
    "def Possible_triangle(arr, n):\n",
    "    count = 0\n",
    "    arr.sort()\n",
    "    for i in range(n-1, 0, -1):\n",
    "        l = 0\n",
    "        r = i-1\n",
    "        while (l<r):\n",
    "            if arr[l] + arr[r] > arr[i]:\n",
    "                count += r-l\n",
    "                r -= 1\n",
    "            else:\n",
    "                l += 1\n",
    "                \n",
    "    return count \n",
    "\n",
    "\n",
    "arr = [6, 4, 9, 7, 8]\n",
    "n = 5\n",
    "Possible_triangle(arr, n)"
   ]
  },
  {
   "cell_type": "markdown",
   "metadata": {},
   "source": [
    "### Leaders in an array "
   ]
  },
  {
   "cell_type": "code",
   "execution_count": 30,
   "metadata": {},
   "outputs": [
    {
     "name": "stdout",
     "output_type": "stream",
     "text": [
      "17\n",
      "5\n",
      "2\n"
     ]
    }
   ],
   "source": [
    "A=[16,17,4,3,5,2]\n",
    "for i in range(0,len(A)):\n",
    "    for j in range(i+1,len(A)):\n",
    "        if A[i]<=A[j]:\n",
    "            break\n",
    "    if j == len(A)-1:\n",
    "        print(A[i])"
   ]
  },
  {
   "cell_type": "code",
   "execution_count": 2,
   "metadata": {
    "scrolled": true
   },
   "outputs": [
    {
     "name": "stdout",
     "output_type": "stream",
     "text": [
      "5\n",
      "17\n"
     ]
    }
   ],
   "source": [
    "A=[16,17,4,3,5,2]\n",
    "size = len(A)\n",
    "max_right  = A[size - 1]\n",
    "for i in range(size-2, -1, -1):\n",
    "    if max_right < A[i]:\n",
    "        print(A[i])\n",
    "        max_right = A[i]\n",
    "        "
   ]
  },
  {
   "cell_type": "code",
   "execution_count": null,
   "metadata": {},
   "outputs": [],
   "source": []
  },
  {
   "cell_type": "code",
   "execution_count": null,
   "metadata": {},
   "outputs": [],
   "source": []
  }
 ],
 "metadata": {
  "kernelspec": {
   "display_name": "Python 3",
   "language": "python",
   "name": "python3"
  },
  "language_info": {
   "codemirror_mode": {
    "name": "ipython",
    "version": 3
   },
   "file_extension": ".py",
   "mimetype": "text/x-python",
   "name": "python",
   "nbconvert_exporter": "python",
   "pygments_lexer": "ipython3",
   "version": "3.7.6"
  }
 },
 "nbformat": 4,
 "nbformat_minor": 4
}
