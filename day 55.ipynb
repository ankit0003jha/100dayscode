{
 "cells": [
  {
   "cell_type": "markdown",
   "id": "7ab2a10f",
   "metadata": {},
   "source": [
    "## Jumping numbers\n"
   ]
  },
  {
   "cell_type": "code",
   "execution_count": null,
   "id": "54f76518",
   "metadata": {},
   "outputs": [],
   "source": [
    "\n",
    "# Class queue for use later\n",
    "class Queue:\n",
    "    def __init__(self):\n",
    "        self.lst = []\n",
    "\n",
    "    def is_empty(self):\n",
    "        return self.lst == []\n",
    "\n",
    "    def enqueue(self, elem):\n",
    "        self.lst.append(elem)\n",
    "\n",
    "    def dequeue(self):\n",
    "        return self.lst.pop(0)\n",
    "\n",
    "# Prints all jumping numbers smaller than or equal to\n",
    "# x starting with 'num'. It mainly does BFS starting\n",
    "# from 'num'.\n",
    "def bfs(x, num):\n",
    "\n",
    "    # Create a queue and enqueue i to it\n",
    "    q = Queue()\n",
    "    q.enqueue(num)\n",
    "\n",
    "    # Do BFS starting from 1\n",
    "    while (not q.is_empty()):\n",
    "        num = q.dequeue()\n",
    "\n",
    "        if num<= x:\n",
    "            print(str(num), end =' ')\n",
    "            last_dig = num % 10\n",
    "\n",
    "            # If last digit is 0, append next digit only\n",
    "            if last_dig == 0:\n",
    "                q.enqueue((num * 10) + (last_dig + 1))\n",
    "\n",
    "            # If last digit is 9, append previous digit\n",
    "            # only\n",
    "            elif last_dig == 9:\n",
    "                q.enqueue((num * 10) + (last_dig - 1))\n",
    "\n",
    "            # If last digit is neighter 0 nor 9, append\n",
    "            # both previous digit and next digit\n",
    "            else:\n",
    "                q.enqueue((num * 10) + (last_dig - 1))\n",
    "                q.enqueue((num * 10) + (last_dig + 1))\n",
    "\n",
    "# Prints all jumping numbers smaller than or equal to\n",
    "# a positive number x\n",
    "def printJumping(x):\n",
    "    print (str(0), end =' ')\n",
    "    for i in range(1, 10):\n",
    "        bfs(x, i)\n",
    "\n",
    "# Driver Program ( Change value of x as desired )\n",
    "x = 40\n",
    "printJumping(x)\n",
    "\n",
    "# This code is contributed by Saket Modi\n"
   ]
  }
 ],
 "metadata": {
  "kernelspec": {
   "display_name": "Python 3",
   "language": "python",
   "name": "python3"
  },
  "language_info": {
   "codemirror_mode": {
    "name": "ipython",
    "version": 3
   },
   "file_extension": ".py",
   "mimetype": "text/x-python",
   "name": "python",
   "nbconvert_exporter": "python",
   "pygments_lexer": "ipython3",
   "version": "3.8.8"
  }
 },
 "nbformat": 4,
 "nbformat_minor": 5
}
