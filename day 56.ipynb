{
 "cells": [
  {
   "cell_type": "markdown",
   "id": "7e0c2449",
   "metadata": {},
   "source": [
    "## Top 100 Liked Questions\n",
    "LeetCode (String)"
   ]
  },
  {
   "cell_type": "markdown",
   "id": "3866e588",
   "metadata": {},
   "source": [
    "##  Longest Substring Without Repeating Characters"
   ]
  },
  {
   "cell_type": "code",
   "execution_count": 34,
   "id": "03979a91",
   "metadata": {},
   "outputs": [
    {
     "name": "stdout",
     "output_type": "stream",
     "text": [
      "3\n"
     ]
    }
   ],
   "source": [
    "new_str = \"\"\n",
    "list1 = []\n",
    "s = \"abcabcbb\"\n",
    "for i in s:\n",
    "    if i not in new_str:\n",
    "        new_str+=i\n",
    "        list1.append(len(new_str))\n",
    "    else:\n",
    "        list1.append(len(new_str))\n",
    "        new_str = \"\"\n",
    "        new_str+=i\n",
    "print(max(list1))"
   ]
  },
  {
   "cell_type": "code",
   "execution_count": 32,
   "id": "3c16a47e",
   "metadata": {},
   "outputs": [
    {
     "data": {
      "text/plain": [
       "3"
      ]
     },
     "execution_count": 32,
     "metadata": {},
     "output_type": "execute_result"
    }
   ],
   "source": [
    "class Solution:\n",
    "    def lengthOfLongestSubstring(self, s: str) -> int:\n",
    "        char_set=[]\n",
    "        res = 0\n",
    "        for i in s:\n",
    "            while i in char_set:\n",
    "                char_set.pop(0)\n",
    "            char_set.append(i)\n",
    "            res = max(len(char_set),res)\n",
    "        return res\n",
    "    \n",
    "sol = Solution()\n",
    "s=\"dvdf\"\n",
    "sol.lengthOfLongestSubstring(s)\n",
    "        "
   ]
  }
 ],
 "metadata": {
  "kernelspec": {
   "display_name": "Python 3",
   "language": "python",
   "name": "python3"
  },
  "language_info": {
   "codemirror_mode": {
    "name": "ipython",
    "version": 3
   },
   "file_extension": ".py",
   "mimetype": "text/x-python",
   "name": "python",
   "nbconvert_exporter": "python",
   "pygments_lexer": "ipython3",
   "version": "3.8.8"
  }
 },
 "nbformat": 4,
 "nbformat_minor": 5
}
