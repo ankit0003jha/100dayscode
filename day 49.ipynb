{
 "cells": [
  {
   "cell_type": "markdown",
   "id": "7cd34960",
   "metadata": {},
   "source": [
    "## Add two fractions "
   ]
  },
  {
   "cell_type": "code",
   "execution_count": 3,
   "id": "e6d5cedc",
   "metadata": {},
   "outputs": [
    {
     "name": "stdout",
     "output_type": "stream",
     "text": [
      "1 / 300\n"
     ]
    }
   ],
   "source": [
    "def gcd(a, b):\n",
    "    if (a == 0):\n",
    "        return b\n",
    "    return gcd(b % a, a)\n",
    " \n",
    "\n",
    "def lowest(den3, num3):\n",
    "    common_factor = gcd(num3, den3)\n",
    "    den3 = int(den3 / common_factor)\n",
    "    num3 = int(num3 / common_factor)\n",
    "    print(num3, \"/\", den3)\n",
    " \n",
    "# Function to add two fractions\n",
    "def addFraction(num1, den1, num2, den2):\n",
    "    den3 = gcd(den1, den2);\n",
    "    den3 = (den1 * den2) / den3;\n",
    "    num3 = ((num1) * (den3 / den1) +\n",
    "            (num2) * (den3 / den2))\n",
    "    lowest(den3, num3)\n",
    " \n",
    "num1 = 1; den1 = 500\n",
    "num2 = 2; den2 = 1500\n",
    " \n",
    "addFraction(num1, den1, num2, den2)\n"
   ]
  },
  {
   "cell_type": "markdown",
   "id": "3a625666",
   "metadata": {},
   "source": [
    "## GCD of Array"
   ]
  },
  {
   "cell_type": "code",
   "execution_count": 11,
   "id": "753b0e81",
   "metadata": {},
   "outputs": [
    {
     "name": "stdout",
     "output_type": "stream",
     "text": [
      "3\n"
     ]
    }
   ],
   "source": [
    "def gcd(a,b):\n",
    "    if b==0:\n",
    "        return a\n",
    "    return gcd(b,a%b)\n",
    "\n",
    "l=[15 ,12 ,5 ,2 ,19 ,13]\n",
    "num1 = l[0]\n",
    "num2 = l[1]\n",
    "Gcd = gcd(num1, num2)\n",
    "for i in range(2,len(l)):\n",
    "    gcd(Gcd, l[i])\n",
    "print(Gcd)"
   ]
  }
 ],
 "metadata": {
  "kernelspec": {
   "display_name": "Python 3",
   "language": "python",
   "name": "python3"
  },
  "language_info": {
   "codemirror_mode": {
    "name": "ipython",
    "version": 3
   },
   "file_extension": ".py",
   "mimetype": "text/x-python",
   "name": "python",
   "nbconvert_exporter": "python",
   "pygments_lexer": "ipython3",
   "version": "3.8.8"
  }
 },
 "nbformat": 4,
 "nbformat_minor": 5
}
